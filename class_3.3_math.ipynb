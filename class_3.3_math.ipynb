{
 "cells": [
  {
   "cell_type": "markdown",
   "id": "cf2d269d",
   "metadata": {},
   "source": [
    "# Python Built in Function"
   ]
  },
  {
   "cell_type": "code",
   "execution_count": 3,
   "id": "bbc3baa5",
   "metadata": {},
   "outputs": [
    {
     "name": "stdout",
     "output_type": "stream",
     "text": [
      "4\n",
      "-10\n",
      "30\n"
     ]
    }
   ],
   "source": [
    "l=[10,20,30,-10]\n",
    "print(len(l))\n",
    "print(min(l))\n",
    "print(max(l))\n",
    "#print(mean(l))"
   ]
  },
  {
   "cell_type": "code",
   "execution_count": 4,
   "id": "cb99dcfb",
   "metadata": {},
   "outputs": [
    {
     "name": "stdout",
     "output_type": "stream",
     "text": [
      "12.5\n"
     ]
    }
   ],
   "source": [
    "l=[10,20,30,-10]\n",
    "sum=0\n",
    "for x in l:\n",
    "    sum=sum+x\n",
    "    \n",
    "result=sum/len(l)\n",
    "print(result)"
   ]
  },
  {
   "cell_type": "code",
   "execution_count": 5,
   "id": "83ece3ff",
   "metadata": {},
   "outputs": [
    {
     "name": "stdout",
     "output_type": "stream",
     "text": [
      "12.5\n"
     ]
    }
   ],
   "source": [
    "import numpy\n",
    "print(numpy.mean(l))"
   ]
  },
  {
   "cell_type": "code",
   "execution_count": 9,
   "id": "788ddad7",
   "metadata": {},
   "outputs": [
    {
     "name": "stdout",
     "output_type": "stream",
     "text": [
      "3.75\n"
     ]
    },
    {
     "data": {
      "text/plain": [
       "8"
      ]
     },
     "execution_count": 9,
     "metadata": {},
     "output_type": "execute_result"
    }
   ],
   "source": [
    "print(abs(-3.75))\n",
    "pow(2,3)"
   ]
  },
  {
   "cell_type": "markdown",
   "id": "5864b223",
   "metadata": {},
   "source": [
    "# The Math Module\n",
    "Python has also a built-in module called math, which extends the list of mathematical functions.\n",
    "\n",
    "visit: https://www.w3schools.com/python/module_math.asp\n",
    "\n",
    "To use it, you must import the math module:"
   ]
  },
  {
   "cell_type": "code",
   "execution_count": 1,
   "id": "83fc4b19",
   "metadata": {},
   "outputs": [],
   "source": [
    "import math"
   ]
  },
  {
   "cell_type": "code",
   "execution_count": 3,
   "id": "3b6158ba",
   "metadata": {},
   "outputs": [
    {
     "name": "stdout",
     "output_type": "stream",
     "text": [
      "8.0\n"
     ]
    }
   ],
   "source": [
    "x = math.sqrt(64)\n",
    "print(x)"
   ]
  },
  {
   "cell_type": "code",
   "execution_count": 10,
   "id": "9cdb426c",
   "metadata": {},
   "outputs": [
    {
     "name": "stdout",
     "output_type": "stream",
     "text": [
      "2\n",
      "1\n"
     ]
    }
   ],
   "source": [
    "x = math.ceil(1.4)\n",
    "y = math.floor(1.4)\n",
    "\n",
    "print(x) # returns 2\n",
    "print(y) # returns 1"
   ]
  },
  {
   "cell_type": "code",
   "execution_count": 14,
   "id": "795d40f8",
   "metadata": {},
   "outputs": [
    {
     "name": "stdout",
     "output_type": "stream",
     "text": [
      "3.141592653589793\n",
      "inf\n",
      "6.283185307179586\n"
     ]
    }
   ],
   "source": [
    "x = math.pi\n",
    "y= math.inf\n",
    "z=math.tau\n",
    "print(x)\n",
    "print(y)\n",
    "print(z)"
   ]
  },
  {
   "cell_type": "markdown",
   "id": "a09d9ea1",
   "metadata": {},
   "source": [
    "Distance between two points"
   ]
  },
  {
   "cell_type": "code",
   "execution_count": 12,
   "id": "194f02bc",
   "metadata": {},
   "outputs": [
    {
     "name": "stdout",
     "output_type": "stream",
     "text": [
      "2.0\n",
      "9.486832980505138\n"
     ]
    }
   ],
   "source": [
    "# Import math Library\n",
    "import math\n",
    "\n",
    "p = [3]\n",
    "q = [1]\n",
    "\n",
    "# Calculate Euclidean distance\n",
    "print (math.dist(p, q))\n",
    "\n",
    "p = [3, 3]\n",
    "q = [6, 12]\n",
    "\n",
    "# Calculate Euclidean distance\n",
    "print (math.dist(p, q))"
   ]
  },
  {
   "cell_type": "code",
   "execution_count": null,
   "id": "493c3976",
   "metadata": {},
   "outputs": [],
   "source": []
  }
 ],
 "metadata": {
  "kernelspec": {
   "display_name": "Python 3 (ipykernel)",
   "language": "python",
   "name": "python3"
  },
  "language_info": {
   "codemirror_mode": {
    "name": "ipython",
    "version": 3
   },
   "file_extension": ".py",
   "mimetype": "text/x-python",
   "name": "python",
   "nbconvert_exporter": "python",
   "pygments_lexer": "ipython3",
   "version": "3.9.12"
  }
 },
 "nbformat": 4,
 "nbformat_minor": 5
}
