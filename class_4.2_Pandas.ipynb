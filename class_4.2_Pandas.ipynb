{
 "cells": [
  {
   "cell_type": "markdown",
   "id": "43d7c50d",
   "metadata": {},
   "source": [
    "# Pandas Tutorial"
   ]
  },
  {
   "cell_type": "markdown",
   "id": "26395bbf",
   "metadata": {},
   "source": [
    "Pandas is a Python library used to analyze data.\n",
    "\n",
    "The name \"Pandas\" has a reference to both \"Panel Data\", and \"Python Data Analysis\" and was created by Wes McKinney in 2008."
   ]
  },
  {
   "cell_type": "code",
   "execution_count": 6,
   "id": "b857d7ba",
   "metadata": {},
   "outputs": [
    {
     "name": "stdout",
     "output_type": "stream",
     "text": [
      "1.4.2\n"
     ]
    }
   ],
   "source": [
    "import pandas as pd\n",
    "\n",
    "print(pd.__version__)"
   ]
  },
  {
   "cell_type": "markdown",
   "id": "653e3cf1",
   "metadata": {},
   "source": [
    "# 4.2.0 Pandas Basics"
   ]
  },
  {
   "cell_type": "markdown",
   "id": "c11fd583",
   "metadata": {},
   "source": [
    "Pandas is a Python library used for working with data sets.\n",
    "\n",
    "It has functions for analyzing, cleaning, exploring, and manipulating data."
   ]
  },
  {
   "cell_type": "markdown",
   "id": "5916b3c1",
   "metadata": {},
   "source": [
    "# 2.2.1 Panda's Series and DataFrame"
   ]
  },
  {
   "cell_type": "markdown",
   "id": "066a8ca7",
   "metadata": {},
   "source": [
    "Create a pandas Series"
   ]
  },
  {
   "cell_type": "code",
   "execution_count": 7,
   "id": "0c7d9e45",
   "metadata": {},
   "outputs": [
    {
     "name": "stdout",
     "output_type": "stream",
     "text": [
      "0      BMW\n",
      "1    Volvo\n",
      "2     Ford\n",
      "dtype: object\n"
     ]
    }
   ],
   "source": [
    "#data = {'cars': 'BMW', 'passings': 3}\n",
    "data=[\"BMW\", \"Volvo\", \"Ford\"]\n",
    "s = pd.Series(data)\n",
    "print(s)\n"
   ]
  },
  {
   "cell_type": "markdown",
   "id": "733c756b",
   "metadata": {},
   "source": [
    "Create a pandas DataFrame"
   ]
  },
  {
   "cell_type": "code",
   "execution_count": 8,
   "id": "baa407d0",
   "metadata": {},
   "outputs": [
    {
     "name": "stdout",
     "output_type": "stream",
     "text": [
      "    cars  passings\n",
      "0    BMW         3\n",
      "1  Volvo         7\n",
      "2   Ford         2\n"
     ]
    }
   ],
   "source": [
    "import pandas as pd\n",
    "\n",
    "dataset = {\n",
    "  'cars': [\"BMW\", \"Volvo\", \"Ford\"],\n",
    "  'passings': [3, 7, 2]\n",
    "}\n",
    "df = pd.DataFrame(dataset)\n",
    "print(df)"
   ]
  },
  {
   "cell_type": "markdown",
   "id": "56d2e2bc",
   "metadata": {},
   "source": [
    "# 4.2.1.1 Panda's Series\n",
    "A Pandas Series is like a column in a table.\n",
    "\n",
    "It is a one-dimensional array holding data of any type"
   ]
  },
  {
   "cell_type": "code",
   "execution_count": 9,
   "id": "4bcf054c",
   "metadata": {},
   "outputs": [
    {
     "name": "stdout",
     "output_type": "stream",
     "text": [
      "0    10\n",
      "1    70\n",
      "2    20\n",
      "dtype: int64\n",
      "70\n"
     ]
    }
   ],
   "source": [
    "import pandas as pd\n",
    "\n",
    "#a = [1, 7, 2]\n",
    "a = (10, 70, 20)\n",
    "     \n",
    "myvar = pd.Series(a)\n",
    "\n",
    "print(myvar)\n",
    "print(myvar[1])"
   ]
  },
  {
   "cell_type": "markdown",
   "id": "44dcd6e7",
   "metadata": {},
   "source": [
    "Create Labels"
   ]
  },
  {
   "cell_type": "code",
   "execution_count": 10,
   "id": "970ae204",
   "metadata": {},
   "outputs": [
    {
     "name": "stdout",
     "output_type": "stream",
     "text": [
      "x    10\n",
      "y    70\n",
      "z    20\n",
      "dtype: int64\n",
      "10\n"
     ]
    }
   ],
   "source": [
    "# With the index argument, you can name your own labels.\n",
    "import pandas as pd\n",
    "\n",
    "a = [10, 70, 20]\n",
    "\n",
    "myvar = pd.Series(a, index = [\"x\", \"y\", \"z\"])\n",
    "\n",
    "print(myvar)\n",
    "print(myvar['x'])"
   ]
  },
  {
   "cell_type": "markdown",
   "id": "0ff6fbc8",
   "metadata": {},
   "source": [
    "You can also use a key/value object, like a dictionary, when creating a Series."
   ]
  },
  {
   "cell_type": "code",
   "execution_count": 11,
   "id": "55c7aabb",
   "metadata": {},
   "outputs": [
    {
     "name": "stdout",
     "output_type": "stream",
     "text": [
      "day1    [420, 500]\n",
      "day2           380\n",
      "day3           390\n",
      "dtype: object\n"
     ]
    }
   ],
   "source": [
    "import pandas as pd\n",
    "\n",
    "calories = {\"day1\": [420,500], \"day2\": 380, \"day3\": 390}\n",
    "\n",
    "myvar = pd.Series(calories)\n",
    "\n",
    "print(myvar)"
   ]
  },
  {
   "cell_type": "code",
   "execution_count": 12,
   "id": "4de1fa55",
   "metadata": {},
   "outputs": [
    {
     "name": "stdout",
     "output_type": "stream",
     "text": [
      "day1    420\n",
      "day2    380\n",
      "dtype: int64\n"
     ]
    }
   ],
   "source": [
    "# Create a Series using only data from \"day1\" and \"day2\":\n",
    "calories = {\"day1\": 420, \"day2\": 380, \"day3\": 390}\n",
    "\n",
    "myvar = pd.Series(calories, index = [\"day1\", \"day2\"])\n",
    "\n",
    "print(myvar)"
   ]
  },
  {
   "cell_type": "markdown",
   "id": "6ef28e1c",
   "metadata": {},
   "source": [
    "# 4.2.1.2 Panda's dataFrame\n",
    "Data sets in Pandas are usually multi-dimensional tables, called DataFrames.\n",
    "\n",
    "A Pandas DataFrame is a 2 dimensional data structure, like a 2 dimensional array, or a table with rows and columns.\n",
    "\n",
    "Series is like a column, a DataFrame is the whole table."
   ]
  },
  {
   "cell_type": "code",
   "execution_count": 13,
   "id": "fa10c83c",
   "metadata": {},
   "outputs": [
    {
     "name": "stdout",
     "output_type": "stream",
     "text": [
      "   calories  duration\n",
      "0       420        50\n",
      "1       380        40\n",
      "2       390        45\n",
      "<class 'pandas.core.frame.DataFrame'>\n"
     ]
    }
   ],
   "source": [
    "# Create a DataFrame from two Series:\n",
    "import pandas as pd\n",
    "\n",
    "data = {\n",
    "  \"calories\": [420, 380, 390],\n",
    "  \"duration\": [50, 40, 45]\n",
    "}\n",
    "\n",
    "df = pd.DataFrame(data)\n",
    "\n",
    "print(df)\n",
    "print(type(df))"
   ]
  },
  {
   "cell_type": "markdown",
   "id": "926b83bf",
   "metadata": {},
   "source": [
    "Locate Row : Pandas use the loc attribute to return one or more specified row(s)"
   ]
  },
  {
   "cell_type": "code",
   "execution_count": 14,
   "id": "010e7a9f",
   "metadata": {},
   "outputs": [
    {
     "name": "stdout",
     "output_type": "stream",
     "text": [
      "calories    420\n",
      "duration     50\n",
      "Name: 0, dtype: int64\n",
      "<class 'pandas.core.series.Series'>\n"
     ]
    }
   ],
   "source": [
    "#refer to the row index:\n",
    "print(df.loc[0]) #This example returns a Pandas Series.\n",
    "print(type(df.loc[0]))"
   ]
  },
  {
   "cell_type": "code",
   "execution_count": 20,
   "id": "63f3c629",
   "metadata": {},
   "outputs": [
    {
     "name": "stdout",
     "output_type": "stream",
     "text": [
      "   calories  duration\n",
      "0       420        50\n",
      "1       380        40\n",
      "   calories  duration\n",
      "0       420        50\n",
      "1       380        40\n",
      "<class 'pandas.core.series.Series'>\n"
     ]
    }
   ],
   "source": [
    "#use a list of indexes: \n",
    "print(df.loc[[0, 1]])\n",
    "print(df.iloc[0:2])\n",
    "print(type(df.loc[[0, 1]))"
   ]
  },
  {
   "cell_type": "markdown",
   "id": "ee4bc339",
   "metadata": {},
   "source": [
    "When using [], the result is a Pandas DataFrame."
   ]
  },
  {
   "cell_type": "markdown",
   "id": "ceff1a77",
   "metadata": {},
   "source": [
    "Locate Columns"
   ]
  },
  {
   "cell_type": "code",
   "execution_count": 23,
   "id": "0b528332",
   "metadata": {},
   "outputs": [
    {
     "name": "stdout",
     "output_type": "stream",
     "text": [
      "0    420\n",
      "1    380\n",
      "2    390\n",
      "Name: calories, dtype: int64\n"
     ]
    }
   ],
   "source": [
    "print(df.calories)\n",
    "#print(df['calories'])"
   ]
  },
  {
   "cell_type": "code",
   "execution_count": 95,
   "id": "40340e6a",
   "metadata": {},
   "outputs": [
    {
     "name": "stdout",
     "output_type": "stream",
     "text": [
      "0    50\n",
      "1    40\n",
      "2    45\n",
      "Name: duration, dtype: int64\n"
     ]
    }
   ],
   "source": [
    "#print(df.duration)\n",
    "print(df['duration'])"
   ]
  },
  {
   "cell_type": "markdown",
   "id": "f946cbcc",
   "metadata": {},
   "source": [
    "Locate Particular/specific value"
   ]
  },
  {
   "cell_type": "code",
   "execution_count": 24,
   "id": "c7f2c194",
   "metadata": {},
   "outputs": [
    {
     "data": {
      "text/plain": [
       "45"
      ]
     },
     "execution_count": 24,
     "metadata": {},
     "output_type": "execute_result"
    }
   ],
   "source": [
    "df.loc[2, 'duration'] "
   ]
  },
  {
   "cell_type": "code",
   "execution_count": 25,
   "id": "84b028e5",
   "metadata": {
    "scrolled": true
   },
   "outputs": [
    {
     "name": "stdout",
     "output_type": "stream",
     "text": [
      "   duration\n",
      "2        45\n"
     ]
    }
   ],
   "source": [
    "print(df.iloc[2:3,1:2])"
   ]
  },
  {
   "cell_type": "markdown",
   "id": "ab94e43e",
   "metadata": {},
   "source": [
    "Named Indexes :\n",
    "\n",
    "With the index argument, you can name your own indexes."
   ]
  },
  {
   "cell_type": "code",
   "execution_count": 96,
   "id": "3480e0f4",
   "metadata": {},
   "outputs": [
    {
     "name": "stdout",
     "output_type": "stream",
     "text": [
      "      calories  duration\n",
      "day1       420        50\n",
      "day2       380        40\n",
      "day3       390        45\n"
     ]
    }
   ],
   "source": [
    "#Add a list of names to give each row a name:\n",
    "\n",
    "import pandas as pd\n",
    "\n",
    "data = {\n",
    "  \"calories\": [420, 380, 390],\n",
    "  \"duration\": [50, 40, 45]\n",
    "}\n",
    "\n",
    "df = pd.DataFrame(data, index = [\"day1\", \"day2\", \"day3\"])\n",
    "\n",
    "print(df)"
   ]
  },
  {
   "cell_type": "markdown",
   "id": "852eee8a",
   "metadata": {},
   "source": [
    "Locate Named Indexes\n",
    "\n",
    "Use the named index in the loc attribute to return the specified row(s)."
   ]
  },
  {
   "cell_type": "code",
   "execution_count": 20,
   "id": "3245888e",
   "metadata": {},
   "outputs": [
    {
     "name": "stdout",
     "output_type": "stream",
     "text": [
      "calories    380\n",
      "duration     40\n",
      "Name: day2, dtype: int64\n"
     ]
    }
   ],
   "source": [
    "#refer to the named index:\n",
    "print(df.loc[\"day2\"])"
   ]
  },
  {
   "cell_type": "markdown",
   "id": "704b9b5a",
   "metadata": {},
   "source": [
    "# 4.2.2.0 Load Files Into a DataFrame"
   ]
  },
  {
   "cell_type": "markdown",
   "id": "e2475458",
   "metadata": {},
   "source": [
    "# 4.2.2.1 Load CSV"
   ]
  },
  {
   "cell_type": "code",
   "execution_count": 27,
   "id": "7bccbd22",
   "metadata": {},
   "outputs": [
    {
     "name": "stdout",
     "output_type": "stream",
     "text": [
      "<class 'pandas.core.frame.DataFrame'>\n",
      "(169, 4)\n",
      "     Duration  Pulse  Maxpulse  Calories\n",
      "0          60    110       130     409.1\n",
      "1          60    117       145     479.0\n",
      "2          60    103       135     340.0\n",
      "3          45    109       175     282.4\n",
      "4          45    117       148     406.0\n",
      "..        ...    ...       ...       ...\n",
      "164        60    105       140     290.8\n",
      "165        60    110       145     300.0\n",
      "166        60    115       145     310.2\n",
      "167        75    120       150     320.4\n",
      "168        75    125       150     330.4\n",
      "\n",
      "[169 rows x 4 columns]\n"
     ]
    }
   ],
   "source": [
    "import pandas as pd\n",
    "\n",
    "df = pd.read_csv('data.csv')\n",
    "print(type(df)) \n",
    "print(df.shape)\n",
    "print(df) \n",
    "#print(df.to_string()) "
   ]
  },
  {
   "cell_type": "code",
   "execution_count": 32,
   "id": "74881d66",
   "metadata": {},
   "outputs": [
    {
     "name": "stdout",
     "output_type": "stream",
     "text": [
      "     Duration  Pulse  Maxpulse  Calories\n",
      "167        75    120       150     320.4\n",
      "168        75    125       150     330.4\n"
     ]
    }
   ],
   "source": [
    "#Tip: use to_string() to print the entire DataFrame\n",
    "#print(df.to_string()) \n",
    "# Print head information - top 5 rows\n",
    "#print(df.head()) \n",
    "# Print head information - bottom n rows\n",
    "#print(df.head(10)) # (n=10)\n",
    "# Print tail information - bottom 5 rows\n",
    "#print(df.tail())\n",
    "print(df.tail(n=2)) "
   ]
  },
  {
   "cell_type": "code",
   "execution_count": 33,
   "id": "3005b6dd",
   "metadata": {},
   "outputs": [
    {
     "name": "stdout",
     "output_type": "stream",
     "text": [
      "         Duration       Pulse    Maxpulse     Calories\n",
      "count  169.000000  169.000000  169.000000   164.000000\n",
      "mean    63.846154  107.461538  134.047337   375.790244\n",
      "std     42.299949   14.510259   16.450434   266.379919\n",
      "min     15.000000   80.000000  100.000000    50.300000\n",
      "25%     45.000000  100.000000  124.000000   250.925000\n",
      "50%     60.000000  105.000000  131.000000   318.600000\n",
      "75%     60.000000  111.000000  141.000000   387.600000\n",
      "max    300.000000  159.000000  184.000000  1860.400000\n"
     ]
    }
   ],
   "source": [
    "#Print information about the data:\n",
    "#The info() method also tells us how many Non-Null values there are present in each column\n",
    "#print(df.info()) \n",
    "# Statistical Description\n",
    "print(df.describe()) "
   ]
  },
  {
   "cell_type": "code",
   "execution_count": 34,
   "id": "af3158ea",
   "metadata": {},
   "outputs": [
    {
     "name": "stdout",
     "output_type": "stream",
     "text": [
      "Duration    0\n",
      "Pulse       0\n",
      "Maxpulse    0\n",
      "Calories    5\n",
      "dtype: int64\n"
     ]
    }
   ],
   "source": [
    "print(df.isnull().sum())\n",
    "#print(df['Calories'].isnull())\n",
    "#print(df['Calories'].isnull().sum())"
   ]
  },
  {
   "cell_type": "markdown",
   "id": "47556596",
   "metadata": {},
   "source": [
    "# Read JSON\n",
    "\n",
    "Big data sets are often stored, or extracted as JSON.\n",
    "\n",
    "JSON is plain text, but has the format of an object, and is well known in the world of programming, including Pandas"
   ]
  },
  {
   "cell_type": "code",
   "execution_count": 35,
   "id": "769353fb",
   "metadata": {},
   "outputs": [],
   "source": [
    "import pandas as pd\n",
    "\n",
    "#df = pd.read_json('data.json')\n",
    "df = pd.read_json('data.js')\n",
    "df\n",
    "#print(df.to_string())\n",
    "df.to_csv('sakib.csv')"
   ]
  },
  {
   "cell_type": "markdown",
   "id": "6397027e",
   "metadata": {},
   "source": [
    "# Dictionary as JSON\n",
    "JSON = Python Dictionary\n",
    "\n",
    "JSON objects have the same format as Python dictionaries.\n",
    "\n",
    "If your JSON code is not in a file, but in a Python Dictionary, you can load it into a DataFrame directly:"
   ]
  },
  {
   "cell_type": "code",
   "execution_count": 36,
   "id": "1b3861ef",
   "metadata": {},
   "outputs": [
    {
     "name": "stdout",
     "output_type": "stream",
     "text": [
      "   Duration  Pulse  Maxpulse  Calories\n",
      "0        60    110       130       409\n",
      "1        60    117       145       479\n",
      "2        60    103       135       340\n",
      "3        45    109       175       282\n",
      "4        45    117       148       406\n",
      "5        60    102       127       300\n"
     ]
    }
   ],
   "source": [
    "import pandas as pd\n",
    "\n",
    "data = {\n",
    "  \"Duration\":{\n",
    "    \"0\":60,\n",
    "    \"1\":60,\n",
    "    \"2\":60,\n",
    "    \"3\":45,\n",
    "    \"4\":45,\n",
    "    \"5\":60\n",
    "  },\n",
    "  \"Pulse\":{\n",
    "    \"0\":110,\n",
    "    \"1\":117,\n",
    "    \"2\":103,\n",
    "    \"3\":109,\n",
    "    \"4\":117,\n",
    "    \"5\":102\n",
    "  },\n",
    "  \"Maxpulse\":{\n",
    "    \"0\":130,\n",
    "    \"1\":145,\n",
    "    \"2\":135,\n",
    "    \"3\":175,\n",
    "    \"4\":148,\n",
    "    \"5\":127\n",
    "  },\n",
    "  \"Calories\":{\n",
    "    \"0\":409,\n",
    "    \"1\":479,\n",
    "    \"2\":340,\n",
    "    \"3\":282,\n",
    "    \"4\":406,\n",
    "    \"5\":300\n",
    "  }\n",
    "}\n",
    "\n",
    "df = pd.DataFrame(data)\n",
    "\n",
    "print(df) \n",
    "df.to_csv('a.csv')"
   ]
  },
  {
   "cell_type": "code",
   "execution_count": 119,
   "id": "1c58ecf9",
   "metadata": {},
   "outputs": [
    {
     "data": {
      "text/html": [
       "<div>\n",
       "<style scoped>\n",
       "    .dataframe tbody tr th:only-of-type {\n",
       "        vertical-align: middle;\n",
       "    }\n",
       "\n",
       "    .dataframe tbody tr th {\n",
       "        vertical-align: top;\n",
       "    }\n",
       "\n",
       "    .dataframe thead th {\n",
       "        text-align: right;\n",
       "    }\n",
       "</style>\n",
       "<table border=\"1\" class=\"dataframe\">\n",
       "  <thead>\n",
       "    <tr style=\"text-align: right;\">\n",
       "      <th></th>\n",
       "      <th>Duration</th>\n",
       "      <th>Pulse</th>\n",
       "      <th>Maxpulse</th>\n",
       "      <th>Calories</th>\n",
       "    </tr>\n",
       "  </thead>\n",
       "  <tbody>\n",
       "    <tr>\n",
       "      <th>count</th>\n",
       "      <td>6.000000</td>\n",
       "      <td>6.000000</td>\n",
       "      <td>6.000000</td>\n",
       "      <td>6.000000</td>\n",
       "    </tr>\n",
       "    <tr>\n",
       "      <th>mean</th>\n",
       "      <td>55.000000</td>\n",
       "      <td>109.666667</td>\n",
       "      <td>143.333333</td>\n",
       "      <td>369.333333</td>\n",
       "    </tr>\n",
       "    <tr>\n",
       "      <th>std</th>\n",
       "      <td>7.745967</td>\n",
       "      <td>6.501282</td>\n",
       "      <td>17.557525</td>\n",
       "      <td>75.152290</td>\n",
       "    </tr>\n",
       "    <tr>\n",
       "      <th>min</th>\n",
       "      <td>45.000000</td>\n",
       "      <td>102.000000</td>\n",
       "      <td>127.000000</td>\n",
       "      <td>282.000000</td>\n",
       "    </tr>\n",
       "    <tr>\n",
       "      <th>25%</th>\n",
       "      <td>48.750000</td>\n",
       "      <td>104.500000</td>\n",
       "      <td>131.250000</td>\n",
       "      <td>310.000000</td>\n",
       "    </tr>\n",
       "    <tr>\n",
       "      <th>50%</th>\n",
       "      <td>60.000000</td>\n",
       "      <td>109.500000</td>\n",
       "      <td>140.000000</td>\n",
       "      <td>373.000000</td>\n",
       "    </tr>\n",
       "    <tr>\n",
       "      <th>75%</th>\n",
       "      <td>60.000000</td>\n",
       "      <td>115.250000</td>\n",
       "      <td>147.250000</td>\n",
       "      <td>408.250000</td>\n",
       "    </tr>\n",
       "    <tr>\n",
       "      <th>max</th>\n",
       "      <td>60.000000</td>\n",
       "      <td>117.000000</td>\n",
       "      <td>175.000000</td>\n",
       "      <td>479.000000</td>\n",
       "    </tr>\n",
       "  </tbody>\n",
       "</table>\n",
       "</div>"
      ],
      "text/plain": [
       "        Duration       Pulse    Maxpulse    Calories\n",
       "count   6.000000    6.000000    6.000000    6.000000\n",
       "mean   55.000000  109.666667  143.333333  369.333333\n",
       "std     7.745967    6.501282   17.557525   75.152290\n",
       "min    45.000000  102.000000  127.000000  282.000000\n",
       "25%    48.750000  104.500000  131.250000  310.000000\n",
       "50%    60.000000  109.500000  140.000000  373.000000\n",
       "75%    60.000000  115.250000  147.250000  408.250000\n",
       "max    60.000000  117.000000  175.000000  479.000000"
      ]
     },
     "execution_count": 119,
     "metadata": {},
     "output_type": "execute_result"
    }
   ],
   "source": [
    "#df.info()\n",
    "df.describe()"
   ]
  },
  {
   "cell_type": "markdown",
   "id": "073718c3",
   "metadata": {},
   "source": [
    "# 4.2.2 Cleaning Data"
   ]
  },
  {
   "cell_type": "markdown",
   "id": "dc5b7831",
   "metadata": {},
   "source": [
    "Data cleaning means fixing bad data in your data set.\n",
    "\n",
    "Bad data could be:\n",
    "\n",
    "Empty cells, \n",
    "\n",
    "Data in wrong format, \n",
    "\n",
    "Wrong data, \n",
    "\n",
    "Duplicates."
   ]
  },
  {
   "cell_type": "markdown",
   "id": "275da8dd",
   "metadata": {},
   "source": [
    "Empty Cells:\n",
    "Empty cells can potentially give you a wrong result when you analyze data."
   ]
  },
  {
   "cell_type": "markdown",
   "id": "11758333",
   "metadata": {},
   "source": [
    "Remove Rows\n",
    "\n",
    "One way to deal with empty cells is to remove rows that contain empty cells.\n",
    "\n",
    "This is usually OK, since data sets can be very big, and removing a few rows will not have a big impact on the result."
   ]
  },
  {
   "cell_type": "code",
   "execution_count": 40,
   "id": "ff1f9389",
   "metadata": {},
   "outputs": [
    {
     "name": "stdout",
     "output_type": "stream",
     "text": [
      "(169, 4)\n",
      "Duration    0\n",
      "Pulse       0\n",
      "Maxpulse    0\n",
      "Calories    5\n",
      "dtype: int64\n"
     ]
    }
   ],
   "source": [
    "import pandas as pd\n",
    "\n",
    "df = pd.read_csv('data.csv')\n",
    "print(df.shape)\n",
    "print(df.isnull().sum())"
   ]
  },
  {
   "cell_type": "code",
   "execution_count": 44,
   "id": "022956ab",
   "metadata": {},
   "outputs": [
    {
     "name": "stdout",
     "output_type": "stream",
     "text": [
      "(164, 4)\n",
      "Duration    0\n",
      "Pulse       0\n",
      "Maxpulse    0\n",
      "Calories    0\n",
      "dtype: int64\n"
     ]
    }
   ],
   "source": [
    "new_df = df.dropna()\n",
    "print(new_df.shape)\n",
    "print(new_df.isnull().sum())\n",
    "#print(new_df.to_string())"
   ]
  },
  {
   "cell_type": "code",
   "execution_count": 122,
   "id": "40e105a8",
   "metadata": {},
   "outputs": [
    {
     "name": "stdout",
     "output_type": "stream",
     "text": [
      "(164, 4)\n"
     ]
    }
   ],
   "source": [
    "import pandas as pd\n",
    "\n",
    "df = pd.read_csv('data.csv')\n",
    "\n",
    "df.dropna(inplace = True)\n",
    "\n",
    "print(df.shape)\n",
    "#print(df.to_string())"
   ]
  },
  {
   "cell_type": "markdown",
   "id": "12f7a96c",
   "metadata": {},
   "source": [
    "Note: Now, the dropna(inplace = True) will NOT return a new DataFrame, but it will remove all rows containg NULL values from the original DataFrame."
   ]
  },
  {
   "cell_type": "markdown",
   "id": "d8832cfc",
   "metadata": {},
   "source": [
    "# Replace Empty Values"
   ]
  },
  {
   "cell_type": "code",
   "execution_count": 47,
   "id": "3525b95b",
   "metadata": {},
   "outputs": [],
   "source": [
    "#Replace all NULL values with the number 130:\n",
    "import pandas as pd\n",
    "\n",
    "df = pd.read_csv('data.csv')\n",
    "\n",
    "df.fillna(13000, inplace = True)\n",
    "\n",
    "#print(df)"
   ]
  },
  {
   "cell_type": "markdown",
   "id": "60b7f7c3",
   "metadata": {},
   "source": [
    "Replace Only For Specified Columns"
   ]
  },
  {
   "cell_type": "code",
   "execution_count": 48,
   "id": "f98accd4",
   "metadata": {},
   "outputs": [
    {
     "name": "stdout",
     "output_type": "stream",
     "text": [
      "    Duration  Pulse  Maxpulse  Calories\n",
      "0         60    110       130     409.1\n",
      "1         60    117       145     479.0\n",
      "2         60    103       135     340.0\n",
      "3         45    109       175     282.4\n",
      "4         45    117       148     406.0\n",
      "5         60    102       127     300.0\n",
      "6         60    110       136     374.0\n",
      "7         45    104       134     253.3\n",
      "8         30    109       133     195.1\n",
      "9         60     98       124     269.0\n",
      "10        60    103       147     329.3\n",
      "11        60    100       120     250.7\n",
      "12        60    106       128     345.3\n",
      "13        60    104       132     379.3\n",
      "14        60     98       123     275.0\n",
      "15        60     98       120     215.2\n",
      "16        60    100       120     300.0\n",
      "17        45     90       112   13000.0\n",
      "18        60    103       123     323.0\n",
      "19        45     97       125     243.0\n"
     ]
    }
   ],
   "source": [
    "print(df.head(20))"
   ]
  },
  {
   "cell_type": "code",
   "execution_count": 49,
   "id": "1df0aafb",
   "metadata": {},
   "outputs": [],
   "source": [
    "import pandas as pd\n",
    "\n",
    "df = pd.read_csv('data.csv')\n",
    "\n",
    "#df[\"Calories\"].fillna(13000, inplace = True)\n",
    "\n",
    "#print(df[\"Calories\"])\n",
    "#print(df[\"Calories\"].to_string())\n",
    "#print(df[\"Calories\"].head(20))"
   ]
  },
  {
   "cell_type": "markdown",
   "id": "df1f1c88",
   "metadata": {},
   "source": [
    "# Replace Using Mean, Median, or Mode\n",
    "A common way to replace empty cells, is to calculate the mean, median or mode value of the column.\n",
    "\n",
    "Pandas uses the mean() median() and mode() methods to calculate the respective values for a specified column:"
   ]
  },
  {
   "cell_type": "code",
   "execution_count": 50,
   "id": "4828cf95",
   "metadata": {},
   "outputs": [
    {
     "name": "stdout",
     "output_type": "stream",
     "text": [
      "375.79024390243916\n",
      "    Duration  Pulse  Maxpulse    Calories\n",
      "0         60    110       130  409.100000\n",
      "1         60    117       145  479.000000\n",
      "2         60    103       135  340.000000\n",
      "3         45    109       175  282.400000\n",
      "4         45    117       148  406.000000\n",
      "5         60    102       127  300.000000\n",
      "6         60    110       136  374.000000\n",
      "7         45    104       134  253.300000\n",
      "8         30    109       133  195.100000\n",
      "9         60     98       124  269.000000\n",
      "10        60    103       147  329.300000\n",
      "11        60    100       120  250.700000\n",
      "12        60    106       128  345.300000\n",
      "13        60    104       132  379.300000\n",
      "14        60     98       123  275.000000\n",
      "15        60     98       120  215.200000\n",
      "16        60    100       120  300.000000\n",
      "17        45     90       112  375.790244\n",
      "18        60    103       123  323.000000\n",
      "19        45     97       125  243.000000\n"
     ]
    }
   ],
   "source": [
    "import pandas as pd\n",
    "\n",
    "df = pd.read_csv('data.csv')\n",
    "\n",
    "x = df[\"Calories\"].mean()\n",
    "#x = df[\"Calories\"].median()\n",
    "#x = df[\"Calories\"].mode()[0]\n",
    "print(x)\n",
    "\n",
    "df[\"Calories\"].fillna(x, inplace = True)\n",
    "print(df.head(20))"
   ]
  },
  {
   "cell_type": "markdown",
   "id": "ab3ae4ef",
   "metadata": {},
   "source": [
    "# Pandas - Cleaning Data of Wrong Format"
   ]
  },
  {
   "cell_type": "markdown",
   "id": "c5e335b1",
   "metadata": {},
   "source": [
    "Cells with data of wrong format can make it difficult, or even impossible, to analyze data.\n",
    "\n",
    "To fix it, you have two options: remove the rows, or convert all cells in the columns into the same format."
   ]
  },
  {
   "cell_type": "code",
   "execution_count": 1,
   "id": "9e3c7371",
   "metadata": {},
   "outputs": [],
   "source": [
    "# Pandas has a to_datetime() method for this:"
   ]
  },
  {
   "cell_type": "code",
   "execution_count": 55,
   "id": "10fee7ce",
   "metadata": {},
   "outputs": [
    {
     "name": "stdout",
     "output_type": "stream",
     "text": [
      "Duration    0\n",
      "Date        1\n",
      "Pulse       0\n",
      "Maxpulse    0\n",
      "Calories    2\n",
      "dtype: int64\n",
      "0   2020-12-12\n",
      "Name: Date, dtype: datetime64[ns]\n"
     ]
    }
   ],
   "source": [
    "import pandas as pd\n",
    "\n",
    "df = pd.read_csv('dirtydata.csv')\n",
    "#print(df.to_string())\n",
    "\n",
    "df['Date'] = pd.to_datetime(df['Date'])\n",
    "print(df.isnull().sum())\n",
    "#print(df.to_string())\n",
    "#print(df['Date'].mode())"
   ]
  },
  {
   "cell_type": "code",
   "execution_count": 56,
   "id": "6be6b3f8",
   "metadata": {},
   "outputs": [
    {
     "name": "stdout",
     "output_type": "stream",
     "text": [
      "    Duration       Date  Pulse  Maxpulse  Calories\n",
      "0         60 2020-12-01    110       130     409.1\n",
      "1         60 2020-12-02    117       145     479.0\n",
      "2         60 2020-12-03    103       135     340.0\n",
      "3         45 2020-12-04    109       175     282.4\n",
      "4         45 2020-12-05    117       148     406.0\n",
      "5         60 2020-12-06    102       127     300.0\n",
      "6         60 2020-12-07    110       136     374.0\n",
      "7        450 2020-12-08    104       134     253.3\n",
      "8         30 2020-12-09    109       133     195.1\n",
      "9         60 2020-12-10     98       124     269.0\n",
      "10        60 2020-12-11    103       147     329.3\n",
      "11        60 2020-12-12    100       120     250.7\n",
      "12        60 2020-12-12    100       120     250.7\n",
      "13        60 2020-12-13    106       128     345.3\n",
      "14        60 2020-12-14    104       132     379.3\n",
      "15        60 2020-12-15     98       123     275.0\n",
      "16        60 2020-12-16     98       120     215.2\n",
      "17        60 2020-12-17    100       120     300.0\n",
      "18        45 2020-12-18     90       112       NaN\n",
      "19        60 2020-12-19    103       123     323.0\n",
      "20        45 2020-12-20     97       125     243.0\n",
      "21        60 2020-12-21    108       131     364.2\n",
      "23        60 2020-12-23    130       101     300.0\n",
      "24        45 2020-12-24    105       132     246.0\n",
      "25        60 2020-12-25    102       126     334.5\n",
      "26        60 2020-12-26    100       120     250.0\n",
      "27        60 2020-12-27     92       118     241.0\n",
      "28        60 2020-12-28    103       132       NaN\n",
      "29        60 2020-12-29    100       132     280.0\n",
      "30        60 2020-12-30    102       129     380.3\n",
      "31        60 2020-12-31     92       115     243.0\n"
     ]
    }
   ],
   "source": [
    "#Remove rows with a NULL value in the \"Date\" column:\n",
    "df.dropna(subset=['Date'], inplace = True) # ['Date','Calories']\n",
    "#df.dropna(subset=['Date','Calories'], inplace = True)\n",
    "#df['Date'].dropna(inplace = True)\n",
    "#df.dropna(inplace = True)\n",
    "print(df.to_string())"
   ]
  },
  {
   "cell_type": "markdown",
   "id": "5164bac8",
   "metadata": {},
   "source": [
    "# Pandas - Fixing Wrong Data"
   ]
  },
  {
   "cell_type": "code",
   "execution_count": 70,
   "id": "7de327ec",
   "metadata": {},
   "outputs": [
    {
     "name": "stdout",
     "output_type": "stream",
     "text": [
      "   Duration          Date  Pulse  Maxpulse  Calories\n",
      "0        60  '2020/12/01'    110       130     409.1\n",
      "1        60  '2020/12/02'    117       145     479.0\n",
      "2        60  '2020/12/03'    103       135     340.0\n",
      "3        45  '2020/12/04'    109       175     282.4\n",
      "4        45  '2020/12/05'    117       148     406.0\n",
      "5        60  '2020/12/06'    102       127     300.0\n",
      "6        60  '2020/12/07'    110       136     374.0\n",
      "7       450  '2020/12/08'    104       134     253.3\n",
      "8        30  '2020/12/09'    109       133     195.1\n",
      "9        60  '2020/12/10'     98       124     269.0\n"
     ]
    },
    {
     "data": {
      "text/html": [
       "<div>\n",
       "<style scoped>\n",
       "    .dataframe tbody tr th:only-of-type {\n",
       "        vertical-align: middle;\n",
       "    }\n",
       "\n",
       "    .dataframe tbody tr th {\n",
       "        vertical-align: top;\n",
       "    }\n",
       "\n",
       "    .dataframe thead th {\n",
       "        text-align: right;\n",
       "    }\n",
       "</style>\n",
       "<table border=\"1\" class=\"dataframe\">\n",
       "  <thead>\n",
       "    <tr style=\"text-align: right;\">\n",
       "      <th></th>\n",
       "      <th>Duration</th>\n",
       "      <th>Pulse</th>\n",
       "      <th>Maxpulse</th>\n",
       "      <th>Calories</th>\n",
       "    </tr>\n",
       "  </thead>\n",
       "  <tbody>\n",
       "    <tr>\n",
       "      <th>count</th>\n",
       "      <td>32.000000</td>\n",
       "      <td>32.000000</td>\n",
       "      <td>32.000000</td>\n",
       "      <td>30.000000</td>\n",
       "    </tr>\n",
       "    <tr>\n",
       "      <th>mean</th>\n",
       "      <td>68.437500</td>\n",
       "      <td>103.500000</td>\n",
       "      <td>128.500000</td>\n",
       "      <td>304.680000</td>\n",
       "    </tr>\n",
       "    <tr>\n",
       "      <th>std</th>\n",
       "      <td>70.039591</td>\n",
       "      <td>7.832933</td>\n",
       "      <td>12.998759</td>\n",
       "      <td>66.003779</td>\n",
       "    </tr>\n",
       "    <tr>\n",
       "      <th>min</th>\n",
       "      <td>30.000000</td>\n",
       "      <td>90.000000</td>\n",
       "      <td>101.000000</td>\n",
       "      <td>195.100000</td>\n",
       "    </tr>\n",
       "    <tr>\n",
       "      <th>25%</th>\n",
       "      <td>60.000000</td>\n",
       "      <td>100.000000</td>\n",
       "      <td>120.000000</td>\n",
       "      <td>250.700000</td>\n",
       "    </tr>\n",
       "    <tr>\n",
       "      <th>50%</th>\n",
       "      <td>60.000000</td>\n",
       "      <td>102.500000</td>\n",
       "      <td>127.500000</td>\n",
       "      <td>291.200000</td>\n",
       "    </tr>\n",
       "    <tr>\n",
       "      <th>75%</th>\n",
       "      <td>60.000000</td>\n",
       "      <td>106.500000</td>\n",
       "      <td>132.250000</td>\n",
       "      <td>343.975000</td>\n",
       "    </tr>\n",
       "    <tr>\n",
       "      <th>max</th>\n",
       "      <td>450.000000</td>\n",
       "      <td>130.000000</td>\n",
       "      <td>175.000000</td>\n",
       "      <td>479.000000</td>\n",
       "    </tr>\n",
       "  </tbody>\n",
       "</table>\n",
       "</div>"
      ],
      "text/plain": [
       "         Duration       Pulse    Maxpulse    Calories\n",
       "count   32.000000   32.000000   32.000000   30.000000\n",
       "mean    68.437500  103.500000  128.500000  304.680000\n",
       "std     70.039591    7.832933   12.998759   66.003779\n",
       "min     30.000000   90.000000  101.000000  195.100000\n",
       "25%     60.000000  100.000000  120.000000  250.700000\n",
       "50%     60.000000  102.500000  127.500000  291.200000\n",
       "75%     60.000000  106.500000  132.250000  343.975000\n",
       "max    450.000000  130.000000  175.000000  479.000000"
      ]
     },
     "execution_count": 70,
     "metadata": {},
     "output_type": "execute_result"
    }
   ],
   "source": [
    "import pandas as pd\n",
    "\n",
    "df = pd.read_csv('dirtydata.csv')\n",
    "print(df.head(10))\n",
    "df.describe()"
   ]
  },
  {
   "cell_type": "code",
   "execution_count": 71,
   "id": "40a1673d",
   "metadata": {},
   "outputs": [],
   "source": [
    "#df.loc[7, 'Duration'] = 45\n",
    "#print(df.head(10))"
   ]
  },
  {
   "cell_type": "markdown",
   "id": "a4a0edf1",
   "metadata": {},
   "source": [
    "For small data sets you might be able to replace the wrong data one by one, but not for big data sets.\n",
    "\n",
    "To replace wrong data for larger data sets you can create some rules, e.g. set some boundaries for legal values, and replace any values that are outside of the boundaries."
   ]
  },
  {
   "cell_type": "code",
   "execution_count": 72,
   "id": "694f7275",
   "metadata": {},
   "outputs": [
    {
     "name": "stdout",
     "output_type": "stream",
     "text": [
      "    Duration          Date  Pulse  Maxpulse  Calories\n",
      "0         60  '2020/12/01'    110       130     409.1\n",
      "1         60  '2020/12/02'    117       145     479.0\n",
      "2         60  '2020/12/03'    103       135     340.0\n",
      "3         45  '2020/12/04'    109       175     282.4\n",
      "4         45  '2020/12/05'    117       148     406.0\n",
      "5         60  '2020/12/06'    102       127     300.0\n",
      "6         60  '2020/12/07'    110       136     374.0\n",
      "7         60  '2020/12/08'    104       134     253.3\n",
      "8         30  '2020/12/09'    109       133     195.1\n",
      "9         60  '2020/12/10'     98       124     269.0\n",
      "10        60  '2020/12/11'    103       147     329.3\n",
      "11        60  '2020/12/12'    100       120     250.7\n",
      "12        60  '2020/12/12'    100       120     250.7\n",
      "13        60  '2020/12/13'    106       128     345.3\n",
      "14        60  '2020/12/14'    104       132     379.3\n",
      "15        60  '2020/12/15'     98       123     275.0\n",
      "16        60  '2020/12/16'     98       120     215.2\n",
      "17        60  '2020/12/17'    100       120     300.0\n",
      "18        45  '2020/12/18'     90       112       NaN\n",
      "19        60  '2020/12/19'    103       123     323.0\n",
      "20        45  '2020/12/20'     97       125     243.0\n",
      "21        60  '2020/12/21'    108       131     364.2\n",
      "22        45           NaN    100       119     282.0\n",
      "23        60  '2020/12/23'    130       101     300.0\n",
      "24        45  '2020/12/24'    105       132     246.0\n",
      "25        60  '2020/12/25'    102       126     334.5\n",
      "26        60      20201226    100       120     250.0\n",
      "27        60  '2020/12/27'     92       118     241.0\n",
      "28        60  '2020/12/28'    103       132       NaN\n",
      "29        60  '2020/12/29'    100       132     280.0\n",
      "30        60  '2020/12/30'    102       129     380.3\n",
      "31        60  '2020/12/31'     92       115     243.0\n"
     ]
    }
   ],
   "source": [
    "#If the value is higher than 120, set it to 120:\n",
    "for x in df.index:\n",
    "    if df.loc[x, \"Duration\"] > 68:\n",
    "        df.loc[x, \"Duration\"] = 60\n",
    "        #df.loc[x, \"Duration\"] = df[\"Duration\"].mean()\n",
    "print(df)"
   ]
  },
  {
   "cell_type": "markdown",
   "id": "bdf960de",
   "metadata": {},
   "source": [
    "Removing Rows"
   ]
  },
  {
   "cell_type": "code",
   "execution_count": 59,
   "id": "6285a2d6",
   "metadata": {},
   "outputs": [],
   "source": [
    "# Delete rows where \"Duration\" is higher than 120:\n",
    "for x in df.index:\n",
    "    if df.loc[x, \"Duration\"] > 120:\n",
    "        df.drop(x, inplace = True)\n"
   ]
  },
  {
   "cell_type": "markdown",
   "id": "11996e66",
   "metadata": {},
   "source": [
    "Pandas - Removing Duplicates\n",
    "\n",
    "Duplicate rows are rows that have been registered more than one time."
   ]
  },
  {
   "cell_type": "code",
   "execution_count": 75,
   "id": "8aa36f3b",
   "metadata": {},
   "outputs": [
    {
     "name": "stdout",
     "output_type": "stream",
     "text": [
      "(32, 5)\n",
      "1\n"
     ]
    }
   ],
   "source": [
    "#Returns True for every row that is a duplicate, othwerwise False:\n",
    "#df = pd.read_csv('dirtydata.csv')\n",
    "\n",
    "print(df.shape)\n",
    "#print(df.duplicated())\n",
    "print(df.duplicated().sum())\n",
    "#print(df)"
   ]
  },
  {
   "cell_type": "code",
   "execution_count": 151,
   "id": "4000a33b",
   "metadata": {},
   "outputs": [
    {
     "name": "stdout",
     "output_type": "stream",
     "text": [
      "(31, 5)\n",
      "0\n"
     ]
    }
   ],
   "source": [
    "df.drop_duplicates(inplace = True)\n",
    "print(df.shape)\n",
    "#print(df.duplicated())\n",
    "print(df.duplicated().sum())\n",
    "#print(df)"
   ]
  },
  {
   "cell_type": "markdown",
   "id": "db767309",
   "metadata": {},
   "source": [
    "Remember: The (inplace = True) will make sure that the method does NOT return a new DataFrame, but it will remove all duplicates from the original DataFrame."
   ]
  },
  {
   "cell_type": "code",
   "execution_count": 160,
   "id": "9ac679c2",
   "metadata": {},
   "outputs": [],
   "source": [
    "df.to_csv('cleaned_dirty_data1.csv')"
   ]
  },
  {
   "cell_type": "markdown",
   "id": "3770549f",
   "metadata": {},
   "source": [
    "# 4.2.3 Pandas - Data Correlations"
   ]
  },
  {
   "cell_type": "markdown",
   "id": "695a77f1",
   "metadata": {},
   "source": [
    "A great aspect of the Pandas module is the corr() method.\n",
    "\n",
    "The corr() method calculates the relationship between each column in your data set."
   ]
  },
  {
   "cell_type": "code",
   "execution_count": 17,
   "id": "d0a3ff00",
   "metadata": {},
   "outputs": [
    {
     "data": {
      "text/html": [
       "<div>\n",
       "<style scoped>\n",
       "    .dataframe tbody tr th:only-of-type {\n",
       "        vertical-align: middle;\n",
       "    }\n",
       "\n",
       "    .dataframe tbody tr th {\n",
       "        vertical-align: top;\n",
       "    }\n",
       "\n",
       "    .dataframe thead th {\n",
       "        text-align: right;\n",
       "    }\n",
       "</style>\n",
       "<table border=\"1\" class=\"dataframe\">\n",
       "  <thead>\n",
       "    <tr style=\"text-align: right;\">\n",
       "      <th></th>\n",
       "      <th>Duration</th>\n",
       "      <th>Pulse</th>\n",
       "      <th>Maxpulse</th>\n",
       "      <th>Calories</th>\n",
       "    </tr>\n",
       "  </thead>\n",
       "  <tbody>\n",
       "    <tr>\n",
       "      <th>Duration</th>\n",
       "      <td>1.000000</td>\n",
       "      <td>-0.155408</td>\n",
       "      <td>0.009403</td>\n",
       "      <td>0.922717</td>\n",
       "    </tr>\n",
       "    <tr>\n",
       "      <th>Pulse</th>\n",
       "      <td>-0.155408</td>\n",
       "      <td>1.000000</td>\n",
       "      <td>0.786535</td>\n",
       "      <td>0.025121</td>\n",
       "    </tr>\n",
       "    <tr>\n",
       "      <th>Maxpulse</th>\n",
       "      <td>0.009403</td>\n",
       "      <td>0.786535</td>\n",
       "      <td>1.000000</td>\n",
       "      <td>0.203813</td>\n",
       "    </tr>\n",
       "    <tr>\n",
       "      <th>Calories</th>\n",
       "      <td>0.922717</td>\n",
       "      <td>0.025121</td>\n",
       "      <td>0.203813</td>\n",
       "      <td>1.000000</td>\n",
       "    </tr>\n",
       "  </tbody>\n",
       "</table>\n",
       "</div>"
      ],
      "text/plain": [
       "          Duration     Pulse  Maxpulse  Calories\n",
       "Duration  1.000000 -0.155408  0.009403  0.922717\n",
       "Pulse    -0.155408  1.000000  0.786535  0.025121\n",
       "Maxpulse  0.009403  0.786535  1.000000  0.203813\n",
       "Calories  0.922717  0.025121  0.203813  1.000000"
      ]
     },
     "execution_count": 17,
     "metadata": {},
     "output_type": "execute_result"
    }
   ],
   "source": [
    "#df = pd.read_csv('dirtydata.csv')\n",
    "df = pd.read_csv('data.csv')\n",
    "df.corr()\n",
    "#Note: The corr() method ignores \"not numeric\" columns."
   ]
  },
  {
   "cell_type": "markdown",
   "id": "60f92d74",
   "metadata": {},
   "source": [
    "Good Correlation:\n",
    "\n",
    "\"Duration\" and \"Calories\" got a 0.922721 correlation, which is a very good correlation, and we can predict that the longer you work out, the more calories you burn, and the other way around: if you burned a lot of calories, you probably had a long work out."
   ]
  },
  {
   "cell_type": "markdown",
   "id": "b132e5e1",
   "metadata": {},
   "source": [
    "Bad Correlation:\n",
    "\n",
    "\"Duration\" and \"Maxpulse\" got a 0.009403 correlation, which is a very bad correlation, meaning that we can not predict the max pulse by just looking at the duration of the work out, and vice versa."
   ]
  },
  {
   "cell_type": "markdown",
   "id": "a62fc184",
   "metadata": {},
   "source": [
    "# 4.2.4 Pandas - Plotting\n",
    "Pandas uses the plot() method to create diagrams.\n",
    "\n",
    "We can use Pyplot, a submodule of the Matplotlib library to visualize the diagram on the screen."
   ]
  },
  {
   "cell_type": "code",
   "execution_count": 77,
   "id": "3d4c88cd",
   "metadata": {},
   "outputs": [
    {
     "data": {
      "text/plain": [
       "<AxesSubplot:>"
      ]
     },
     "execution_count": 77,
     "metadata": {},
     "output_type": "execute_result"
    },
    {
     "data": {
      "image/png": "[encoded data removed]",
      "text/plain": [
       "<Figure size 432x288 with 1 Axes>"
      ]
     },
     "metadata": {
      "needs_background": "light"
     },
     "output_type": "display_data"
    }
   ],
   "source": [
    "import pandas as pd\n",
    "#import matplotlib.pyplot as plt\n",
    "\n",
    "df = pd.read_csv('data.csv')\n",
    "#print(df.head(2))\n",
    "df.plot()\n",
    "\n",
    "#plt.show()"
   ]
  },
  {
   "cell_type": "code",
   "execution_count": 19,
   "id": "67d1376d",
   "metadata": {},
   "outputs": [
    {
     "data": {
      "image/png": "[encoded data removed]",
      "text/plain": [
       "<Figure size 432x288 with 1 Axes>"
      ]
     },
     "metadata": {
      "needs_background": "light"
     },
     "output_type": "display_data"
    }
   ],
   "source": [
    "import pandas as pd\n",
    "import matplotlib.pyplot as plt\n",
    "\n",
    "df = pd.read_csv('data.csv')\n",
    "\n",
    "df.plot(kind = 'scatter', x = 'Duration', y = 'Calories')\n",
    "\n",
    "plt.show()"
   ]
  },
  {
   "cell_type": "markdown",
   "id": "b7baf81e",
   "metadata": {},
   "source": [
    "Remember: In the previous example, we learned that the correlation between \"Duration\" and \"Calories\" was 0.922721, and we conluded with the fact that higher duration means more calories burned.\n",
    "\n",
    "By looking at the scatterplot, I will agree."
   ]
  },
  {
   "cell_type": "code",
   "execution_count": 20,
   "id": "78f4dd22",
   "metadata": {},
   "outputs": [
    {
     "name": "stdout",
     "output_type": "stream",
     "text": [
      "-------------------------------\n"
     ]
    }
   ],
   "source": [
    "print(\"-------------------------------\")"
   ]
  },
  {
   "cell_type": "markdown",
   "id": "ec7dd4c2",
   "metadata": {},
   "source": [
    "Let's create another scatterplot, where there is a bad relationship between the columns, like \"Duration\" and \"Maxpulse\", with the correlation 0.009403:"
   ]
  },
  {
   "cell_type": "code",
   "execution_count": 21,
   "id": "99d953ad",
   "metadata": {},
   "outputs": [
    {
     "data": {
      "image/png": "[encoded data removed]",
      "text/plain": [
       "<Figure size 432x288 with 1 Axes>"
      ]
     },
     "metadata": {
      "needs_background": "light"
     },
     "output_type": "display_data"
    }
   ],
   "source": [
    "# A scatterplot where there are no relationship between the columns:\n",
    "import pandas as pd\n",
    "import matplotlib.pyplot as plt\n",
    "\n",
    "df = pd.read_csv('data.csv')\n",
    "\n",
    "df.plot(kind = 'scatter', x = 'Duration', y = 'Maxpulse')\n",
    "\n",
    "plt.show()"
   ]
  },
  {
   "cell_type": "code",
   "execution_count": 103,
   "id": "7b673edc",
   "metadata": {},
   "outputs": [
    {
     "name": "stdout",
     "output_type": "stream",
     "text": [
      "   height  weight  age  bmi\n",
      "0     5.2      50   22  2.0\n",
      "1     5.3      60   21  2.1\n",
      "2     5.5      70   23  2.3\n"
     ]
    }
   ],
   "source": [
    "data = {\n",
    "  \"height\":{\n",
    "    \"0\":5.2,\n",
    "    \"1\":5.3,\n",
    "    \"2\":5.5,\n",
    "  },\n",
    "  \"weight\":{\n",
    "    \"0\":50,\n",
    "    \"1\":60,\n",
    "    \"2\":70,\n",
    "  },\n",
    "  \"age\":{\n",
    "    \"0\":22,\n",
    "    \"1\":21,\n",
    "    \"2\":23,\n",
    "  },\n",
    "  \"bmi\":{\n",
    "    \"0\":2,\n",
    "    \"1\":2.1,\n",
    "    \"2\":2.3,\n",
    "  }  \n",
    "}\n",
    "df = pd.DataFrame(data)\n",
    "print(df) "
   ]
  },
  {
   "cell_type": "code",
   "execution_count": 84,
   "id": "4150ce05",
   "metadata": {},
   "outputs": [
    {
     "data": {
      "text/html": [
       "<div>\n",
       "<style scoped>\n",
       "    .dataframe tbody tr th:only-of-type {\n",
       "        vertical-align: middle;\n",
       "    }\n",
       "\n",
       "    .dataframe tbody tr th {\n",
       "        vertical-align: top;\n",
       "    }\n",
       "\n",
       "    .dataframe thead th {\n",
       "        text-align: right;\n",
       "    }\n",
       "</style>\n",
       "<table border=\"1\" class=\"dataframe\">\n",
       "  <thead>\n",
       "    <tr style=\"text-align: right;\">\n",
       "      <th></th>\n",
       "      <th>height</th>\n",
       "      <th>weight</th>\n",
       "      <th>age</th>\n",
       "      <th>bmi</th>\n",
       "    </tr>\n",
       "  </thead>\n",
       "  <tbody>\n",
       "    <tr>\n",
       "      <th>height</th>\n",
       "      <td>1.000000</td>\n",
       "      <td>0.981981</td>\n",
       "      <td>0.654654</td>\n",
       "      <td>1.000000</td>\n",
       "    </tr>\n",
       "    <tr>\n",
       "      <th>weight</th>\n",
       "      <td>0.981981</td>\n",
       "      <td>1.000000</td>\n",
       "      <td>0.500000</td>\n",
       "      <td>0.981981</td>\n",
       "    </tr>\n",
       "    <tr>\n",
       "      <th>age</th>\n",
       "      <td>0.654654</td>\n",
       "      <td>0.500000</td>\n",
       "      <td>1.000000</td>\n",
       "      <td>0.654654</td>\n",
       "    </tr>\n",
       "    <tr>\n",
       "      <th>bmi</th>\n",
       "      <td>1.000000</td>\n",
       "      <td>0.981981</td>\n",
       "      <td>0.654654</td>\n",
       "      <td>1.000000</td>\n",
       "    </tr>\n",
       "  </tbody>\n",
       "</table>\n",
       "</div>"
      ],
      "text/plain": [
       "          height    weight       age       bmi\n",
       "height  1.000000  0.981981  0.654654  1.000000\n",
       "weight  0.981981  1.000000  0.500000  0.981981\n",
       "age     0.654654  0.500000  1.000000  0.654654\n",
       "bmi     1.000000  0.981981  0.654654  1.000000"
      ]
     },
     "execution_count": 84,
     "metadata": {},
     "output_type": "execute_result"
    }
   ],
   "source": [
    "df.corr()"
   ]
  },
  {
   "cell_type": "code",
   "execution_count": 99,
   "id": "1e5de92a",
   "metadata": {},
   "outputs": [
    {
     "data": {
      "text/html": [
       "<div>\n",
       "<style scoped>\n",
       "    .dataframe tbody tr th:only-of-type {\n",
       "        vertical-align: middle;\n",
       "    }\n",
       "\n",
       "    .dataframe tbody tr th {\n",
       "        vertical-align: top;\n",
       "    }\n",
       "\n",
       "    .dataframe thead th {\n",
       "        text-align: right;\n",
       "    }\n",
       "</style>\n",
       "<table border=\"1\" class=\"dataframe\">\n",
       "  <thead>\n",
       "    <tr style=\"text-align: right;\">\n",
       "      <th></th>\n",
       "      <th>age</th>\n",
       "      <th>bmi</th>\n",
       "    </tr>\n",
       "  </thead>\n",
       "  <tbody>\n",
       "    <tr>\n",
       "      <th>0</th>\n",
       "      <td>22</td>\n",
       "      <td>2.0</td>\n",
       "    </tr>\n",
       "    <tr>\n",
       "      <th>1</th>\n",
       "      <td>21</td>\n",
       "      <td>2.1</td>\n",
       "    </tr>\n",
       "    <tr>\n",
       "      <th>2</th>\n",
       "      <td>23</td>\n",
       "      <td>2.3</td>\n",
       "    </tr>\n",
       "  </tbody>\n",
       "</table>\n",
       "</div>"
      ],
      "text/plain": [
       "   age  bmi\n",
       "0   22  2.0\n",
       "1   21  2.1\n",
       "2   23  2.3"
      ]
     },
     "execution_count": 99,
     "metadata": {},
     "output_type": "execute_result"
    }
   ],
   "source": [
    "ndf=df.drop(['height','weight'], axis='columns')\n",
    "#ndf=df.drop(['height','weight'], axis=1) # 1= column, 0=row\n",
    "ndf"
   ]
  },
  {
   "cell_type": "code",
   "execution_count": null,
   "id": "c93a2743",
   "metadata": {},
   "outputs": [],
   "source": []
  }
 ],
 "metadata": {
  "kernelspec": {
   "display_name": "Python 3 (ipykernel)",
   "language": "python",
   "name": "python3"
  },
  "language_info": {
   "codemirror_mode": {
    "name": "ipython",
    "version": 3
   },
   "file_extension": ".py",
   "mimetype": "text/x-python",
   "name": "python",
   "nbconvert_exporter": "python",
   "pygments_lexer": "ipython3",
   "version": "3.9.12"
  }
 },
 "nbformat": 4,
 "nbformat_minor": 5
}
