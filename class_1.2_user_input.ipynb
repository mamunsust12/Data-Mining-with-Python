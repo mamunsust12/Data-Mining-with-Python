{
 "cells": [
  {
   "cell_type": "code",
   "execution_count": 13,
   "id": "189ef1cd",
   "metadata": {},
   "outputs": [
    {
     "name": "stdout",
     "output_type": "stream",
     "text": [
      "Python 3.9.12\n"
     ]
    }
   ],
   "source": [
    "!python --version"
   ]
  },
  {
   "cell_type": "code",
   "execution_count": 3,
   "id": "41d5c3ab",
   "metadata": {},
   "outputs": [
    {
     "name": "stdout",
     "output_type": "stream",
     "text": [
      "Enter first number: 10\n",
      "Enter seconf number: 20\n",
      "Sum is  30\n"
     ]
    }
   ],
   "source": [
    "a=input(\"Enter first number: \")\n",
    "b=input(\"Enter seconf number: \")\n",
    "sum=int(a)+ int(b)\n",
    "print(\"Sum is \" , sum)"
   ]
  },
  {
   "cell_type": "code",
   "execution_count": 4,
   "id": "516a7d6f",
   "metadata": {},
   "outputs": [
    {
     "name": "stdout",
     "output_type": "stream",
     "text": [
      "Enter first number: 10\n",
      "Enter seconf number: 20\n",
      "Sum is  30\n"
     ]
    }
   ],
   "source": [
    "a=int(input(\"Enter first number: \"))\n",
    "b=int(input(\"Enter seconf number: \"))\n",
    "sum=a+b\n",
    "print(\"Sum is \" , sum)"
   ]
  },
  {
   "cell_type": "code",
   "execution_count": 23,
   "id": "a086bbf1",
   "metadata": {},
   "outputs": [],
   "source": [
    "def Greet():\n",
    "    name=input(\"Enter your name: \")\n",
    "    age=int(input(\"Enter your age: \"))\n",
    "    print(\"Congratullation \\nMr. \" + name + \n",
    "          \"\\nYou are \", age , \"now\")"
   ]
  },
  {
   "cell_type": "code",
   "execution_count": 24,
   "id": "b5a5834f",
   "metadata": {},
   "outputs": [
    {
     "name": "stdout",
     "output_type": "stream",
     "text": [
      "Enter your name: Salam\n",
      "Enter your age: 19\n",
      "Congratullation \n",
      "Mr. Salam\n",
      "You are  19 now\n"
     ]
    }
   ],
   "source": [
    "Greet()"
   ]
  },
  {
   "cell_type": "code",
   "execution_count": null,
   "id": "82f5db6f",
   "metadata": {},
   "outputs": [],
   "source": []
  }
 ],
 "metadata": {
  "kernelspec": {
   "display_name": "Python 3 (ipykernel)",
   "language": "python",
   "name": "python3"
  },
  "language_info": {
   "codemirror_mode": {
    "name": "ipython",
    "version": 3
   },
   "file_extension": ".py",
   "mimetype": "text/x-python",
   "name": "python",
   "nbconvert_exporter": "python",
   "pygments_lexer": "ipython3",
   "version": "3.9.12"
  }
 },
 "nbformat": 4,
 "nbformat_minor": 5
}
