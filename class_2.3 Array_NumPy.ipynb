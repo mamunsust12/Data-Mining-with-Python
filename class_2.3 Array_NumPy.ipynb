{
 "cells": [
  {
   "cell_type": "markdown",
   "id": "342289f0",
   "metadata": {},
   "source": [
    "Note: Python does not have built-in support for Arrays, but Python Lists can be used instead."
   ]
  },
  {
   "cell_type": "code",
   "execution_count": 1,
   "id": "ac122242",
   "metadata": {},
   "outputs": [
    {
     "data": {
      "text/plain": [
       "3"
      ]
     },
     "execution_count": 1,
     "metadata": {},
     "output_type": "execute_result"
    }
   ],
   "source": [
    "cars = [\"Ford\", \"Volvo\", \"BMW\"]\n",
    "len(cars)"
   ]
  },
  {
   "cell_type": "code",
   "execution_count": 3,
   "id": "c3a6f813",
   "metadata": {},
   "outputs": [
    {
     "name": "stdout",
     "output_type": "stream",
     "text": [
      "Ford\n",
      "Volvo\n",
      "BMW\n"
     ]
    }
   ],
   "source": [
    "for x in cars:\n",
    "    print(x)"
   ]
  },
  {
   "cell_type": "code",
   "execution_count": 7,
   "id": "f1b10655",
   "metadata": {},
   "outputs": [
    {
     "data": {
      "text/plain": [
       "['Ford', 'Volvo', 'BMW', 'BMW', 'BMW', 'BMW', 'BMW']"
      ]
     },
     "execution_count": 7,
     "metadata": {},
     "output_type": "execute_result"
    }
   ],
   "source": [
    "cars.append(\"BMW\")\n",
    "cars\n",
    "#print(cars)"
   ]
  },
  {
   "cell_type": "code",
   "execution_count": 8,
   "id": "9ee3d219",
   "metadata": {},
   "outputs": [
    {
     "data": {
      "text/plain": [
       "['Ford', 'Volvo', 'BMW', 'BMW', 'BMW', 'BMW']"
      ]
     },
     "execution_count": 8,
     "metadata": {},
     "output_type": "execute_result"
    }
   ],
   "source": [
    "cars.pop()\n",
    "cars"
   ]
  },
  {
   "cell_type": "code",
   "execution_count": 9,
   "id": "59b840f6",
   "metadata": {},
   "outputs": [
    {
     "data": {
      "text/plain": [
       "['Ford', 'BMW', 'BMW', 'BMW', 'BMW']"
      ]
     },
     "execution_count": 9,
     "metadata": {},
     "output_type": "execute_result"
    }
   ],
   "source": [
    "cars.pop(1)\n",
    "cars"
   ]
  },
  {
   "cell_type": "code",
   "execution_count": 10,
   "id": "6e39fd7b",
   "metadata": {},
   "outputs": [
    {
     "data": {
      "text/plain": [
       "['Ford', 'BMW', 'BMW', 'BMW']"
      ]
     },
     "execution_count": 10,
     "metadata": {},
     "output_type": "execute_result"
    }
   ],
   "source": [
    "cars.remove(\"BMW\")\n",
    "cars"
   ]
  },
  {
   "cell_type": "code",
   "execution_count": 12,
   "id": "38dcb602",
   "metadata": {},
   "outputs": [
    {
     "data": {
      "text/plain": [
       "['BMW', 'BMW', 'Ford', 'BMW', 'BMW', 'BMW']"
      ]
     },
     "execution_count": 12,
     "metadata": {},
     "output_type": "execute_result"
    }
   ],
   "source": [
    "cars.insert(0,\"BMW\")\n",
    "cars"
   ]
  },
  {
   "cell_type": "code",
   "execution_count": 14,
   "id": "f9c4aeeb",
   "metadata": {},
   "outputs": [
    {
     "data": {
      "text/plain": [
       "['Ford', 'BMW', 'BMW', 'BMW']"
      ]
     },
     "execution_count": 14,
     "metadata": {},
     "output_type": "execute_result"
    }
   ],
   "source": [
    "cars.remove(\"BMW\")\n",
    "cars"
   ]
  },
  {
   "cell_type": "code",
   "execution_count": 16,
   "id": "33b62569",
   "metadata": {},
   "outputs": [
    {
     "data": {
      "text/plain": [
       "[]"
      ]
     },
     "execution_count": 16,
     "metadata": {},
     "output_type": "execute_result"
    }
   ],
   "source": [
    "cars.clear()\n",
    "cars"
   ]
  },
  {
   "cell_type": "code",
   "execution_count": 17,
   "id": "081aacc3",
   "metadata": {},
   "outputs": [
    {
     "data": {
      "text/plain": [
       "['Ford', 'BMW', 'BMW', 'BMW']"
      ]
     },
     "execution_count": 17,
     "metadata": {},
     "output_type": "execute_result"
    }
   ],
   "source": [
    "car=['Ford', 'BMW', 'BMW', 'BMW']\n",
    "new_cars=car.copy()\n",
    "new_cars"
   ]
  },
  {
   "cell_type": "code",
   "execution_count": 18,
   "id": "31b2557a",
   "metadata": {},
   "outputs": [
    {
     "data": {
      "text/plain": [
       "['Ford', 'BMW', 'BMW', 'BMW']"
      ]
     },
     "execution_count": 18,
     "metadata": {},
     "output_type": "execute_result"
    }
   ],
   "source": [
    "nl=car\n",
    "nl"
   ]
  },
  {
   "cell_type": "code",
   "execution_count": 20,
   "id": "15fcda4a",
   "metadata": {},
   "outputs": [
    {
     "data": {
      "text/plain": [
       "3"
      ]
     },
     "execution_count": 20,
     "metadata": {},
     "output_type": "execute_result"
    }
   ],
   "source": [
    "nl.count(\"BMW\")"
   ]
  },
  {
   "cell_type": "code",
   "execution_count": 23,
   "id": "3fb0bdb6",
   "metadata": {},
   "outputs": [
    {
     "data": {
      "text/plain": [
       "['apple', 'banana', 'cherry', 'Ford', 'BMW', 'Volvo']"
      ]
     },
     "execution_count": 23,
     "metadata": {},
     "output_type": "execute_result"
    }
   ],
   "source": [
    "fruits = ['apple', 'banana', 'cherry']\n",
    "\n",
    "cars = ('Ford', 'BMW', 'Volvo') # list/ tuple or set\n",
    "\n",
    "fruits.extend(cars)\n",
    "fruits"
   ]
  },
  {
   "cell_type": "code",
   "execution_count": 25,
   "id": "c50de3a1",
   "metadata": {},
   "outputs": [
    {
     "data": {
      "text/plain": [
       "['apple', 'banana', 'cherry', 'Ford', 'BMW', 'Volvo']"
      ]
     },
     "execution_count": 25,
     "metadata": {},
     "output_type": "execute_result"
    }
   ],
   "source": [
    "fruits = ['apple', 'banana', 'cherry']\n",
    "cars = ['Ford', 'BMW', 'Volvo']\n",
    "nl=fruits+cars\n",
    "nl"
   ]
  },
  {
   "cell_type": "code",
   "execution_count": 27,
   "id": "fb920cda",
   "metadata": {},
   "outputs": [
    {
     "data": {
      "text/plain": [
       "2"
      ]
     },
     "execution_count": 27,
     "metadata": {},
     "output_type": "execute_result"
    }
   ],
   "source": [
    "fruits = ['apple', 'banana', 'cherry']\n",
    "\n",
    "x = fruits.index(\"cherry\")\n",
    "x"
   ]
  },
  {
   "cell_type": "code",
   "execution_count": null,
   "id": "935142e8",
   "metadata": {},
   "outputs": [],
   "source": []
  }
 ],
 "metadata": {
  "kernelspec": {
   "display_name": "Python 3 (ipykernel)",
   "language": "python",
   "name": "python3"
  },
  "language_info": {
   "codemirror_mode": {
    "name": "ipython",
    "version": 3
   },
   "file_extension": ".py",
   "mimetype": "text/x-python",
   "name": "python",
   "nbconvert_exporter": "python",
   "pygments_lexer": "ipython3",
   "version": "3.9.12"
  }
 },
 "nbformat": 4,
 "nbformat_minor": 5
}
