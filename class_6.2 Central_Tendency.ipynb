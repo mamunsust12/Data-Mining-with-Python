{
 "cells": [
  {
   "cell_type": "markdown",
   "metadata": {},
   "source": [
    "# Central Tendency"
   ]
  },
  {
   "cell_type": "markdown",
   "metadata": {},
   "source": [
    "Mean, Median, and Mode"
   ]
  },
  {
   "cell_type": "markdown",
   "metadata": {},
   "source": [
    "#Mean - The average value\n",
    "#Median - The mid point value\n",
    "#Mode - The most common value"
   ]
  },
  {
   "cell_type": "markdown",
   "metadata": {},
   "source": [
    "# Mean"
   ]
  },
  {
   "cell_type": "code",
   "execution_count": 1,
   "metadata": {},
   "outputs": [],
   "source": [
    "#Example: We have registered the speed of 13 cars:\n",
    "speed = [99,86,87,88,111,86,103,87,94,78,77,85,86]\n",
    "#What is the average, the middle, or the most common speed value?"
   ]
  },
  {
   "cell_type": "code",
   "execution_count": 2,
   "metadata": {},
   "outputs": [
    {
     "data": {
      "text/plain": [
       "89.76923076923077"
      ]
     },
     "execution_count": 2,
     "metadata": {},
     "output_type": "execute_result"
    }
   ],
   "source": [
    "mean= (99+86+87+88+111+86+103+87+94+78+77+85+86) / 13 \n",
    "mean"
   ]
  },
  {
   "cell_type": "code",
   "execution_count": 3,
   "metadata": {},
   "outputs": [
    {
     "name": "stdout",
     "output_type": "stream",
     "text": [
      "89.76923076923077\n",
      " 89.77\n"
     ]
    }
   ],
   "source": [
    "speed = [99,86,87,88,111,86,103,87,94,78,77,85,86]\n",
    "sum=0\n",
    "count=0\n",
    "for x in speed:\n",
    "    count=count+1\n",
    "    sum=sum+x\n",
    "mean=sum/count\n",
    "print(mean)\n",
    "print('% 0.2f' % mean)"
   ]
  },
  {
   "cell_type": "code",
   "execution_count": 12,
   "metadata": {},
   "outputs": [
    {
     "ename": "TypeError",
     "evalue": "'int' object is not callable",
     "output_type": "error",
     "traceback": [
      "\u001b[1;31m---------------------------------------------------------------------------\u001b[0m",
      "\u001b[1;31mTypeError\u001b[0m                                 Traceback (most recent call last)",
      "Input \u001b[1;32mIn [12]\u001b[0m, in \u001b[0;36m<cell line: 2>\u001b[1;34m()\u001b[0m\n\u001b[0;32m      1\u001b[0m speed \u001b[38;5;241m=\u001b[39m [\u001b[38;5;241m99\u001b[39m,\u001b[38;5;241m86\u001b[39m,\u001b[38;5;241m87\u001b[39m,\u001b[38;5;241m88\u001b[39m,\u001b[38;5;241m111\u001b[39m,\u001b[38;5;241m86\u001b[39m,\u001b[38;5;241m103\u001b[39m,\u001b[38;5;241m87\u001b[39m,\u001b[38;5;241m94\u001b[39m,\u001b[38;5;241m78\u001b[39m,\u001b[38;5;241m77\u001b[39m,\u001b[38;5;241m85\u001b[39m,\u001b[38;5;241m86\u001b[39m]\n\u001b[1;32m----> 2\u001b[0m x\u001b[38;5;241m=\u001b[39m\u001b[38;5;28;43msum\u001b[39;49m\u001b[43m(\u001b[49m\u001b[43mspeed\u001b[49m\u001b[43m)\u001b[49m \u001b[38;5;241m/\u001b[39m \u001b[38;5;28mlen\u001b[39m(speed)\n\u001b[0;32m      3\u001b[0m \u001b[38;5;28mprint\u001b[39m(x)\n\u001b[0;32m      4\u001b[0m \u001b[38;5;28mprint\u001b[39m(\u001b[38;5;28mmax\u001b[39m(speed))\n",
      "\u001b[1;31mTypeError\u001b[0m: 'int' object is not callable"
     ]
    }
   ],
   "source": [
    "speed = [99,86,87,88,111,86,103,87,94,78,77,85,86]\n",
    "x=sum(speed) / len(speed)\n",
    "print(x)\n",
    "print(max(speed))\n",
    "print(min(speed))\n",
    "#print(avg(speed))"
   ]
  },
  {
   "cell_type": "code",
   "execution_count": 56,
   "metadata": {},
   "outputs": [],
   "source": [
    "import math\n",
    "#mean.mean(speed)"
   ]
  },
  {
   "cell_type": "markdown",
   "metadata": {},
   "source": [
    "The NumPy module has a method for this:"
   ]
  },
  {
   "cell_type": "code",
   "execution_count": 53,
   "metadata": {
    "scrolled": true
   },
   "outputs": [
    {
     "name": "stdout",
     "output_type": "stream",
     "text": [
      "89.76923076923077\n"
     ]
    }
   ],
   "source": [
    "#Use the NumPy mean() method to find the average speed:\n",
    "import numpy as np\n",
    "speed = [99,86,87,88,111,86,103,87,94,78,77,85,86]\n",
    "x = np.mean(speed)\n",
    "print(x)"
   ]
  },
  {
   "cell_type": "markdown",
   "metadata": {},
   "source": [
    "# Median"
   ]
  },
  {
   "cell_type": "code",
   "execution_count": 1,
   "metadata": {},
   "outputs": [
    {
     "name": "stdout",
     "output_type": "stream",
     "text": [
      "86.5\n"
     ]
    }
   ],
   "source": [
    "#Use the NumPy median() method to find the middle value:\n",
    "import numpy as np\n",
    "#speed = [99,86,87,88,111,86,103,87,94,78,77,85,86] # odd list\n",
    "speed = [99,86,87,88,86,103,87,94,78,77,85,86] # even list\n",
    "x = np.median(speed)\n",
    "print(x)"
   ]
  },
  {
   "cell_type": "code",
   "execution_count": 2,
   "metadata": {},
   "outputs": [
    {
     "name": "stdout",
     "output_type": "stream",
     "text": [
      "[77, 78, 85, 86, 86, 86, 87, 87, 88, 94, 99, 103]\n"
     ]
    }
   ],
   "source": [
    "speed.sort()\n",
    "print(speed)"
   ]
  },
  {
   "cell_type": "code",
   "execution_count": 4,
   "metadata": {},
   "outputs": [],
   "source": [
    "#x = np.mode(speed)\n",
    "#print(x)"
   ]
  },
  {
   "cell_type": "markdown",
   "metadata": {},
   "source": [
    "# Mode"
   ]
  },
  {
   "cell_type": "markdown",
   "metadata": {},
   "source": [
    "The SciPy module has a method for this:"
   ]
  },
  {
   "cell_type": "code",
   "execution_count": null,
   "metadata": {},
   "outputs": [],
   "source": [
    "Use the SciPy mode() method to find the number that appears the most:"
   ]
  },
  {
   "cell_type": "code",
   "execution_count": 22,
   "metadata": {},
   "outputs": [
    {
     "name": "stdout",
     "output_type": "stream",
     "text": [
      "ModeResult(mode=array([86]), count=array([3]))\n",
      "[86]\n",
      "86\n",
      "[3]\n"
     ]
    }
   ],
   "source": [
    "import scipy.stats\n",
    "from scipy import stats\n",
    "speed = [99,86,87,88,111,86,103,87,94,78,77,85,86,87]\n",
    "x = stats.mode(speed)\n",
    "print(x)\n",
    "print(x.mode)\n",
    "print(x.mode[0])\n",
    "print(x.count)\n",
    "#print(x.multimode)\n",
    "#print(stats.quantiles(speed))"
   ]
  },
  {
   "cell_type": "markdown",
   "metadata": {},
   "source": [
    "# statistics — Mathematical statistics functions"
   ]
  },
  {
   "cell_type": "markdown",
   "metadata": {},
   "source": [
    "Averages and measures of central location\n",
    "These functions calculate an average or typical value from a population or sample.\n",
    "\n",
    "#mean()\tArithmetic mean (“average”) of data.\n",
    "#median()\tMedian (middle value) of data.\n",
    "#median_low()\tLow median of data.\n",
    "#median_high()\tHigh median of data.\n",
    "#median_grouped()\tMedian, or 50th percentile, of grouped data.\n",
    "#mode()\tMode (most common value) of discrete data.\n",
    "#quantiles()Divide data into intervals with equal probability."
   ]
  },
  {
   "cell_type": "code",
   "execution_count": 5,
   "metadata": {},
   "outputs": [],
   "source": [
    "data=[1,2,2,3]"
   ]
  },
  {
   "cell_type": "code",
   "execution_count": 8,
   "metadata": {},
   "outputs": [
    {
     "name": "stdout",
     "output_type": "stream",
     "text": [
      "2.6\n",
      "2\n",
      "2\n"
     ]
    }
   ],
   "source": [
    "import statistics as st\n",
    "print(st.mean(data))\n",
    "print(st.median(data))\n",
    "print(st.mode(data))"
   ]
  },
  {
   "cell_type": "code",
   "execution_count": 10,
   "metadata": {},
   "outputs": [
    {
     "name": "stdout",
     "output_type": "stream",
     "text": [
      "3\n",
      "3\n",
      "2\n",
      "[2, 4]\n"
     ]
    }
   ],
   "source": [
    "from statistics import mean, median, mode,multimode\n",
    "l=[1, 2,2, 3, 4, 4,5]\n",
    "print(mean(l))\n",
    "print(median(l))\n",
    "print(mode(l))\n",
    "print(multimode(l))\n"
   ]
  },
  {
   "cell_type": "code",
   "execution_count": 70,
   "metadata": {},
   "outputs": [
    {
     "name": "stdout",
     "output_type": "stream",
     "text": [
      "red\n",
      "c\n"
     ]
    }
   ],
   "source": [
    "print(mode([\"red\", \"blue\", \"blue\", \"red\", \"green\", \"red\", \"red\"]))\n",
    "print(mode('abccde'))\n",
    "#print(median('abccde'))\n",
    "#print(quantiles(l))\n",
    "#print(mode('abccdee')) # multimode"
   ]
  },
  {
   "cell_type": "code",
   "execution_count": 66,
   "metadata": {},
   "outputs": [],
   "source": [
    "l=[1,2,3,4,4,5]"
   ]
  },
  {
   "cell_type": "code",
   "execution_count": 68,
   "metadata": {},
   "outputs": [
    {
     "name": "stdout",
     "output_type": "stream",
     "text": [
      "3\n",
      "4\n",
      "3.5\n"
     ]
    }
   ],
   "source": [
    "from statistics import median_low,median_high,median_grouped,multimode,quantiles\n",
    "print(median_low(l))\n",
    "print(median_high(l))\n",
    "print(median_grouped(l))"
   ]
  },
  {
   "cell_type": "code",
   "execution_count": 12,
   "metadata": {},
   "outputs": [
    {
     "name": "stdout",
     "output_type": "stream",
     "text": [
      "[2, 3]\n"
     ]
    }
   ],
   "source": [
    "l=[1,2,2,3,3,4]\n",
    "print(multimode(l))"
   ]
  },
  {
   "cell_type": "markdown",
   "metadata": {},
   "source": [
    "# Quantile and Percentile"
   ]
  },
  {
   "cell_type": "markdown",
   "metadata": {},
   "source": [
    "Quantile"
   ]
  },
  {
   "cell_type": "code",
   "execution_count": 22,
   "metadata": {},
   "outputs": [
    {
     "name": "stdout",
     "output_type": "stream",
     "text": [
      "[2.0, 3.0, 4.0]\n"
     ]
    }
   ],
   "source": [
    "from statistics import quantiles\n",
    "#from statistics import percentile\n",
    "l=[1,2,2,3,4,4,5]\n",
    "print(quantiles(l))"
   ]
  },
  {
   "cell_type": "code",
   "execution_count": 20,
   "metadata": {},
   "outputs": [
    {
     "data": {
      "text/plain": [
       "3.0"
      ]
     },
     "execution_count": 20,
     "metadata": {},
     "output_type": "execute_result"
    }
   ],
   "source": [
    "np.mean(l)"
   ]
  },
  {
   "cell_type": "markdown",
   "metadata": {},
   "source": [
    "Percentile"
   ]
  },
  {
   "cell_type": "code",
   "execution_count": 24,
   "metadata": {},
   "outputs": [
    {
     "name": "stdout",
     "output_type": "stream",
     "text": [
      "2.0 3.0 4.0\n"
     ]
    }
   ],
   "source": [
    "#l=[1,2,3,4,5,6,7,8,9,10]\n",
    "l=[1,2,2,3,4,4,5]\n",
    "Q1= np.percentile(l,25)\n",
    "Q2= np.percentile(l,50)\n",
    "Q3= np.percentile(l,75)\n",
    "print(Q1, Q2, Q3)"
   ]
  },
  {
   "cell_type": "code",
   "execution_count": 27,
   "metadata": {},
   "outputs": [
    {
     "data": {
      "text/plain": [
       "array([2.  , 3.  , 4.  , 4.  , 4.94])"
      ]
     },
     "execution_count": 27,
     "metadata": {},
     "output_type": "execute_result"
    }
   ],
   "source": [
    "np.percentile(l,[25,50,75,80,99])"
   ]
  },
  {
   "cell_type": "code",
   "execution_count": 43,
   "metadata": {},
   "outputs": [],
   "source": [
    "#from statistics import  multimode\n",
    "#multimode('aabbbbccddddeeffffgg')\n",
    "#multimode('')"
   ]
  },
  {
   "cell_type": "code",
   "execution_count": null,
   "metadata": {},
   "outputs": [],
   "source": [
    "#import statistics.multimode\n",
    "#multimode('aabbbbccddddeeffffgg')\n",
    "#print(multimode('aabbbbccddddeeffffgg'))"
   ]
  },
  {
   "cell_type": "code",
   "execution_count": 73,
   "metadata": {},
   "outputs": [
    {
     "name": "stdout",
     "output_type": "stream",
     "text": [
      "Mode:  0 Count:  2\n",
      "Mode:  3 Count:  2\n",
      "Mode:  3 Count:  2\n",
      "Mode:  0 Count:  2\n",
      "None\n"
     ]
    }
   ],
   "source": [
    "def compute_mode(numbers):\n",
    "    mode = 0\n",
    "    count = 0\n",
    "    maxcount = 0\n",
    "    for number in numbers:\n",
    "        count = numbers.count(number)\n",
    "        if count >= maxcount:\n",
    "            maxcount = count\n",
    "            mode = number\n",
    "            print(\"Mode: \", mode, \"Count: \", maxcount)\n",
    "            \n",
    "print(compute_mode([0,1,3,5,7,3,0]))        "
   ]
  },
  {
   "cell_type": "code",
   "execution_count": null,
   "metadata": {},
   "outputs": [],
   "source": [
    "from collections import Counter\n",
    "\n",
    "def compute_mode(numbers):\n",
    "    counts = Counter(numbers)\n",
    "    print(counts)\n",
    "    print(type(counts))\n",
    "    maxcount = max(counts.values())\n",
    "    print(maxcount)\n",
    "    for num,count in counts:\n",
    "        if count == maxcount:\n",
    "            print(num, count)\n",
    "print(compute_mode([0,1,3,5,7,3,0]))  "
   ]
  },
  {
   "cell_type": "code",
   "execution_count": null,
   "metadata": {},
   "outputs": [],
   "source": [
    "def compute_mode(numbers):\n",
    "    counts = {}\n",
    "    maxcount = 0\n",
    "    for number in numbers:\n",
    "        if number not in counts:\n",
    "            counts[number] = 0\n",
    "        counts[number] += 1\n",
    "        if counts[number] > maxcount:\n",
    "            maxcount = counts[number]\n",
    "\n",
    "    for number, count in counts.items():\n",
    "        if count == maxcount:\n",
    "            print(number, count)\n",
    "print(compute_mode([0,1,3,5,7,3,0])) "
   ]
  },
  {
   "cell_type": "code",
   "execution_count": null,
   "metadata": {},
   "outputs": [],
   "source": [
    "from collections import Counter\n",
    "from itertools import groupby\n",
    "\n",
    "l = [1,2,3,3,3,4,4,4,5,5,6,6,6]\n",
    "\n",
    "# group most_common output by frequency\n",
    "freqs = groupby(Counter(l).most_common(), lambda x:x[1])\n",
    "# pick off the first group (highest frequency)\n",
    "print([val for val,count in next(freqs)[1]])\n",
    "# prints [3, 4, 6]"
   ]
  }
 ],
 "metadata": {
  "kernelspec": {
   "display_name": "Python 3 (ipykernel)",
   "language": "python",
   "name": "python3"
  },
  "language_info": {
   "codemirror_mode": {
    "name": "ipython",
    "version": 3
   },
   "file_extension": ".py",
   "mimetype": "text/x-python",
   "name": "python",
   "nbconvert_exporter": "python",
   "pygments_lexer": "ipython3",
   "version": "3.9.12"
  }
 },
 "nbformat": 4,
 "nbformat_minor": 2
}
