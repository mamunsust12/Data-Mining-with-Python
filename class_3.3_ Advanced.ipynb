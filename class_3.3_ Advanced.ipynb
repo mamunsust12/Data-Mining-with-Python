{
 "cells": [
  {
   "cell_type": "markdown",
   "id": "68f2475f",
   "metadata": {},
   "source": [
    "# map(), list comprehension, zip(), enumerate(), lambda, iterator,  Generator"
   ]
  },
  {
   "cell_type": "markdown",
   "id": "cab951f2",
   "metadata": {},
   "source": [
    "# List Comprehension"
   ]
  },
  {
   "cell_type": "markdown",
   "id": "a837d4aa",
   "metadata": {},
   "source": [
    "List comprehension offers a shorter syntax when you want to create a new list based on the values of an existing list"
   ]
  },
  {
   "cell_type": "markdown",
   "id": "53c6d88c",
   "metadata": {},
   "source": [
    "The Syntax : newlist = [expression for item in iterable if condition == True]"
   ]
  },
  {
   "cell_type": "code",
   "execution_count": 15,
   "id": "d0cf57e2",
   "metadata": {},
   "outputs": [
    {
     "name": "stdout",
     "output_type": "stream",
     "text": [
      "['banana', 'cherry', 'kiwi', 'mango']\n"
     ]
    }
   ],
   "source": [
    "fruits = [\"apple\", \"banana\", \"cherry\", \"kiwi\", \"mango\"]\n",
    "newlist = [x for x in fruits if x != \"apple\"]\n",
    "print(newlist)"
   ]
  },
  {
   "cell_type": "code",
   "execution_count": 16,
   "id": "4f5970de",
   "metadata": {},
   "outputs": [
    {
     "name": "stdout",
     "output_type": "stream",
     "text": [
      "['apple', 'banana', 'mango']\n"
     ]
    }
   ],
   "source": [
    "fruits = [\"apple\", \"banana\", \"cherry\", \"kiwi\", \"mango\"]\n",
    "\n",
    "newlist = [x for x in fruits if \"a\" in x]\n",
    "\n",
    "print(newlist)"
   ]
  },
  {
   "cell_type": "markdown",
   "id": "e38effc0",
   "metadata": {},
   "source": [
    "The above lis can be found by nanual coding like this"
   ]
  },
  {
   "cell_type": "code",
   "execution_count": 18,
   "id": "2cdfce1f",
   "metadata": {},
   "outputs": [
    {
     "name": "stdout",
     "output_type": "stream",
     "text": [
      "['apple', 'banana', 'mango']\n"
     ]
    }
   ],
   "source": [
    "fruits = [\"apple\", \"banana\", \"cherry\", \"kiwi\", \"mango\"]\n",
    "newlist = []\n",
    "\n",
    "for x in fruits:\n",
    "    if \"a\" in x:\n",
    "        newlist.append(x)\n",
    "\n",
    "print(newlist)"
   ]
  },
  {
   "cell_type": "markdown",
   "id": "4f5ac6b8",
   "metadata": {},
   "source": [
    "# map() Function in Python"
   ]
  },
  {
   "cell_type": "markdown",
   "id": "01b05ce8",
   "metadata": {},
   "source": [
    "Definition and Usage : The map() function executes a specified function for each item in an iterable. \n",
    "\n",
    "The item is sent to the function as a parameter."
   ]
  },
  {
   "cell_type": "markdown",
   "id": "1db37fcf",
   "metadata": {},
   "source": [
    "Syntax : map(function, iterables)"
   ]
  },
  {
   "cell_type": "code",
   "execution_count": 8,
   "id": "ad7d101c",
   "metadata": {},
   "outputs": [
    {
     "name": "stdout",
     "output_type": "stream",
     "text": [
      "<map object at 0x000001FBE13468E0>\n",
      "[5, 6, 6]\n"
     ]
    }
   ],
   "source": [
    "def myfunc(n):\n",
    "    #print(n)\n",
    "    return len(n)\n",
    "x = map(myfunc, ('apple', 'banana', 'cherry'))\n",
    "\n",
    "print(x)\n",
    "#convert the map into a list, for readability:\n",
    "print(list(x))\n"
   ]
  },
  {
   "cell_type": "code",
   "execution_count": 1,
   "id": "92af7b14",
   "metadata": {},
   "outputs": [
    {
     "data": {
      "text/plain": [
       "[5, 6, 6]"
      ]
     },
     "execution_count": 1,
     "metadata": {},
     "output_type": "execute_result"
    }
   ],
   "source": [
    "x=['apple', 'banana', 'cherry']\n",
    "nx=[len(a) for a in x if True]\n",
    "nx"
   ]
  },
  {
   "cell_type": "code",
   "execution_count": 11,
   "id": "74004071",
   "metadata": {},
   "outputs": [
    {
     "name": "stdout",
     "output_type": "stream",
     "text": [
      "<map object at 0x000001FBE132E4C0>\n",
      "[3, 4, 1]\n"
     ]
    }
   ],
   "source": [
    "def myfunc(a, b):\n",
    "  return a**b\n",
    "\n",
    "x = map(myfunc, (3,2,1), (1,2,3))\n",
    "\n",
    "print(x)\n",
    "\n",
    "#convert the map into a list, for readability:\n",
    "print(list(x))"
   ]
  },
  {
   "cell_type": "markdown",
   "id": "120b687d",
   "metadata": {},
   "source": [
    "#  zip() Function Python"
   ]
  },
  {
   "cell_type": "markdown",
   "id": "8b52ead8",
   "metadata": {},
   "source": [
    "The zip() function takes iterables (can be zero or more), \n",
    "aggregates them in a tuple, and returns "
   ]
  },
  {
   "cell_type": "code",
   "execution_count": 10,
   "id": "8f2b0fde",
   "metadata": {},
   "outputs": [
    {
     "name": "stdout",
     "output_type": "stream",
     "text": [
      "<zip object at 0x0000019E4368DE00>\n",
      "<class 'zip'>\n",
      "0 John Jenny\n",
      "1 Charles Christy\n",
      "2 Mike Monica\n"
     ]
    }
   ],
   "source": [
    "a = (\"John\", \"Charles\", \"Mike\")\n",
    "b = (\"Jenny\", \"Christy\", \"Monica\")\n",
    "x = zip(a, b)\n",
    "print(x)\n",
    "print(type(x))\n",
    "\n",
    "#use the tuple() function to display a readable version of the result:\n",
    "#print(tuple(x))\n",
    "#print(list(x))\n",
    "\n",
    "for i, (name1, name2) in enumerate(x):\n",
    "    print(i, name1, name2)"
   ]
  },
  {
   "cell_type": "code",
   "execution_count": 14,
   "id": "f48969da",
   "metadata": {},
   "outputs": [
    {
     "name": "stdout",
     "output_type": "stream",
     "text": [
      "0 Mukesh 24\n",
      "1 Roni 50\n",
      "2 Chari 18\n"
     ]
    }
   ],
   "source": [
    "names = ['Mukesh', 'Roni', 'Chari']\n",
    "ages = [24, 50, 18]\n",
    "z=zip(names, ages)\n",
    "for i, (name, age) in enumerate(z):\n",
    "    print(i, name, age)"
   ]
  },
  {
   "cell_type": "markdown",
   "id": "764143ea",
   "metadata": {},
   "source": [
    "# Enumerate() in Python"
   ]
  },
  {
   "cell_type": "markdown",
   "id": "b89d740e",
   "metadata": {},
   "source": [
    "The enumerate() function takes a collection (e.g. a tuple) and returns it as an enumerate object.\n",
    "\n",
    "The enumerate() function adds a counter as the key of the enumerate object."
   ]
  },
  {
   "cell_type": "code",
   "execution_count": 16,
   "id": "bfc7467f",
   "metadata": {},
   "outputs": [
    {
     "name": "stdout",
     "output_type": "stream",
     "text": [
      "(0, 'eat')\n",
      "(1, 'sleep')\n",
      "(2, 'repeat')\n"
     ]
    }
   ],
   "source": [
    "# Python program to illustrate\n",
    "# enumerate function in loops\n",
    "l1 = [\"eat\", \"sleep\", \"repeat\"]\n",
    "  \n",
    "# printing the tuples in object directly\n",
    "for e in enumerate(l1):\n",
    "    print (e)"
   ]
  },
  {
   "cell_type": "code",
   "execution_count": null,
   "id": "792c31ec",
   "metadata": {},
   "outputs": [],
   "source": [
    "# changing index and printing separately\n",
    "for count, e in enumerate(l1, 100):\n",
    "    print (count, e)\n",
    "  \n",
    "# getting desired output from tuple\n",
    "for count, ele in enumerate(l1):\n",
    "    print(count)\n",
    "    print(ele)"
   ]
  },
  {
   "cell_type": "markdown",
   "id": "c5792ef3",
   "metadata": {},
   "source": [
    "# Python Iterators"
   ]
  },
  {
   "cell_type": "markdown",
   "id": "57ab0aa0",
   "metadata": {},
   "source": [
    "An iterator is an object that contains a countable number of values.\n",
    "\n",
    "An iterator is an object that can be iterated upon, meaning that you can traverse through all the values."
   ]
  },
  {
   "cell_type": "code",
   "execution_count": 19,
   "id": "dfcec042",
   "metadata": {},
   "outputs": [
    {
     "name": "stdout",
     "output_type": "stream",
     "text": [
      "apple\n",
      "banana\n",
      "cherry\n"
     ]
    }
   ],
   "source": [
    "mytuple = (\"apple\", \"banana\", \"cherry\")\n",
    "myit = iter(mytuple)\n",
    "\n",
    "print(next(myit))\n",
    "print(next(myit))\n",
    "print(next(myit))\n"
   ]
  },
  {
   "cell_type": "code",
   "execution_count": 19,
   "id": "36496e60",
   "metadata": {},
   "outputs": [
    {
     "name": "stdout",
     "output_type": "stream",
     "text": [
      "cherry\n"
     ]
    }
   ],
   "source": [
    "mytuple = [\"apple\", \"banana\", \"cherry\"]\n",
    "mytuple.reverse()\n",
    "myit = iter(mytuple)\n",
    "\n",
    "print(next(myit))\n"
   ]
  },
  {
   "cell_type": "markdown",
   "id": "a64af735",
   "metadata": {},
   "source": [
    "We can also use a for loop to iterate through an iterable object:"
   ]
  },
  {
   "cell_type": "code",
   "execution_count": 23,
   "id": "58daac56",
   "metadata": {},
   "outputs": [
    {
     "name": "stdout",
     "output_type": "stream",
     "text": [
      "apple\n",
      "banana\n",
      "cherry\n"
     ]
    }
   ],
   "source": [
    "mytuple = (\"apple\", \"banana\", \"cherry\")\n",
    "\n",
    "for x in mytuple:\n",
    "    print(x)"
   ]
  },
  {
   "cell_type": "code",
   "execution_count": null,
   "id": "6923dc04",
   "metadata": {},
   "outputs": [],
   "source": []
  }
 ],
 "metadata": {
  "kernelspec": {
   "display_name": "Python 3 (ipykernel)",
   "language": "python",
   "name": "python3"
  },
  "language_info": {
   "codemirror_mode": {
    "name": "ipython",
    "version": 3
   },
   "file_extension": ".py",
   "mimetype": "text/x-python",
   "name": "python",
   "nbconvert_exporter": "python",
   "pygments_lexer": "ipython3",
   "version": "3.9.12"
  }
 },
 "nbformat": 4,
 "nbformat_minor": 5
}
