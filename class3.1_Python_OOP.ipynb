{
 "cells": [
  {
   "cell_type": "markdown",
   "id": "370419fd",
   "metadata": {},
   "source": [
    "# Python OOP - Class and Object"
   ]
  },
  {
   "cell_type": "markdown",
   "id": "d1d0458a",
   "metadata": {},
   "source": [
    "Python is an object oriented programming language.\n",
    "\n",
    "Almost everything in Python is an object, with its properties and methods."
   ]
  },
  {
   "cell_type": "code",
   "execution_count": 1,
   "id": "d4ae1bdc",
   "metadata": {},
   "outputs": [],
   "source": [
    "#Create a class named A, with a property named x:\n",
    "class A:\n",
    "    x = 5"
   ]
  },
  {
   "cell_type": "code",
   "execution_count": 2,
   "id": "ae75d364",
   "metadata": {},
   "outputs": [
    {
     "name": "stdout",
     "output_type": "stream",
     "text": [
      "5\n"
     ]
    }
   ],
   "source": [
    "#Create an object named p1, and print the value of x:\n",
    "p1 = A()\n",
    "print(p1.x)"
   ]
  },
  {
   "cell_type": "markdown",
   "id": "a8fad516",
   "metadata": {},
   "source": [
    "# The __init__() Function"
   ]
  },
  {
   "cell_type": "raw",
   "id": "372b48c3",
   "metadata": {},
   "source": [
    "The  __init__() is a built-in function in Python.\n",
    "\n",
    "All classes have a function called __init__(), which is always executed when the class is being initiated.\n",
    "\n",
    "Use the __init__() function to assign values to object properties, or other operations that are necessary to do when the object is being created:"
   ]
  },
  {
   "cell_type": "code",
   "execution_count": 12,
   "id": "da55a208",
   "metadata": {},
   "outputs": [],
   "source": [
    "class Person:\n",
    "    x=10 # public\n",
    "    def __init__(self, name, age):\n",
    "        self.name = name\n",
    "        self.age = age\n",
    "\n",
    "    def myfunc(self):\n",
    "        print(\"Hello my name is \" + self.name)\n",
    "        print(\"Hello my age is \" + self.age)"
   ]
  },
  {
   "cell_type": "code",
   "execution_count": 15,
   "id": "6ca5644c",
   "metadata": {},
   "outputs": [
    {
     "name": "stdout",
     "output_type": "stream",
     "text": [
      "Hello my name is Sakib\n",
      "Hello my age is  23\n",
      "Hello my name is Akib\n",
      "Hello my age is  22\n"
     ]
    }
   ],
   "source": [
    "ob1=Person(\"Sakib\",23)\n",
    "ob1.myfunc()\n",
    "ob2=Person(\"Akib\",22)\n",
    "ob2.myfunc()"
   ]
  },
  {
   "cell_type": "markdown",
   "id": "0c71c5d0",
   "metadata": {},
   "source": [
    "# The self Parameter\n",
    "The self parameter is a reference to the current instance of the class, and is used to access variables that belongs to the class.\n",
    "\n",
    "It does not have to be named self , you can call it whatever you like, but it has to be the first parameter of any function in the class:"
   ]
  },
  {
   "cell_type": "code",
   "execution_count": 17,
   "id": "3f219672",
   "metadata": {},
   "outputs": [
    {
     "name": "stdout",
     "output_type": "stream",
     "text": [
      "Hello my name is John\n",
      "Hello my name is John\n",
      "Hello my name is Zerin\n"
     ]
    }
   ],
   "source": [
    "class Person:\n",
    "    def __init__(self, name, age):\n",
    "        self.name = name\n",
    "        self.age = age\n",
    "\n",
    "    def myfunc1(a): # abc is self\n",
    "        print(\"Hello my name is \" + a.name)\n",
    "    def myfunc2(self,b): # a is self; b,c : User defined\n",
    "        print(\"Hello my name is \" + self.name)\n",
    "        print(\"Hello my name is \" + b)\n",
    "\n",
    "p1 = Person(\"John\", 36)\n",
    "p1.myfunc1()\n",
    "p1.myfunc2(\"Zerin\")"
   ]
  },
  {
   "cell_type": "markdown",
   "id": "1d18ff47",
   "metadata": {},
   "source": [
    "# Python Access Modifiers"
   ]
  },
  {
   "cell_type": "code",
   "execution_count": 32,
   "id": "025034b1",
   "metadata": {},
   "outputs": [
    {
     "name": "stdout",
     "output_type": "stream",
     "text": [
      "Hello my name is John\n",
      "Private variable  20\n",
      "Strongly Private variable  30\n"
     ]
    }
   ],
   "source": [
    "class Person:\n",
    "    x=10 # public\n",
    "    _y=20 # pivate\n",
    "    __z=30 #strongly private\n",
    "    def __init__(self, name):\n",
    "        self.name = name\n",
    "\n",
    "    def myfunc(self):\n",
    "        print(\"Hello my name is \" + self.name)\n",
    "        print(\"Private variable \", self._y)\n",
    "        print(\"Strongly Private variable \", self.__z)\n",
    "\n",
    "p1 = Person(\"John\")\n",
    "p1.myfunc()\n",
    "#print(p1.x)\n",
    "#print(p1._y)\n",
    "#print(p1.__z)\n"
   ]
  },
  {
   "cell_type": "code",
   "execution_count": 20,
   "id": "396e25a0",
   "metadata": {},
   "outputs": [
    {
     "name": "stdout",
     "output_type": "stream",
     "text": [
      "10\n",
      "20\n",
      "Hello my name is John\n",
      "Hello my name is Akib\n"
     ]
    }
   ],
   "source": []
  },
  {
   "cell_type": "markdown",
   "id": "60adb022",
   "metadata": {},
   "source": [
    "# Modify Object Properties"
   ]
  },
  {
   "cell_type": "code",
   "execution_count": 13,
   "id": "1a3ff6aa",
   "metadata": {},
   "outputs": [],
   "source": [
    "class Person:\n",
    "    def __init__(sakib, name, age):\n",
    "        sakib.name = name\n",
    "        sakib.age = age\n",
    "\n",
    "    def myfunc(abc):\n",
    "        print(\"Hello my name is \" + abc.name)\n",
    "        print(\"Hello my age is \" + str(abc.age))"
   ]
  },
  {
   "cell_type": "code",
   "execution_count": 14,
   "id": "15d22591",
   "metadata": {},
   "outputs": [
    {
     "name": "stdout",
     "output_type": "stream",
     "text": [
      "Hello my name is Zarin\n",
      "Hello my age is 22\n",
      "Hello my name is Tarin\n",
      "Hello my age is 23\n"
     ]
    }
   ],
   "source": [
    "p1=Person(\"Zarin\",22)\n",
    "p1.myfunc()\n",
    "# Change Name and Age\n",
    "p1.name = \"Tarin\"\n",
    "p1.age = 23\n",
    "p1.myfunc()"
   ]
  },
  {
   "cell_type": "code",
   "execution_count": 12,
   "id": "42b684c0",
   "metadata": {},
   "outputs": [
    {
     "name": "stdout",
     "output_type": "stream",
     "text": [
      "Hello my name is Tarin\n"
     ]
    }
   ],
   "source": [
    "#Delete attribute\n",
    "del p1.age\n",
    "p1.myfunc()"
   ]
  },
  {
   "cell_type": "code",
   "execution_count": null,
   "id": "7c265405",
   "metadata": {},
   "outputs": [],
   "source": [
    "#Delete object\n",
    "del p1\n",
    "#p1.myfunc()"
   ]
  },
  {
   "cell_type": "code",
   "execution_count": null,
   "id": "055f968e",
   "metadata": {},
   "outputs": [],
   "source": [
    "# pass statement with class\n",
    "class Person:\n",
    "    pass"
   ]
  },
  {
   "cell_type": "markdown",
   "id": "2f2d500e",
   "metadata": {},
   "source": [
    "# Inheritance in Python"
   ]
  },
  {
   "cell_type": "markdown",
   "id": "3be15d0b",
   "metadata": {},
   "source": [
    "Inheritance allows us to define a class that inherits all the methods and properties from another class.\n",
    "\n",
    "Parent class is the class being inherited from, also called base class.\n",
    "\n",
    "Child class is the class that inherits from another class, also called derived class."
   ]
  },
  {
   "cell_type": "code",
   "execution_count": 5,
   "id": "fe3236c0",
   "metadata": {},
   "outputs": [
    {
     "name": "stdout",
     "output_type": "stream",
     "text": [
      "5\n",
      "10\n",
      "100\n"
     ]
    }
   ],
   "source": [
    "class Person:\n",
    "    a=100\n",
    "    x=5\n",
    "class Student(Person):\n",
    "    x=10\n",
    "\n",
    "p1=Person()\n",
    "print(p1.x)\n",
    "\n",
    "p2=Student()\n",
    "print(p2.x)\n",
    "print(p2.a)"
   ]
  },
  {
   "cell_type": "code",
   "execution_count": 6,
   "id": "1fdc70ab",
   "metadata": {},
   "outputs": [
    {
     "name": "stdout",
     "output_type": "stream",
     "text": [
      "John Doe\n"
     ]
    }
   ],
   "source": [
    "# Parent Class : Person\n",
    "class Person:\n",
    "    def __init__(self, fname, lname):\n",
    "        self.firstname = fname\n",
    "        self.lastname = lname\n",
    "\n",
    "    def printname(self):\n",
    "        print(self.firstname, self.lastname)\n",
    "\n",
    "#Use the Person class to create an object, and then execute the printname method:\n",
    "\n",
    "x = Person(\"John\", \"Doe\")\n",
    "x.printname()"
   ]
  },
  {
   "cell_type": "code",
   "execution_count": 7,
   "id": "b6324494",
   "metadata": {},
   "outputs": [],
   "source": [
    "#Child Class :\n",
    "class Student(Person):\n",
    "    def __init__(self, fname, lname, year):\n",
    "        super().__init__(fname, lname)\n",
    "        self.graduationyear = year\n",
    "\n",
    "    def welcome(self):\n",
    "        print(\"Welcome\", self.firstname, self.lastname, \"to the class of\", self.graduationyear)"
   ]
  },
  {
   "cell_type": "code",
   "execution_count": 8,
   "id": "64ee63bd",
   "metadata": {},
   "outputs": [
    {
     "name": "stdout",
     "output_type": "stream",
     "text": [
      "Welcome Akib Sakib to the class of 2023\n"
     ]
    }
   ],
   "source": [
    "p2=Student(\"Akib\", \"Sakib\", 2023)\n",
    "p2.welcome()"
   ]
  },
  {
   "cell_type": "markdown",
   "id": "274cf071",
   "metadata": {},
   "source": [
    "If you add the __init__() function, the child class will no longer inherit the parent's __init__() function."
   ]
  },
  {
   "cell_type": "markdown",
   "id": "98351d6c",
   "metadata": {},
   "source": [
    "By using the super() function, you do not have to use the name of the parent element, it will automatically inherit the methods and properties from its parent.\n",
    "\n"
   ]
  },
  {
   "cell_type": "markdown",
   "id": "8de443b7",
   "metadata": {},
   "source": [
    "# Access Modifiers with inheritance"
   ]
  },
  {
   "cell_type": "code",
   "execution_count": 37,
   "id": "83c08d5b",
   "metadata": {},
   "outputs": [
    {
     "name": "stdout",
     "output_type": "stream",
     "text": [
      "Hello my name is Habib\n",
      "Private variable  20\n",
      "Strongly Private variable  30\n",
      "20\n"
     ]
    }
   ],
   "source": [
    "class Person:\n",
    "    x=10 # public\n",
    "    _y=20 # pivate\n",
    "    __z=30 #strongly private\n",
    "    def __init__(self, name):\n",
    "        self.name = name\n",
    "\n",
    "    def myfunc(self):\n",
    "        print(\"Hello my name is \" + self.name)\n",
    "        print(\"Private variable \", self._y)\n",
    "        print(\"Strongly Private variable \", self.__z)\n",
    "        \n",
    "class Student(Person): \n",
    "    pass\n",
    "p1 = Person(\"John\")\n",
    "p2=Student(\"Habib\")\n",
    "p2.myfunc()\n",
    "#print(p1.x)\n",
    "print(p2._y)\n",
    "#print(p2.__z)"
   ]
  },
  {
   "cell_type": "code",
   "execution_count": null,
   "id": "3a4bd0ab",
   "metadata": {},
   "outputs": [],
   "source": []
  }
 ],
 "metadata": {
  "kernelspec": {
   "display_name": "Python 3 (ipykernel)",
   "language": "python",
   "name": "python3"
  },
  "language_info": {
   "codemirror_mode": {
    "name": "ipython",
    "version": 3
   },
   "file_extension": ".py",
   "mimetype": "text/x-python",
   "name": "python",
   "nbconvert_exporter": "python",
   "pygments_lexer": "ipython3",
   "version": "3.9.12"
  }
 },
 "nbformat": 4,
 "nbformat_minor": 5
}
