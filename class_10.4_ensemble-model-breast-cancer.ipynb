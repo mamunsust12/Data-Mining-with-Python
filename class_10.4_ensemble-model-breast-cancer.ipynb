{
 "cells": [
  {
   "cell_type": "code",
   "execution_count": 34,
   "metadata": {},
   "outputs": [],
   "source": [
    "import numpy as np \n",
    "import pandas as pd\n",
    "from sklearn.model_selection import train_test_split\n",
    "from sklearn.linear_model import LogisticRegression\n",
    "from sklearn.tree import DecisionTreeClassifier\n",
    "from sklearn.naive_bayes import GaussianNB\n",
    "from sklearn.svm import SVC\n",
    "from sklearn. ensemble import RandomForestClassifier, BaggingClassifier, AdaBoostClassifier, VotingClassifier"
   ]
  },
  {
   "cell_type": "code",
   "execution_count": 35,
   "metadata": {
    "execution": {
     "iopub.execute_input": "2022-06-20T17:37:03.16846Z",
     "iopub.status.busy": "2022-06-20T17:37:03.168159Z",
     "iopub.status.idle": "2022-06-20T17:37:03.206644Z",
     "shell.execute_reply": "2022-06-20T17:37:03.205733Z",
     "shell.execute_reply.started": "2022-06-20T17:37:03.16843Z"
    }
   },
   "outputs": [
    {
     "data": {
      "text/html": [
       "<div>\n",
       "<style scoped>\n",
       "    .dataframe tbody tr th:only-of-type {\n",
       "        vertical-align: middle;\n",
       "    }\n",
       "\n",
       "    .dataframe tbody tr th {\n",
       "        vertical-align: top;\n",
       "    }\n",
       "\n",
       "    .dataframe thead th {\n",
       "        text-align: right;\n",
       "    }\n",
       "</style>\n",
       "<table border=\"1\" class=\"dataframe\">\n",
       "  <thead>\n",
       "    <tr style=\"text-align: right;\">\n",
       "      <th></th>\n",
       "      <th>id</th>\n",
       "      <th>diagnosis</th>\n",
       "      <th>radius_mean</th>\n",
       "      <th>texture_mean</th>\n",
       "      <th>perimeter_mean</th>\n",
       "      <th>area_mean</th>\n",
       "      <th>smoothness_mean</th>\n",
       "      <th>compactness_mean</th>\n",
       "      <th>concavity_mean</th>\n",
       "      <th>concave points_mean</th>\n",
       "      <th>...</th>\n",
       "      <th>texture_worst</th>\n",
       "      <th>perimeter_worst</th>\n",
       "      <th>area_worst</th>\n",
       "      <th>smoothness_worst</th>\n",
       "      <th>compactness_worst</th>\n",
       "      <th>concavity_worst</th>\n",
       "      <th>concave points_worst</th>\n",
       "      <th>symmetry_worst</th>\n",
       "      <th>fractal_dimension_worst</th>\n",
       "      <th>Unnamed: 32</th>\n",
       "    </tr>\n",
       "  </thead>\n",
       "  <tbody>\n",
       "    <tr>\n",
       "      <th>0</th>\n",
       "      <td>842302</td>\n",
       "      <td>M</td>\n",
       "      <td>17.99</td>\n",
       "      <td>10.38</td>\n",
       "      <td>122.80</td>\n",
       "      <td>1001.0</td>\n",
       "      <td>0.11840</td>\n",
       "      <td>0.27760</td>\n",
       "      <td>0.3001</td>\n",
       "      <td>0.14710</td>\n",
       "      <td>...</td>\n",
       "      <td>17.33</td>\n",
       "      <td>184.60</td>\n",
       "      <td>2019.0</td>\n",
       "      <td>0.1622</td>\n",
       "      <td>0.6656</td>\n",
       "      <td>0.7119</td>\n",
       "      <td>0.2654</td>\n",
       "      <td>0.4601</td>\n",
       "      <td>0.11890</td>\n",
       "      <td>NaN</td>\n",
       "    </tr>\n",
       "    <tr>\n",
       "      <th>1</th>\n",
       "      <td>842517</td>\n",
       "      <td>M</td>\n",
       "      <td>20.57</td>\n",
       "      <td>17.77</td>\n",
       "      <td>132.90</td>\n",
       "      <td>1326.0</td>\n",
       "      <td>0.08474</td>\n",
       "      <td>0.07864</td>\n",
       "      <td>0.0869</td>\n",
       "      <td>0.07017</td>\n",
       "      <td>...</td>\n",
       "      <td>23.41</td>\n",
       "      <td>158.80</td>\n",
       "      <td>1956.0</td>\n",
       "      <td>0.1238</td>\n",
       "      <td>0.1866</td>\n",
       "      <td>0.2416</td>\n",
       "      <td>0.1860</td>\n",
       "      <td>0.2750</td>\n",
       "      <td>0.08902</td>\n",
       "      <td>NaN</td>\n",
       "    </tr>\n",
       "    <tr>\n",
       "      <th>2</th>\n",
       "      <td>84300903</td>\n",
       "      <td>M</td>\n",
       "      <td>19.69</td>\n",
       "      <td>21.25</td>\n",
       "      <td>130.00</td>\n",
       "      <td>1203.0</td>\n",
       "      <td>0.10960</td>\n",
       "      <td>0.15990</td>\n",
       "      <td>0.1974</td>\n",
       "      <td>0.12790</td>\n",
       "      <td>...</td>\n",
       "      <td>25.53</td>\n",
       "      <td>152.50</td>\n",
       "      <td>1709.0</td>\n",
       "      <td>0.1444</td>\n",
       "      <td>0.4245</td>\n",
       "      <td>0.4504</td>\n",
       "      <td>0.2430</td>\n",
       "      <td>0.3613</td>\n",
       "      <td>0.08758</td>\n",
       "      <td>NaN</td>\n",
       "    </tr>\n",
       "    <tr>\n",
       "      <th>3</th>\n",
       "      <td>84348301</td>\n",
       "      <td>M</td>\n",
       "      <td>11.42</td>\n",
       "      <td>20.38</td>\n",
       "      <td>77.58</td>\n",
       "      <td>386.1</td>\n",
       "      <td>0.14250</td>\n",
       "      <td>0.28390</td>\n",
       "      <td>0.2414</td>\n",
       "      <td>0.10520</td>\n",
       "      <td>...</td>\n",
       "      <td>26.50</td>\n",
       "      <td>98.87</td>\n",
       "      <td>567.7</td>\n",
       "      <td>0.2098</td>\n",
       "      <td>0.8663</td>\n",
       "      <td>0.6869</td>\n",
       "      <td>0.2575</td>\n",
       "      <td>0.6638</td>\n",
       "      <td>0.17300</td>\n",
       "      <td>NaN</td>\n",
       "    </tr>\n",
       "    <tr>\n",
       "      <th>4</th>\n",
       "      <td>84358402</td>\n",
       "      <td>M</td>\n",
       "      <td>20.29</td>\n",
       "      <td>14.34</td>\n",
       "      <td>135.10</td>\n",
       "      <td>1297.0</td>\n",
       "      <td>0.10030</td>\n",
       "      <td>0.13280</td>\n",
       "      <td>0.1980</td>\n",
       "      <td>0.10430</td>\n",
       "      <td>...</td>\n",
       "      <td>16.67</td>\n",
       "      <td>152.20</td>\n",
       "      <td>1575.0</td>\n",
       "      <td>0.1374</td>\n",
       "      <td>0.2050</td>\n",
       "      <td>0.4000</td>\n",
       "      <td>0.1625</td>\n",
       "      <td>0.2364</td>\n",
       "      <td>0.07678</td>\n",
       "      <td>NaN</td>\n",
       "    </tr>\n",
       "  </tbody>\n",
       "</table>\n",
       "<p>5 rows × 33 columns</p>\n",
       "</div>"
      ],
      "text/plain": [
       "         id diagnosis  radius_mean  texture_mean  perimeter_mean  area_mean  \\\n",
       "0    842302         M        17.99         10.38          122.80     1001.0   \n",
       "1    842517         M        20.57         17.77          132.90     1326.0   \n",
       "2  84300903         M        19.69         21.25          130.00     1203.0   \n",
       "3  84348301         M        11.42         20.38           77.58      386.1   \n",
       "4  84358402         M        20.29         14.34          135.10     1297.0   \n",
       "\n",
       "   smoothness_mean  compactness_mean  concavity_mean  concave points_mean  \\\n",
       "0          0.11840           0.27760          0.3001              0.14710   \n",
       "1          0.08474           0.07864          0.0869              0.07017   \n",
       "2          0.10960           0.15990          0.1974              0.12790   \n",
       "3          0.14250           0.28390          0.2414              0.10520   \n",
       "4          0.10030           0.13280          0.1980              0.10430   \n",
       "\n",
       "   ...  texture_worst  perimeter_worst  area_worst  smoothness_worst  \\\n",
       "0  ...          17.33           184.60      2019.0            0.1622   \n",
       "1  ...          23.41           158.80      1956.0            0.1238   \n",
       "2  ...          25.53           152.50      1709.0            0.1444   \n",
       "3  ...          26.50            98.87       567.7            0.2098   \n",
       "4  ...          16.67           152.20      1575.0            0.1374   \n",
       "\n",
       "   compactness_worst  concavity_worst  concave points_worst  symmetry_worst  \\\n",
       "0             0.6656           0.7119                0.2654          0.4601   \n",
       "1             0.1866           0.2416                0.1860          0.2750   \n",
       "2             0.4245           0.4504                0.2430          0.3613   \n",
       "3             0.8663           0.6869                0.2575          0.6638   \n",
       "4             0.2050           0.4000                0.1625          0.2364   \n",
       "\n",
       "   fractal_dimension_worst  Unnamed: 32  \n",
       "0                  0.11890          NaN  \n",
       "1                  0.08902          NaN  \n",
       "2                  0.08758          NaN  \n",
       "3                  0.17300          NaN  \n",
       "4                  0.07678          NaN  \n",
       "\n",
       "[5 rows x 33 columns]"
      ]
     },
     "execution_count": 35,
     "metadata": {},
     "output_type": "execute_result"
    }
   ],
   "source": [
    "data=pd.read_csv('breast-cancer.csv')\n",
    "data.head()\n",
    "#data.shape"
   ]
  },
  {
   "cell_type": "code",
   "execution_count": 36,
   "metadata": {
    "execution": {
     "iopub.execute_input": "2022-06-20T17:37:10.076909Z",
     "iopub.status.busy": "2022-06-20T17:37:10.076563Z",
     "iopub.status.idle": "2022-06-20T17:37:10.083241Z",
     "shell.execute_reply": "2022-06-20T17:37:10.082061Z",
     "shell.execute_reply.started": "2022-06-20T17:37:10.076859Z"
    }
   },
   "outputs": [],
   "source": [
    "###  Independent And dependent features\n",
    "X=data.iloc[:,2:]\n",
    "y=data.iloc[:,1]"
   ]
  },
  {
   "cell_type": "code",
   "execution_count": 37,
   "metadata": {
    "execution": {
     "iopub.execute_input": "2022-06-20T17:37:12.655504Z",
     "iopub.status.busy": "2022-06-20T17:37:12.655174Z",
     "iopub.status.idle": "2022-06-20T17:37:12.674813Z",
     "shell.execute_reply": "2022-06-20T17:37:12.673579Z",
     "shell.execute_reply.started": "2022-06-20T17:37:12.655473Z"
    }
   },
   "outputs": [],
   "source": [
    "#print(X.head())"
   ]
  },
  {
   "cell_type": "code",
   "execution_count": 38,
   "metadata": {
    "execution": {
     "iopub.execute_input": "2022-06-20T17:37:19.745971Z",
     "iopub.status.busy": "2022-06-20T17:37:19.745681Z",
     "iopub.status.idle": "2022-06-20T17:37:19.754396Z",
     "shell.execute_reply": "2022-06-20T17:37:19.753612Z",
     "shell.execute_reply.started": "2022-06-20T17:37:19.745939Z"
    }
   },
   "outputs": [],
   "source": [
    "#X.isnull().sum()"
   ]
  },
  {
   "cell_type": "code",
   "execution_count": 39,
   "metadata": {
    "execution": {
     "iopub.execute_input": "2022-06-20T17:38:07.419623Z",
     "iopub.status.busy": "2022-06-20T17:38:07.419337Z",
     "iopub.status.idle": "2022-06-20T17:38:07.425766Z",
     "shell.execute_reply": "2022-06-20T17:38:07.424641Z",
     "shell.execute_reply.started": "2022-06-20T17:38:07.419592Z"
    }
   },
   "outputs": [
    {
     "name": "stdout",
     "output_type": "stream",
     "text": [
      "0\n"
     ]
    }
   ],
   "source": [
    "print(y.isnull().sum())"
   ]
  },
  {
   "cell_type": "code",
   "execution_count": 40,
   "metadata": {
    "execution": {
     "iopub.execute_input": "2022-06-20T17:34:32.624385Z",
     "iopub.status.busy": "2022-06-20T17:34:32.624097Z",
     "iopub.status.idle": "2022-06-20T17:34:32.631232Z",
     "shell.execute_reply": "2022-06-20T17:34:32.630424Z",
     "shell.execute_reply.started": "2022-06-20T17:34:32.624355Z"
    }
   },
   "outputs": [
    {
     "name": "stdout",
     "output_type": "stream",
     "text": [
      "0    M\n",
      "1    M\n",
      "2    M\n",
      "3    M\n",
      "4    M\n",
      "Name: diagnosis, dtype: object\n"
     ]
    }
   ],
   "source": [
    "print(y.head())"
   ]
  },
  {
   "cell_type": "code",
   "execution_count": 41,
   "metadata": {},
   "outputs": [
    {
     "name": "stdout",
     "output_type": "stream",
     "text": [
      "B    357\n",
      "M    212\n",
      "Name: diagnosis, dtype: int64\n"
     ]
    }
   ],
   "source": [
    "print(y.value_counts())"
   ]
  },
  {
   "cell_type": "code",
   "execution_count": 42,
   "metadata": {
    "execution": {
     "iopub.execute_input": "2022-06-20T17:34:57.560917Z",
     "iopub.status.busy": "2022-06-20T17:34:57.560593Z",
     "iopub.status.idle": "2022-06-20T17:34:57.570783Z",
     "shell.execute_reply": "2022-06-20T17:34:57.569984Z",
     "shell.execute_reply.started": "2022-06-20T17:34:57.560875Z"
    }
   },
   "outputs": [],
   "source": [
    "X=X.dropna(axis=1)"
   ]
  },
  {
   "cell_type": "code",
   "execution_count": 43,
   "metadata": {
    "execution": {
     "iopub.execute_input": "2022-06-20T17:35:17.399175Z",
     "iopub.status.busy": "2022-06-20T17:35:17.398851Z",
     "iopub.status.idle": "2022-06-20T17:35:17.40827Z",
     "shell.execute_reply": "2022-06-20T17:35:17.406959Z",
     "shell.execute_reply.started": "2022-06-20T17:35:17.399143Z"
    }
   },
   "outputs": [],
   "source": [
    "x_train, x_test, y_train, y_test = train_test_split(X, y, test_size=0.30, random_state=4)"
   ]
  },
  {
   "cell_type": "code",
   "execution_count": 44,
   "metadata": {
    "execution": {
     "iopub.execute_input": "2022-06-20T17:38:18.503872Z",
     "iopub.status.busy": "2022-06-20T17:38:18.503566Z",
     "iopub.status.idle": "2022-06-20T17:38:18.525732Z",
     "shell.execute_reply": "2022-06-20T17:38:18.524335Z",
     "shell.execute_reply.started": "2022-06-20T17:38:18.503841Z"
    }
   },
   "outputs": [
    {
     "data": {
      "text/plain": [
       "DecisionTreeClassifier()"
      ]
     },
     "execution_count": 44,
     "metadata": {},
     "output_type": "execute_result"
    }
   ],
   "source": [
    "#descision tree\n",
    "dt = DecisionTreeClassifier()\n",
    "dt.fit(x_train,y_train)"
   ]
  },
  {
   "cell_type": "code",
   "execution_count": 45,
   "metadata": {
    "execution": {
     "iopub.execute_input": "2022-06-20T17:38:22.015681Z",
     "iopub.status.busy": "2022-06-20T17:38:22.015372Z",
     "iopub.status.idle": "2022-06-20T17:38:22.02795Z",
     "shell.execute_reply": "2022-06-20T17:38:22.026757Z",
     "shell.execute_reply.started": "2022-06-20T17:38:22.015651Z"
    }
   },
   "outputs": [
    {
     "data": {
      "text/plain": [
       "1.0"
      ]
     },
     "execution_count": 45,
     "metadata": {},
     "output_type": "execute_result"
    }
   ],
   "source": [
    "dt.score(x_train,y_train)"
   ]
  },
  {
   "cell_type": "code",
   "execution_count": 48,
   "metadata": {
    "execution": {
     "iopub.execute_input": "2022-06-20T17:38:33.556645Z",
     "iopub.status.busy": "2022-06-20T17:38:33.555685Z",
     "iopub.status.idle": "2022-06-20T17:38:33.566063Z",
     "shell.execute_reply": "2022-06-20T17:38:33.564994Z",
     "shell.execute_reply.started": "2022-06-20T17:38:33.556544Z"
    }
   },
   "outputs": [
    {
     "data": {
      "text/plain": [
       "0.9005847953216374"
      ]
     },
     "execution_count": 48,
     "metadata": {},
     "output_type": "execute_result"
    }
   ],
   "source": [
    "dt.score(x_test,y_test)"
   ]
  },
  {
   "cell_type": "code",
   "execution_count": 49,
   "metadata": {
    "execution": {
     "iopub.execute_input": "2022-06-20T17:40:28.440603Z",
     "iopub.status.busy": "2022-06-20T17:40:28.440271Z",
     "iopub.status.idle": "2022-06-20T17:40:28.448345Z",
     "shell.execute_reply": "2022-06-20T17:40:28.447217Z",
     "shell.execute_reply.started": "2022-06-20T17:40:28.44057Z"
    }
   },
   "outputs": [],
   "source": [
    "y_pred=dt.predict(x_test)\n"
   ]
  },
  {
   "cell_type": "code",
   "execution_count": 50,
   "metadata": {
    "execution": {
     "iopub.execute_input": "2022-06-20T17:44:43.007007Z",
     "iopub.status.busy": "2022-06-20T17:44:43.006626Z",
     "iopub.status.idle": "2022-06-20T17:44:43.033814Z",
     "shell.execute_reply": "2022-06-20T17:44:43.032563Z",
     "shell.execute_reply.started": "2022-06-20T17:44:43.006955Z"
    }
   },
   "outputs": [
    {
     "name": "stdout",
     "output_type": "stream",
     "text": [
      "[[103  14]\n",
      " [  3  51]]\n",
      "              precision    recall  f1-score   support\n",
      "\n",
      "           B       0.97      0.88      0.92       117\n",
      "           M       0.78      0.94      0.86        54\n",
      "\n",
      "    accuracy                           0.90       171\n",
      "   macro avg       0.88      0.91      0.89       171\n",
      "weighted avg       0.91      0.90      0.90       171\n",
      "\n"
     ]
    }
   ],
   "source": [
    "from sklearn import metrics\n",
    "print(metrics.confusion_matrix(y_test,y_pred))\n",
    "print(metrics.classification_report(y_test,y_pred))"
   ]
  },
  {
   "cell_type": "code",
   "execution_count": 53,
   "metadata": {
    "execution": {
     "iopub.execute_input": "2022-06-20T17:44:57.43061Z",
     "iopub.status.busy": "2022-06-20T17:44:57.430293Z",
     "iopub.status.idle": "2022-06-20T17:44:57.492904Z",
     "shell.execute_reply": "2022-06-20T17:44:57.492172Z",
     "shell.execute_reply.started": "2022-06-20T17:44:57.430579Z"
    }
   },
   "outputs": [
    {
     "data": {
      "text/plain": [
       "RandomForestClassifier(n_estimators=20)"
      ]
     },
     "execution_count": 53,
     "metadata": {},
     "output_type": "execute_result"
    }
   ],
   "source": [
    "#Random Forest - Ensemble of Descision Trees\n",
    "\n",
    "rf = RandomForestClassifier(n_estimators=20)\n",
    "rf.fit(x_train,y_train)"
   ]
  },
  {
   "cell_type": "code",
   "execution_count": 54,
   "metadata": {
    "execution": {
     "iopub.execute_input": "2022-06-20T17:45:02.032145Z",
     "iopub.status.busy": "2022-06-20T17:45:02.031784Z",
     "iopub.status.idle": "2022-06-20T17:45:02.049998Z",
     "shell.execute_reply": "2022-06-20T17:45:02.048793Z",
     "shell.execute_reply.started": "2022-06-20T17:45:02.03211Z"
    }
   },
   "outputs": [
    {
     "data": {
      "text/plain": [
       "0.9298245614035088"
      ]
     },
     "execution_count": 54,
     "metadata": {},
     "output_type": "execute_result"
    }
   ],
   "source": [
    "rf.score(x_test,y_test)\n",
    "#rf.score(x_train,y_train)"
   ]
  },
  {
   "cell_type": "markdown",
   "metadata": {},
   "source": [
    "# Bagging"
   ]
  },
  {
   "cell_type": "code",
   "execution_count": 58,
   "metadata": {
    "execution": {
     "iopub.execute_input": "2022-06-20T17:45:25.994829Z",
     "iopub.status.busy": "2022-06-20T17:45:25.993739Z",
     "iopub.status.idle": "2022-06-20T17:45:26.082269Z",
     "shell.execute_reply": "2022-06-20T17:45:26.08132Z",
     "shell.execute_reply.started": "2022-06-20T17:45:25.994792Z"
    }
   },
   "outputs": [
    {
     "data": {
      "text/plain": [
       "BaggingClassifier(base_estimator=SVC(), max_samples=0.5, n_estimators=20)"
      ]
     },
     "execution_count": 58,
     "metadata": {},
     "output_type": "execute_result"
    }
   ],
   "source": [
    "#Bagging \n",
    "#bg = BaggingClassifier(SVC(), max_samples= 0.5, max_features = 1.0, n_estimators = 20)\n",
    "bg = BaggingClassifier(DecisionTreeClassifier(), max_samples= 0.5, max_features = 1.0, n_estimators = 20)\n",
    "bg.fit(x_train,y_train)"
   ]
  },
  {
   "cell_type": "code",
   "execution_count": 59,
   "metadata": {
    "execution": {
     "iopub.execute_input": "2022-06-20T17:45:30.242291Z",
     "iopub.status.busy": "2022-06-20T17:45:30.242014Z",
     "iopub.status.idle": "2022-06-20T17:45:30.255577Z",
     "shell.execute_reply": "2022-06-20T17:45:30.25497Z",
     "shell.execute_reply.started": "2022-06-20T17:45:30.242262Z"
    }
   },
   "outputs": [
    {
     "data": {
      "text/plain": [
       "0.8947368421052632"
      ]
     },
     "execution_count": 59,
     "metadata": {},
     "output_type": "execute_result"
    }
   ],
   "source": [
    "bg.score(x_test,y_test)\n",
    "#bg.score(x_train,y_train)"
   ]
  },
  {
   "cell_type": "markdown",
   "metadata": {},
   "source": [
    "# Boosting - Ada Boost"
   ]
  },
  {
   "cell_type": "code",
   "execution_count": 66,
   "metadata": {
    "execution": {
     "iopub.execute_input": "2022-06-20T17:45:37.41867Z",
     "iopub.status.busy": "2022-06-20T17:45:37.418359Z",
     "iopub.status.idle": "2022-06-20T17:45:37.43754Z",
     "shell.execute_reply": "2022-06-20T17:45:37.436675Z",
     "shell.execute_reply.started": "2022-06-20T17:45:37.41864Z"
    }
   },
   "outputs": [
    {
     "data": {
      "text/plain": [
       "0.9122807017543859"
      ]
     },
     "execution_count": 66,
     "metadata": {},
     "output_type": "execute_result"
    }
   ],
   "source": [
    "#Boosting - Ada Boost\n",
    "#adb = AdaBoostClassifier(SVC(),n_estimators = 5, learning_rate = 1)\n",
    "#adb = AdaBoostClassifier(LogisticRegression(),n_estimators = 5, learning_rate = 1)\n",
    "adb = AdaBoostClassifier(DecisionTreeClassifier(),n_estimators = 5, learning_rate = 1)\n",
    "adb.fit(x_train,y_train)\n",
    "adb.score(x_test,y_test)\n",
    "#adb.score(x_train,y_train)"
   ]
  },
  {
   "cell_type": "markdown",
   "metadata": {},
   "source": [
    "# GradientBoostingClassifier"
   ]
  },
  {
   "cell_type": "code",
   "execution_count": 70,
   "metadata": {
    "execution": {
     "iopub.execute_input": "2022-06-20T18:04:28.675364Z",
     "iopub.status.busy": "2022-06-20T18:04:28.675045Z",
     "iopub.status.idle": "2022-06-20T18:04:28.841867Z",
     "shell.execute_reply": "2022-06-20T18:04:28.841064Z",
     "shell.execute_reply.started": "2022-06-20T18:04:28.67533Z"
    }
   },
   "outputs": [
    {
     "data": {
      "text/plain": [
       "0.9181286549707602"
      ]
     },
     "execution_count": 70,
     "metadata": {},
     "output_type": "execute_result"
    }
   ],
   "source": [
    "from sklearn.ensemble import GradientBoostingClassifier\n",
    "clf = GradientBoostingClassifier(n_estimators=100, learning_rate=1.0,\n",
    "                                 max_depth=1, random_state=0)\n",
    "clf.fit(x_train, y_train)\n",
    "clf.score(x_test, y_test)"
   ]
  },
  {
   "cell_type": "code",
   "execution_count": 68,
   "metadata": {
    "execution": {
     "iopub.execute_input": "2022-06-20T17:45:43.682553Z",
     "iopub.status.busy": "2022-06-20T17:45:43.682228Z",
     "iopub.status.idle": "2022-06-20T17:45:43.693957Z",
     "shell.execute_reply": "2022-06-20T17:45:43.693149Z",
     "shell.execute_reply.started": "2022-06-20T17:45:43.68252Z"
    }
   },
   "outputs": [
    {
     "data": {
      "text/plain": [
       "0.9122807017543859"
      ]
     },
     "execution_count": 68,
     "metadata": {},
     "output_type": "execute_result"
    }
   ],
   "source": [
    "adb.score(x_test,y_test)\n",
    "#adb.score(x_train,y_train)"
   ]
  },
  {
   "cell_type": "markdown",
   "metadata": {},
   "source": []
  },
  {
   "cell_type": "markdown",
   "metadata": {},
   "source": [
    "# xgboost"
   ]
  },
  {
   "cell_type": "code",
   "execution_count": 79,
   "metadata": {},
   "outputs": [
    {
     "name": "stdout",
     "output_type": "stream",
     "text": [
      "Collecting xgboost\n",
      "  Downloading xgboost-1.6.2-py3-none-win_amd64.whl (125.4 MB)\n"
     ]
    },
    {
     "name": "stderr",
     "output_type": "stream",
     "text": [
      "ERROR: Exception:\n",
      "Traceback (most recent call last):\n",
      "  File \"C:\\Anaconda\\lib\\site-packages\\pip\\_vendor\\urllib3\\response.py\", line 438, in _error_catcher\n",
      "    yield\n",
      "  File \"C:\\Anaconda\\lib\\site-packages\\pip\\_vendor\\urllib3\\response.py\", line 519, in read\n",
      "    data = self._fp.read(amt) if not fp_closed else b\"\"\n",
      "  File \"C:\\Anaconda\\lib\\site-packages\\pip\\_vendor\\cachecontrol\\filewrapper.py\", line 62, in read\n",
      "    data = self.__fp.read(amt)\n",
      "  File \"C:\\Anaconda\\lib\\http\\client.py\", line 463, in read\n",
      "    n = self.readinto(b)\n",
      "  File \"C:\\Anaconda\\lib\\http\\client.py\", line 507, in readinto\n",
      "    n = self.fp.readinto(b)\n",
      "  File \"C:\\Anaconda\\lib\\socket.py\", line 704, in readinto\n",
      "    return self._sock.recv_into(b)\n",
      "  File \"C:\\Anaconda\\lib\\ssl.py\", line 1241, in recv_into\n",
      "    return self.read(nbytes, buffer)\n",
      "  File \"C:\\Anaconda\\lib\\ssl.py\", line 1099, in read\n",
      "    return self._sslobj.read(len, buffer)\n",
      "socket.timeout: The read operation timed out\n",
      "\n",
      "During handling of the above exception, another exception occurred:\n",
      "\n",
      "Traceback (most recent call last):\n",
      "  File \"C:\\Anaconda\\lib\\site-packages\\pip\\_internal\\cli\\base_command.py\", line 173, in _main\n",
      "    status = self.run(options, args)\n",
      "  File \"C:\\Anaconda\\lib\\site-packages\\pip\\_internal\\cli\\req_command.py\", line 203, in wrapper\n",
      "    return func(self, options, args)\n",
      "  File \"C:\\Anaconda\\lib\\site-packages\\pip\\_internal\\commands\\install.py\", line 315, in run\n",
      "    requirement_set = resolver.resolve(\n",
      "  File \"C:\\Anaconda\\lib\\site-packages\\pip\\_internal\\resolution\\resolvelib\\resolver.py\", line 94, in resolve\n",
      "    result = self._result = resolver.resolve(\n",
      "  File \"C:\\Anaconda\\lib\\site-packages\\pip\\_vendor\\resolvelib\\resolvers.py\", line 472, in resolve\n",
      "    state = resolution.resolve(requirements, max_rounds=max_rounds)\n",
      "  File \"C:\\Anaconda\\lib\\site-packages\\pip\\_vendor\\resolvelib\\resolvers.py\", line 341, in resolve\n",
      "    self._add_to_criteria(self.state.criteria, r, parent=None)\n",
      "  File \"C:\\Anaconda\\lib\\site-packages\\pip\\_vendor\\resolvelib\\resolvers.py\", line 172, in _add_to_criteria\n",
      "    if not criterion.candidates:\n",
      "  File \"C:\\Anaconda\\lib\\site-packages\\pip\\_vendor\\resolvelib\\structs.py\", line 151, in __bool__\n",
      "    return bool(self._sequence)\n",
      "  File \"C:\\Anaconda\\lib\\site-packages\\pip\\_internal\\resolution\\resolvelib\\found_candidates.py\", line 140, in __bool__\n",
      "    return any(self)\n",
      "  File \"C:\\Anaconda\\lib\\site-packages\\pip\\_internal\\resolution\\resolvelib\\found_candidates.py\", line 128, in <genexpr>\n",
      "    return (c for c in iterator if id(c) not in self._incompatible_ids)\n",
      "  File \"C:\\Anaconda\\lib\\site-packages\\pip\\_internal\\resolution\\resolvelib\\found_candidates.py\", line 32, in _iter_built\n",
      "    candidate = func()\n",
      "  File \"C:\\Anaconda\\lib\\site-packages\\pip\\_internal\\resolution\\resolvelib\\factory.py\", line 204, in _make_candidate_from_link\n",
      "    self._link_candidate_cache[link] = LinkCandidate(\n",
      "  File \"C:\\Anaconda\\lib\\site-packages\\pip\\_internal\\resolution\\resolvelib\\candidates.py\", line 295, in __init__\n",
      "    super().__init__(\n",
      "  File \"C:\\Anaconda\\lib\\site-packages\\pip\\_internal\\resolution\\resolvelib\\candidates.py\", line 156, in __init__\n",
      "    self.dist = self._prepare()\n",
      "  File \"C:\\Anaconda\\lib\\site-packages\\pip\\_internal\\resolution\\resolvelib\\candidates.py\", line 227, in _prepare\n",
      "    dist = self._prepare_distribution()\n",
      "  File \"C:\\Anaconda\\lib\\site-packages\\pip\\_internal\\resolution\\resolvelib\\candidates.py\", line 305, in _prepare_distribution\n",
      "    return self._factory.preparer.prepare_linked_requirement(\n",
      "  File \"C:\\Anaconda\\lib\\site-packages\\pip\\_internal\\operations\\prepare.py\", line 508, in prepare_linked_requirement\n",
      "    return self._prepare_linked_requirement(req, parallel_builds)\n",
      "  File \"C:\\Anaconda\\lib\\site-packages\\pip\\_internal\\operations\\prepare.py\", line 550, in _prepare_linked_requirement\n",
      "    local_file = unpack_url(\n",
      "  File \"C:\\Anaconda\\lib\\site-packages\\pip\\_internal\\operations\\prepare.py\", line 239, in unpack_url\n",
      "    file = get_http_url(\n",
      "  File \"C:\\Anaconda\\lib\\site-packages\\pip\\_internal\\operations\\prepare.py\", line 102, in get_http_url\n",
      "    from_path, content_type = download(link, temp_dir.path)\n",
      "  File \"C:\\Anaconda\\lib\\site-packages\\pip\\_internal\\network\\download.py\", line 145, in __call__\n",
      "    for chunk in chunks:\n",
      "  File \"C:\\Anaconda\\lib\\site-packages\\pip\\_internal\\cli\\progress_bars.py\", line 144, in iter\n",
      "    for x in it:\n",
      "  File \"C:\\Anaconda\\lib\\site-packages\\pip\\_internal\\network\\utils.py\", line 63, in response_chunks\n",
      "    for chunk in response.raw.stream(\n",
      "  File \"C:\\Anaconda\\lib\\site-packages\\pip\\_vendor\\urllib3\\response.py\", line 576, in stream\n",
      "    data = self.read(amt=amt, decode_content=decode_content)\n",
      "  File \"C:\\Anaconda\\lib\\site-packages\\pip\\_vendor\\urllib3\\response.py\", line 541, in read\n",
      "    raise IncompleteRead(self._fp_bytes_read, self.length_remaining)\n",
      "  File \"C:\\Anaconda\\lib\\contextlib.py\", line 137, in __exit__\n",
      "    self.gen.throw(typ, value, traceback)\n",
      "  File \"C:\\Anaconda\\lib\\site-packages\\pip\\_vendor\\urllib3\\response.py\", line 443, in _error_catcher\n",
      "    raise ReadTimeoutError(self._pool, None, \"Read timed out.\")\n",
      "pip._vendor.urllib3.exceptions.ReadTimeoutError: HTTPSConnectionPool(host='files.pythonhosted.org', port=443): Read timed out.\n"
     ]
    }
   ],
   "source": [
    "!pip install xgboost"
   ]
  },
  {
   "cell_type": "code",
   "execution_count": 104,
   "metadata": {
    "execution": {
     "iopub.execute_input": "2022-06-20T17:46:47.446812Z",
     "iopub.status.busy": "2022-06-20T17:46:47.446512Z",
     "iopub.status.idle": "2022-06-20T17:46:47.57805Z",
     "shell.execute_reply": "2022-06-20T17:46:47.576812Z",
     "shell.execute_reply.started": "2022-06-20T17:46:47.446781Z"
    }
   },
   "outputs": [
    {
     "ename": "ModuleNotFoundError",
     "evalue": "No module named 'xgboost'",
     "output_type": "error",
     "traceback": [
      "\u001b[1;31m---------------------------------------------------------------------------\u001b[0m",
      "\u001b[1;31mModuleNotFoundError\u001b[0m                       Traceback (most recent call last)",
      "Input \u001b[1;32mIn [104]\u001b[0m, in \u001b[0;36m<cell line: 1>\u001b[1;34m()\u001b[0m\n\u001b[1;32m----> 1\u001b[0m \u001b[38;5;28;01mimport\u001b[39;00m \u001b[38;5;21;01mxgboost\u001b[39;00m \u001b[38;5;28;01mas\u001b[39;00m \u001b[38;5;21;01mxgb\u001b[39;00m\n\u001b[0;32m      2\u001b[0m \u001b[38;5;28;01mfrom\u001b[39;00m \u001b[38;5;21;01msklearn\u001b[39;00m\u001b[38;5;21;01m.\u001b[39;00m\u001b[38;5;21;01mmetrics\u001b[39;00m \u001b[38;5;28;01mimport\u001b[39;00m auc, accuracy_score, confusion_matrix, mean_squared_error\n\u001b[0;32m      3\u001b[0m \u001b[38;5;28;01mfrom\u001b[39;00m \u001b[38;5;21;01msklearn\u001b[39;00m\u001b[38;5;21;01m.\u001b[39;00m\u001b[38;5;21;01mmodel_selection\u001b[39;00m \u001b[38;5;28;01mimport\u001b[39;00m cross_val_score, GridSearchCV, KFold\n",
      "\u001b[1;31mModuleNotFoundError\u001b[0m: No module named 'xgboost'"
     ]
    }
   ],
   "source": [
    "import xgboost as xgb\n",
    "from sklearn.metrics import auc, accuracy_score, confusion_matrix, mean_squared_error\n",
    "from sklearn.model_selection import cross_val_score, GridSearchCV, KFold\n",
    "#from sklearn.model_selection import RandomizedSearchCV, train_test_split\n",
    "\n",
    "#data_dmatrix = xgb.DMatrix(data=X,label=y)"
   ]
  },
  {
   "cell_type": "code",
   "execution_count": 105,
   "metadata": {
    "execution": {
     "iopub.execute_input": "2022-06-20T17:49:27.594235Z",
     "iopub.status.busy": "2022-06-20T17:49:27.593931Z",
     "iopub.status.idle": "2022-06-20T17:49:27.598977Z",
     "shell.execute_reply": "2022-06-20T17:49:27.598263Z",
     "shell.execute_reply.started": "2022-06-20T17:49:27.594205Z"
    }
   },
   "outputs": [
    {
     "ename": "NameError",
     "evalue": "name 'xgb' is not defined",
     "output_type": "error",
     "traceback": [
      "\u001b[1;31m---------------------------------------------------------------------------\u001b[0m",
      "\u001b[1;31mNameError\u001b[0m                                 Traceback (most recent call last)",
      "Input \u001b[1;32mIn [105]\u001b[0m, in \u001b[0;36m<cell line: 1>\u001b[1;34m()\u001b[0m\n\u001b[1;32m----> 1\u001b[0m xgb_model \u001b[38;5;241m=\u001b[39m \u001b[43mxgb\u001b[49m\u001b[38;5;241m.\u001b[39mXGBClassifier(objective\u001b[38;5;241m=\u001b[39m\u001b[38;5;124m\"\u001b[39m\u001b[38;5;124mbinary:logistic\u001b[39m\u001b[38;5;124m\"\u001b[39m, random_state\u001b[38;5;241m=\u001b[39m\u001b[38;5;241m42\u001b[39m, eval_metric\u001b[38;5;241m=\u001b[39m\u001b[38;5;124m\"\u001b[39m\u001b[38;5;124mauc\u001b[39m\u001b[38;5;124m\"\u001b[39m)\n",
      "\u001b[1;31mNameError\u001b[0m: name 'xgb' is not defined"
     ]
    }
   ],
   "source": [
    "xgb_model = xgb.XGBClassifier(objective=\"binary:logistic\", random_state=42, eval_metric=\"auc\")"
   ]
  },
  {
   "cell_type": "code",
   "execution_count": 73,
   "metadata": {
    "execution": {
     "iopub.execute_input": "2022-06-20T17:49:31.027775Z",
     "iopub.status.busy": "2022-06-20T17:49:31.027497Z",
     "iopub.status.idle": "2022-06-20T17:49:31.544078Z",
     "shell.execute_reply": "2022-06-20T17:49:31.543313Z",
     "shell.execute_reply.started": "2022-06-20T17:49:31.027745Z"
    }
   },
   "outputs": [
    {
     "ename": "NameError",
     "evalue": "name 'xgb_model' is not defined",
     "output_type": "error",
     "traceback": [
      "\u001b[1;31m---------------------------------------------------------------------------\u001b[0m",
      "\u001b[1;31mNameError\u001b[0m                                 Traceback (most recent call last)",
      "Input \u001b[1;32mIn [73]\u001b[0m, in \u001b[0;36m<cell line: 1>\u001b[1;34m()\u001b[0m\n\u001b[1;32m----> 1\u001b[0m \u001b[43mxgb_model\u001b[49m\u001b[38;5;241m.\u001b[39mfit(x_train, y_train, early_stopping_rounds\u001b[38;5;241m=\u001b[39m\u001b[38;5;241m5\u001b[39m,  eval_set\u001b[38;5;241m=\u001b[39m[(x_test, y_test)])\n",
      "\u001b[1;31mNameError\u001b[0m: name 'xgb_model' is not defined"
     ]
    }
   ],
   "source": [
    "xgb_model.fit(x_train, y_train, early_stopping_rounds=5,  eval_set=[(x_test, y_test)])"
   ]
  },
  {
   "cell_type": "code",
   "execution_count": 74,
   "metadata": {
    "execution": {
     "iopub.execute_input": "2022-06-20T17:48:43.305928Z",
     "iopub.status.busy": "2022-06-20T17:48:43.305565Z",
     "iopub.status.idle": "2022-06-20T17:48:43.329979Z",
     "shell.execute_reply": "2022-06-20T17:48:43.324728Z",
     "shell.execute_reply.started": "2022-06-20T17:48:43.305877Z"
    }
   },
   "outputs": [
    {
     "ename": "NameError",
     "evalue": "name 'xgb_model' is not defined",
     "output_type": "error",
     "traceback": [
      "\u001b[1;31m---------------------------------------------------------------------------\u001b[0m",
      "\u001b[1;31mNameError\u001b[0m                                 Traceback (most recent call last)",
      "Input \u001b[1;32mIn [74]\u001b[0m, in \u001b[0;36m<cell line: 1>\u001b[1;34m()\u001b[0m\n\u001b[1;32m----> 1\u001b[0m y_pred \u001b[38;5;241m=\u001b[39m \u001b[43mxgb_model\u001b[49m\u001b[38;5;241m.\u001b[39mpredict(x_test)\n\u001b[0;32m      2\u001b[0m accuracy_score(y_test, y_pred)\n",
      "\u001b[1;31mNameError\u001b[0m: name 'xgb_model' is not defined"
     ]
    }
   ],
   "source": [
    "y_pred = xgb_model.predict(x_test)\n",
    "accuracy_score(y_test, y_pred)"
   ]
  },
  {
   "cell_type": "markdown",
   "metadata": {},
   "source": [
    "# CatBoost"
   ]
  },
  {
   "cell_type": "code",
   "execution_count": 106,
   "metadata": {
    "execution": {
     "iopub.execute_input": "2022-06-20T18:22:55.198635Z",
     "iopub.status.busy": "2022-06-20T18:22:55.198359Z",
     "iopub.status.idle": "2022-06-20T18:23:00.196618Z",
     "shell.execute_reply": "2022-06-20T18:23:00.195969Z",
     "shell.execute_reply.started": "2022-06-20T18:22:55.198607Z"
    }
   },
   "outputs": [
    {
     "ename": "ModuleNotFoundError",
     "evalue": "No module named 'catboost'",
     "output_type": "error",
     "traceback": [
      "\u001b[1;31m---------------------------------------------------------------------------\u001b[0m",
      "\u001b[1;31mModuleNotFoundError\u001b[0m                       Traceback (most recent call last)",
      "Input \u001b[1;32mIn [106]\u001b[0m, in \u001b[0;36m<cell line: 1>\u001b[1;34m()\u001b[0m\n\u001b[1;32m----> 1\u001b[0m \u001b[38;5;28;01mfrom\u001b[39;00m \u001b[38;5;21;01mcatboost\u001b[39;00m \u001b[38;5;28;01mimport\u001b[39;00m CatBoostClassifier\n\u001b[0;32m      2\u001b[0m model \u001b[38;5;241m=\u001b[39m CatBoostClassifier(iterations\u001b[38;5;241m=\u001b[39m\u001b[38;5;241m1000\u001b[39m)\n\u001b[0;32m      3\u001b[0m model\u001b[38;5;241m.\u001b[39mfit(x_train, y_train,verbose\u001b[38;5;241m=\u001b[39m\u001b[38;5;28;01mFalse\u001b[39;00m)\n",
      "\u001b[1;31mModuleNotFoundError\u001b[0m: No module named 'catboost'"
     ]
    }
   ],
   "source": [
    "from catboost import CatBoostClassifier\n",
    "model = CatBoostClassifier(iterations=1000)\n",
    "model.fit(x_train, y_train,verbose=False)\n",
    "# Get predicted classes\n",
    "preds_class = model.predict(x_test)\n",
    "# Get predicted probabilities for each class\n",
    "preds_proba = model.predict_proba(x_test)\n",
    "# Get predicted RawFormulaVal\n",
    "preds_raw = model.predict(x_test, prediction_type='RawFormulaVal')\n"
   ]
  },
  {
   "cell_type": "code",
   "execution_count": 107,
   "metadata": {
    "execution": {
     "iopub.execute_input": "2022-06-20T18:24:14.356916Z",
     "iopub.status.busy": "2022-06-20T18:24:14.356625Z",
     "iopub.status.idle": "2022-06-20T18:24:14.374407Z",
     "shell.execute_reply": "2022-06-20T18:24:14.37318Z",
     "shell.execute_reply.started": "2022-06-20T18:24:14.356864Z"
    }
   },
   "outputs": [
    {
     "ename": "NameError",
     "evalue": "name 'preds_class' is not defined",
     "output_type": "error",
     "traceback": [
      "\u001b[1;31m---------------------------------------------------------------------------\u001b[0m",
      "\u001b[1;31mNameError\u001b[0m                                 Traceback (most recent call last)",
      "Input \u001b[1;32mIn [107]\u001b[0m, in \u001b[0;36m<cell line: 1>\u001b[1;34m()\u001b[0m\n\u001b[1;32m----> 1\u001b[0m \u001b[38;5;28mprint\u001b[39m(metrics\u001b[38;5;241m.\u001b[39mconfusion_matrix(y_test,\u001b[43mpreds_class\u001b[49m))\n\u001b[0;32m      2\u001b[0m \u001b[38;5;28mprint\u001b[39m(model\u001b[38;5;241m.\u001b[39mscore(x_test,y_test))\n",
      "\u001b[1;31mNameError\u001b[0m: name 'preds_class' is not defined"
     ]
    }
   ],
   "source": [
    "print(metrics.confusion_matrix(y_test,preds_class))\n",
    "print(model.score(x_test,y_test))"
   ]
  },
  {
   "cell_type": "markdown",
   "metadata": {},
   "source": [
    "# LightGBM"
   ]
  },
  {
   "cell_type": "markdown",
   "metadata": {},
   "source": [
    "LightGBM is a fast, distributed, high performance gradient boosting framework based on decision tree algorithms, used for ranking, classification and many other machine learning tasks. It has helped Kagglers win data science competitions."
   ]
  },
  {
   "cell_type": "code",
   "execution_count": 108,
   "metadata": {
    "execution": {
     "iopub.execute_input": "2022-06-20T18:28:55.635224Z",
     "iopub.status.busy": "2022-06-20T18:28:55.634914Z",
     "iopub.status.idle": "2022-06-20T18:28:55.849973Z",
     "shell.execute_reply": "2022-06-20T18:28:55.849132Z",
     "shell.execute_reply.started": "2022-06-20T18:28:55.635193Z"
    }
   },
   "outputs": [
    {
     "ename": "ModuleNotFoundError",
     "evalue": "No module named 'lightgbm'",
     "output_type": "error",
     "traceback": [
      "\u001b[1;31m---------------------------------------------------------------------------\u001b[0m",
      "\u001b[1;31mModuleNotFoundError\u001b[0m                       Traceback (most recent call last)",
      "Input \u001b[1;32mIn [108]\u001b[0m, in \u001b[0;36m<cell line: 2>\u001b[1;34m()\u001b[0m\n\u001b[0;32m      1\u001b[0m \u001b[38;5;66;03m# build the lightgbm model\u001b[39;00m\n\u001b[1;32m----> 2\u001b[0m \u001b[38;5;28;01mimport\u001b[39;00m \u001b[38;5;21;01mlightgbm\u001b[39;00m \u001b[38;5;28;01mas\u001b[39;00m \u001b[38;5;21;01mlgb\u001b[39;00m\n\u001b[0;32m      3\u001b[0m clf \u001b[38;5;241m=\u001b[39m lgb\u001b[38;5;241m.\u001b[39mLGBMClassifier()\n\u001b[0;32m      4\u001b[0m clf\u001b[38;5;241m.\u001b[39mfit(x_train, y_train)\n",
      "\u001b[1;31mModuleNotFoundError\u001b[0m: No module named 'lightgbm'"
     ]
    }
   ],
   "source": [
    "# build the lightgbm model\n",
    "import lightgbm as lgb\n",
    "clf = lgb.LGBMClassifier()\n",
    "clf.fit(x_train, y_train)"
   ]
  },
  {
   "cell_type": "code",
   "execution_count": 109,
   "metadata": {
    "execution": {
     "iopub.execute_input": "2022-06-20T18:29:56.465096Z",
     "iopub.status.busy": "2022-06-20T18:29:56.464294Z",
     "iopub.status.idle": "2022-06-20T18:29:56.47342Z",
     "shell.execute_reply": "2022-06-20T18:29:56.472692Z",
     "shell.execute_reply.started": "2022-06-20T18:29:56.465056Z"
    }
   },
   "outputs": [],
   "source": [
    "preds_class=clf.predict(x_test)"
   ]
  },
  {
   "cell_type": "code",
   "execution_count": 110,
   "metadata": {
    "execution": {
     "iopub.execute_input": "2022-06-20T18:29:59.369874Z",
     "iopub.status.busy": "2022-06-20T18:29:59.369574Z",
     "iopub.status.idle": "2022-06-20T18:29:59.385096Z",
     "shell.execute_reply": "2022-06-20T18:29:59.384392Z",
     "shell.execute_reply.started": "2022-06-20T18:29:59.369844Z"
    }
   },
   "outputs": [
    {
     "name": "stdout",
     "output_type": "stream",
     "text": [
      "[[106  11]\n",
      " [  3  51]]\n",
      "0.9181286549707602\n"
     ]
    }
   ],
   "source": [
    "print(metrics.confusion_matrix(y_test,preds_class))\n",
    "print(clf.score(x_test,y_test))"
   ]
  },
  {
   "cell_type": "markdown",
   "metadata": {},
   "source": [
    "# Voting Classifier - Multiple Model Ensemble "
   ]
  },
  {
   "cell_type": "code",
   "execution_count": 92,
   "metadata": {
    "execution": {
     "iopub.execute_input": "2022-06-20T17:50:17.13714Z",
     "iopub.status.busy": "2022-06-20T17:50:17.136847Z",
     "iopub.status.idle": "2022-06-20T17:50:17.142928Z",
     "shell.execute_reply": "2022-06-20T17:50:17.141841Z",
     "shell.execute_reply.started": "2022-06-20T17:50:17.137108Z"
    }
   },
   "outputs": [],
   "source": [
    "# Voting Classifier - Multiple Model Ensemble \n",
    "from sklearn. ensemble import  VotingClassifier\n",
    "lr = LogisticRegression(solver='lbfgs', max_iter=1400)\n",
    "dt = DecisionTreeClassifier()\n",
    "svm = SVC(kernel = 'poly', degree = 2 )"
   ]
  },
  {
   "cell_type": "code",
   "execution_count": 93,
   "metadata": {
    "execution": {
     "iopub.execute_input": "2022-06-20T17:52:00.685132Z",
     "iopub.status.busy": "2022-06-20T17:52:00.684341Z",
     "iopub.status.idle": "2022-06-20T17:52:00.691247Z",
     "shell.execute_reply": "2022-06-20T17:52:00.690208Z",
     "shell.execute_reply.started": "2022-06-20T17:52:00.685077Z"
    }
   },
   "outputs": [],
   "source": [
    "evc = VotingClassifier( estimators= [('logistic',lr),('dt',dt),('svm',svm)], voting = 'hard')\n"
   ]
  },
  {
   "cell_type": "code",
   "execution_count": 99,
   "metadata": {
    "execution": {
     "iopub.execute_input": "2022-06-20T17:51:09.546264Z",
     "iopub.status.busy": "2022-06-20T17:51:09.545936Z",
     "iopub.status.idle": "2022-06-20T17:51:09.553403Z",
     "shell.execute_reply": "2022-06-20T17:51:09.552409Z",
     "shell.execute_reply.started": "2022-06-20T17:51:09.546234Z"
    }
   },
   "outputs": [],
   "source": [
    "#print(x_train.iloc[1:1000].shape)\n",
    "#print(x_train.shape)\n",
    "#print(x_train.iloc[1:1000].head())\n",
    "#print(x_train.head())"
   ]
  },
  {
   "cell_type": "code",
   "execution_count": 100,
   "metadata": {
    "execution": {
     "iopub.execute_input": "2022-06-20T17:53:36.225778Z",
     "iopub.status.busy": "2022-06-20T17:53:36.225437Z",
     "iopub.status.idle": "2022-06-20T17:53:37.021688Z",
     "shell.execute_reply": "2022-06-20T17:53:37.020614Z",
     "shell.execute_reply.started": "2022-06-20T17:53:36.225742Z"
    }
   },
   "outputs": [
    {
     "name": "stderr",
     "output_type": "stream",
     "text": [
      "C:\\Anaconda\\lib\\site-packages\\sklearn\\linear_model\\_logistic.py:814: ConvergenceWarning: lbfgs failed to converge (status=1):\n",
      "STOP: TOTAL NO. of ITERATIONS REACHED LIMIT.\n",
      "\n",
      "Increase the number of iterations (max_iter) or scale the data as shown in:\n",
      "    https://scikit-learn.org/stable/modules/preprocessing.html\n",
      "Please also refer to the documentation for alternative solver options:\n",
      "    https://scikit-learn.org/stable/modules/linear_model.html#logistic-regression\n",
      "  n_iter_i = _check_optimize_result(\n"
     ]
    },
    {
     "data": {
      "text/plain": [
       "VotingClassifier(estimators=[('logistic', LogisticRegression(max_iter=1400)),\n",
       "                             ('dt', DecisionTreeClassifier()),\n",
       "                             ('svm', SVC(degree=2, kernel='poly'))])"
      ]
     },
     "execution_count": 100,
     "metadata": {},
     "output_type": "execute_result"
    }
   ],
   "source": [
    "evc.fit(x_train,y_train)\n",
    "#evc.fit(x_train.iloc[1:100],y_train.iloc[1:100])"
   ]
  },
  {
   "cell_type": "code",
   "execution_count": 101,
   "metadata": {
    "execution": {
     "iopub.execute_input": "2022-06-20T17:56:59.503518Z",
     "iopub.status.busy": "2022-06-20T17:56:59.503228Z",
     "iopub.status.idle": "2022-06-20T17:56:59.507844Z",
     "shell.execute_reply": "2022-06-20T17:56:59.506954Z",
     "shell.execute_reply.started": "2022-06-20T17:56:59.503487Z"
    }
   },
   "outputs": [],
   "source": [
    "#print(x_train.iloc[1:5,2:4])"
   ]
  },
  {
   "cell_type": "code",
   "execution_count": 102,
   "metadata": {
    "execution": {
     "iopub.execute_input": "2022-06-20T17:54:22.379137Z",
     "iopub.status.busy": "2022-06-20T17:54:22.378791Z",
     "iopub.status.idle": "2022-06-20T17:54:22.394647Z",
     "shell.execute_reply": "2022-06-20T17:54:22.393592Z",
     "shell.execute_reply.started": "2022-06-20T17:54:22.379104Z"
    }
   },
   "outputs": [
    {
     "data": {
      "text/plain": [
       "0.935672514619883"
      ]
     },
     "execution_count": 102,
     "metadata": {},
     "output_type": "execute_result"
    }
   ],
   "source": [
    "evc.score(x_test,y_test)\n",
    "#evc.score(x_train,y_train)"
   ]
  },
  {
   "cell_type": "markdown",
   "metadata": {},
   "source": [
    "# Stacked generalization"
   ]
  },
  {
   "cell_type": "markdown",
   "metadata": {},
   "source": [
    "**Stacked generalization** consists in stacking the output of individual estimator and use a classifier to compute the final prediction. Stacking allows to use the strength of each individual estimator by using their output as input of a final estimator."
   ]
  },
  {
   "cell_type": "code",
   "execution_count": 103,
   "metadata": {
    "execution": {
     "iopub.execute_input": "2022-06-20T17:58:30.887488Z",
     "iopub.status.busy": "2022-06-20T17:58:30.887192Z",
     "iopub.status.idle": "2022-06-20T17:58:30.892697Z",
     "shell.execute_reply": "2022-06-20T17:58:30.891983Z",
     "shell.execute_reply.started": "2022-06-20T17:58:30.887458Z"
    }
   },
   "outputs": [],
   "source": [
    "estimators=[('lr', LogisticRegression(solver='lbfgs',   max_iter=1000)),\n",
    "            ('dt', DecisionTreeClassifier()),\n",
    "            ('svm', SVC(degree=2, kernel='poly'))]"
   ]
  },
  {
   "cell_type": "code",
   "execution_count": null,
   "metadata": {
    "execution": {
     "iopub.execute_input": "2022-06-20T17:59:54.852564Z",
     "iopub.status.busy": "2022-06-20T17:59:54.852274Z",
     "iopub.status.idle": "2022-06-20T17:59:54.861024Z",
     "shell.execute_reply": "2022-06-20T17:59:54.86008Z",
     "shell.execute_reply.started": "2022-06-20T17:59:54.852535Z"
    }
   },
   "outputs": [],
   "source": [
    "from sklearn.svm import LinearSVC\n",
    "from sklearn.preprocessing import StandardScaler\n",
    "from sklearn.pipeline import make_pipeline\n",
    "estimators = [('rf', RandomForestClassifier(n_estimators=10, random_state=42)),\n",
    "              ('svr', make_pipeline(StandardScaler(),\n",
    "                          LinearSVC(random_state=42)))]"
   ]
  },
  {
   "cell_type": "code",
   "execution_count": null,
   "metadata": {
    "execution": {
     "iopub.execute_input": "2022-06-20T18:00:32.766646Z",
     "iopub.status.busy": "2022-06-20T18:00:32.766364Z",
     "iopub.status.idle": "2022-06-20T18:00:32.772215Z",
     "shell.execute_reply": "2022-06-20T18:00:32.770933Z",
     "shell.execute_reply.started": "2022-06-20T18:00:32.766617Z"
    }
   },
   "outputs": [],
   "source": [
    "from sklearn.ensemble import StackingClassifier\n",
    "clf = StackingClassifier(estimators=estimators, final_estimator=LogisticRegression())"
   ]
  },
  {
   "cell_type": "code",
   "execution_count": null,
   "metadata": {
    "execution": {
     "iopub.execute_input": "2022-06-20T18:00:40.606298Z",
     "iopub.status.busy": "2022-06-20T18:00:40.605944Z",
     "iopub.status.idle": "2022-06-20T18:00:40.876248Z",
     "shell.execute_reply": "2022-06-20T18:00:40.874836Z",
     "shell.execute_reply.started": "2022-06-20T18:00:40.606263Z"
    }
   },
   "outputs": [],
   "source": [
    "clf.fit(x_train, y_train).score(x_test, y_test)"
   ]
  },
  {
   "cell_type": "markdown",
   "metadata": {},
   "source": [
    "# Multiclass classification - XGB"
   ]
  },
  {
   "cell_type": "code",
   "execution_count": null,
   "metadata": {
    "execution": {
     "iopub.execute_input": "2022-06-20T18:13:10.478861Z",
     "iopub.status.busy": "2022-06-20T18:13:10.478534Z",
     "iopub.status.idle": "2022-06-20T18:13:11.00191Z",
     "shell.execute_reply": "2022-06-20T18:13:11.00097Z",
     "shell.execute_reply.started": "2022-06-20T18:13:10.47883Z"
    }
   },
   "outputs": [],
   "source": [
    "from sklearn.datasets import load_breast_cancer, load_diabetes, load_wine\n",
    "wine = load_wine()\n",
    "\n",
    "X = wine.data\n",
    "y = wine.target\n",
    "\n",
    "xgb_model = xgb.XGBClassifier(objective=\"multi:softprob\", random_state=42)\n",
    "xgb_model.fit(X, y)\n",
    "\n",
    "y_pred = xgb_model.predict(X)\n",
    "\n",
    "print(confusion_matrix(y, y_pred))\n",
    "print(xgb_model.score(X,y_pred))"
   ]
  },
  {
   "cell_type": "markdown",
   "metadata": {},
   "source": [
    "# VotingClassifier - Example"
   ]
  },
  {
   "cell_type": "code",
   "execution_count": null,
   "metadata": {
    "execution": {
     "iopub.status.busy": "2022-04-24T05:40:02.605555Z",
     "iopub.status.idle": "2022-04-24T05:40:02.605866Z",
     "shell.execute_reply": "2022-04-24T05:40:02.605738Z",
     "shell.execute_reply.started": "2022-04-24T05:40:02.605721Z"
    }
   },
   "outputs": [],
   "source": [
    "import numpy as np\n",
    "from sklearn.linear_model import LogisticRegression\n",
    "from sklearn.naive_bayes import GaussianNB\n",
    "from sklearn.ensemble import RandomForestClassifier, VotingClassifier\n",
    "clf1 = LogisticRegression(multi_class='multinomial', random_state=1)\n",
    "clf2 = RandomForestClassifier(n_estimators=50, random_state=1)\n",
    "clf3 = GaussianNB()\n",
    "X = np.array([[-1, -1], [-2, -1], [-3, -2], [1, 1], [2, 1], [3, 2]])\n",
    "y = np.array([1, 1, 1, 2, 2, 2])\n",
    "eclf1 = VotingClassifier(estimators=[\n",
    "        ('lr', clf1), ('rf', clf2), ('gnb', clf3)], voting='hard')\n",
    "eclf1 = eclf1.fit(X, y)\n",
    "print(eclf1.predict(X))\n",
    "print(eclf1.score(X,y))"
   ]
  }
 ],
 "metadata": {
  "kernelspec": {
   "display_name": "Python 3 (ipykernel)",
   "language": "python",
   "name": "python3"
  },
  "language_info": {
   "codemirror_mode": {
    "name": "ipython",
    "version": 3
   },
   "file_extension": ".py",
   "mimetype": "text/x-python",
   "name": "python",
   "nbconvert_exporter": "python",
   "pygments_lexer": "ipython3",
   "version": "3.9.12"
  }
 },
 "nbformat": 4,
 "nbformat_minor": 4
}
