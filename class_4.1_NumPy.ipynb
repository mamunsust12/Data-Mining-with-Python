{
 "cells": [
  {
   "cell_type": "markdown",
   "id": "9f7406f1",
   "metadata": {},
   "source": [
    "# Python Modules : NumPy"
   ]
  },
  {
   "cell_type": "markdown",
   "id": "7f9d80e6",
   "metadata": {},
   "source": [
    "NumPy was created in 2005 by Travis Oliphant written in Python, C/C++.\n",
    "\n",
    "NumPy or \"Numerical Python\"  is a Python library used for working with arrays.\n",
    "\n",
    "It also has functions for working in domain of linear algebra, fourier transform, and matrices."
   ]
  },
  {
   "cell_type": "code",
   "execution_count": 1,
   "id": "d581c4d0",
   "metadata": {},
   "outputs": [
    {
     "name": "stdout",
     "output_type": "stream",
     "text": [
      "1.21.5\n"
     ]
    }
   ],
   "source": [
    "# importing NumPy\n",
    "import numpy as np\n",
    "#Checking NumPy Version\n",
    "print(np.__version__)"
   ]
  },
  {
   "cell_type": "markdown",
   "id": "5e29e607",
   "metadata": {},
   "source": [
    "# Why Use NumPy?"
   ]
  },
  {
   "cell_type": "markdown",
   "id": "8a90b542",
   "metadata": {},
   "source": [
    "Python lists serve the purpose of arrays, but they are slow to process.\n",
    "\n",
    "NumPy aims to provide an array object that is up to 50x faster than traditional Python lists.\n",
    "\n",
    "The array object in NumPy is called ndarray, it provides a lot of supporting functions that make working with ndarray very easy.\n",
    "\n",
    "Arrays are very frequently used in data science, where speed and resources are very important.\n",
    "\n",
    "*Data Science: is a branch of computer science where we study how to store, use and analyze data for deriving information from it."
   ]
  },
  {
   "cell_type": "markdown",
   "id": "becb46b6",
   "metadata": {},
   "source": [
    "# 4.1.1 Create a NumPy array"
   ]
  },
  {
   "cell_type": "code",
   "execution_count": 4,
   "id": "8c3b7162",
   "metadata": {},
   "outputs": [
    {
     "name": "stdout",
     "output_type": "stream",
     "text": [
      "[1 2 3 4 5]\n",
      "<class 'numpy.ndarray'>\n"
     ]
    }
   ],
   "source": [
    "#We can create a NumPy ndarray object by using the array() function.\n",
    "import numpy\n",
    "arr = numpy.array([1, 2, 3, 4, 5])\n",
    "\n",
    "print(arr)\n",
    "print(type(arr))"
   ]
  },
  {
   "cell_type": "markdown",
   "id": "38cbc47f",
   "metadata": {},
   "source": [
    "To create an ndarray, we can pass a list, tuple or any array-like object into the array() method, and it will be converted into an ndarray:\n",
    "\n",
    "NumPy is usually imported under the np alias (alternate name) import numpy as np"
   ]
  },
  {
   "cell_type": "code",
   "execution_count": 2,
   "id": "5995b433",
   "metadata": {},
   "outputs": [
    {
     "name": "stdout",
     "output_type": "stream",
     "text": [
      "[1.  2.  3.  4.  5.5]\n"
     ]
    }
   ],
   "source": [
    "import numpy as np\n",
    "t=(1, 2, 3, 4, 5.5)\n",
    "#We can create a NumPy ndarray with a tuple\n",
    "arr = np.array(t)\n",
    "\n",
    "print(arr)"
   ]
  },
  {
   "cell_type": "markdown",
   "id": "8384082d",
   "metadata": {},
   "source": [
    "# 4.1.2 Dimensions in Arrays"
   ]
  },
  {
   "cell_type": "code",
   "execution_count": 15,
   "id": "bd12d578",
   "metadata": {},
   "outputs": [],
   "source": [
    "import numpy as np\n",
    "\n",
    "a = np.array(42) # 0-D Arrays\n",
    "b = np.array([1, 2, 3, 4, 5]) # 1-D Arrays\n",
    "c = np.array([[1, 2, 3], [4, 5, 6]]) # 2-D Arrays\n",
    "d = np.array([[[1, 2, 3], [4, 5, 6]], [[1, 2, 3], [4, 5, 6]]]) # 3-D Arrays"
   ]
  },
  {
   "cell_type": "code",
   "execution_count": 14,
   "id": "95139903",
   "metadata": {},
   "outputs": [
    {
     "name": "stdout",
     "output_type": "stream",
     "text": [
      "42\n",
      "0\n",
      "[1 2 3 4 5]\n",
      "1\n",
      "[[1 2 3]\n",
      " [4 5 6]]\n",
      "2\n",
      "[[[1 2 3]\n",
      "  [4 5 6]]\n",
      "\n",
      " [[1 2 3]\n",
      "  [4 5 6]]]\n",
      "3\n"
     ]
    }
   ],
   "source": [
    "print(a)\n",
    "print(a.ndim)\n",
    "print(b)\n",
    "print(b.ndim)\n",
    "print(c)\n",
    "print(c.ndim)\n",
    "print(d)\n",
    "print(d.ndim)"
   ]
  },
  {
   "cell_type": "markdown",
   "id": "cd94443f",
   "metadata": {},
   "source": [
    "# Higher Dimensional Arrays"
   ]
  },
  {
   "cell_type": "code",
   "execution_count": 17,
   "id": "2882d5a0",
   "metadata": {},
   "outputs": [
    {
     "name": "stdout",
     "output_type": "stream",
     "text": [
      "[[[[[1 2 3 4]]]]]\n",
      "number of dimensions : 5\n"
     ]
    }
   ],
   "source": [
    "#Create an array with 5 dimensions and verify that it has 5 dimensions:\n",
    "import numpy as np\n",
    "\n",
    "arr = np.array([1, 2, 3, 4], ndmin=5)\n",
    "\n",
    "print(arr)\n",
    "print('number of dimensions :', arr.ndim)"
   ]
  },
  {
   "cell_type": "markdown",
   "id": "2d0619ae",
   "metadata": {},
   "source": [
    "In this array the innermost dimension (5th dim) has 4 elements, the 4th dim has 1 element that is the vector, the 3rd dim has 1 element that is the matrix with the vector, the 2nd dim has 1 element that is 3D array and 1st dim has 1 element that is a 4D array."
   ]
  },
  {
   "cell_type": "markdown",
   "id": "2eb3b95b",
   "metadata": {},
   "source": [
    "# 4.1.3 Access Array Elements"
   ]
  },
  {
   "cell_type": "code",
   "execution_count": 21,
   "id": "ed54466f",
   "metadata": {},
   "outputs": [
    {
     "name": "stdout",
     "output_type": "stream",
     "text": [
      "10\n",
      "7\n"
     ]
    }
   ],
   "source": [
    "import numpy as np\n",
    "\n",
    "arr = np.array([10, 2, 3, 4])\n",
    "\n",
    "print(arr[0])\n",
    "print(arr[2] + arr[3])"
   ]
  },
  {
   "cell_type": "markdown",
   "id": "effc31e8",
   "metadata": {},
   "source": [
    "Access 2-D Arrays"
   ]
  },
  {
   "cell_type": "code",
   "execution_count": 1,
   "id": "77876ef9",
   "metadata": {},
   "outputs": [
    {
     "name": "stdout",
     "output_type": "stream",
     "text": [
      "2nd element on 1st row:  200\n",
      "5th element on 2nd row:  10\n"
     ]
    }
   ],
   "source": [
    "import numpy as np\n",
    "\n",
    "arr = np.array([[1,200,3,4,5], [6,7,8,9,10]])\n",
    "\n",
    "print('2nd element on 1st row: ', arr[0, 1])\n",
    "print('5th element on 2nd row: ', arr[1, 4])"
   ]
  },
  {
   "cell_type": "markdown",
   "id": "519f5972",
   "metadata": {},
   "source": [
    "Access 3-D Arrays"
   ]
  },
  {
   "cell_type": "code",
   "execution_count": 11,
   "id": "2363af0b",
   "metadata": {},
   "outputs": [
    {
     "name": "stdout",
     "output_type": "stream",
     "text": [
      "[[[  1   2   3]\n",
      "  [  4   5  60]]\n",
      "\n",
      " [[  7   8   9]\n",
      "  [ 10  11  12]]\n",
      "\n",
      " [[  7   8   9]\n",
      "  [ 10  11 120]]]\n",
      "120\n"
     ]
    }
   ],
   "source": [
    "# Access the third element of the second array of the first array:\n",
    "import numpy as np\n",
    "\n",
    "arr = np.array([\n",
    "                [[1, 2, 3], [4, 5, 60]],\n",
    "                [[7, 8, 9], [10, 11, 12]],\n",
    "                [[7, 8, 9], [10, 11, 120]],\n",
    "               ])\n",
    "print(arr)\n",
    "print(arr[2, 1, 2])"
   ]
  },
  {
   "cell_type": "markdown",
   "id": "970462e4",
   "metadata": {},
   "source": [
    "# Negative Indexing"
   ]
  },
  {
   "cell_type": "code",
   "execution_count": 3,
   "id": "65d5bcfb",
   "metadata": {},
   "outputs": [
    {
     "name": "stdout",
     "output_type": "stream",
     "text": [
      "Last element from 2nd dim:  100\n",
      "Last element from 2nd dim:  100\n",
      "Last element from 2nd dim:  100\n"
     ]
    }
   ],
   "source": [
    "import numpy as np\n",
    "\n",
    "arr = np.array([[1,2,3,4,5], [6,7,8,9,100]])\n",
    "print('Last element from 2nd dim: ', arr[1, 4])\n",
    "print('Last element from 2nd dim: ', arr[1, -1])\n",
    "print('Last element from 2nd dim: ', arr[-1, -1])"
   ]
  },
  {
   "cell_type": "markdown",
   "id": "e510f91b",
   "metadata": {},
   "source": [
    "# 4.1.4 Slicing arrays"
   ]
  },
  {
   "cell_type": "markdown",
   "id": "7b243122",
   "metadata": {},
   "source": [
    "Syntax : [start:end:step].\n",
    "\n",
    "If we don't pass start its considered 0\n",
    "\n",
    "If we don't pass end its considered length of array in that dimension\n",
    "\n",
    "If we don't pass step its considered 1"
   ]
  },
  {
   "cell_type": "code",
   "execution_count": 4,
   "id": "6e15fcec",
   "metadata": {},
   "outputs": [
    {
     "name": "stdout",
     "output_type": "stream",
     "text": [
      "[20 30 40 50]\n"
     ]
    }
   ],
   "source": [
    "import numpy as np\n",
    "l=[10, 20, 30, 40, 50, 60, 70]\n",
    "arr = np.array(l)\n",
    "\n",
    "print(arr[1:5])"
   ]
  },
  {
   "cell_type": "markdown",
   "id": "d34cd8b2",
   "metadata": {},
   "source": [
    "The result includes the start index, but excludes the end index."
   ]
  },
  {
   "cell_type": "code",
   "execution_count": 5,
   "id": "9418d62e",
   "metadata": {},
   "outputs": [
    {
     "name": "stdout",
     "output_type": "stream",
     "text": [
      "[50 60 70]\n",
      "[10 20 30 40]\n"
     ]
    }
   ],
   "source": [
    "l=[10, 20, 30, 40, 50, 60, 70]\n",
    "# Slice elements from index 4 to the end of the array:\n",
    "print(arr[4:])\n",
    "# Slice elements from the beginning to index 4 (not included):\n",
    "print(arr[:4])"
   ]
  },
  {
   "cell_type": "markdown",
   "id": "677cc796",
   "metadata": {},
   "source": [
    "# 4.1.4.1 Negative Slicing"
   ]
  },
  {
   "cell_type": "code",
   "execution_count": 38,
   "id": "15739ab0",
   "metadata": {},
   "outputs": [
    {
     "name": "stdout",
     "output_type": "stream",
     "text": [
      "[5 6]\n"
     ]
    }
   ],
   "source": [
    "# Slice from the index 3 from the end to index 1 from the end:\n",
    "import numpy as np\n",
    "\n",
    "arr = np.array([1, 2, 3, 4, 5, 6, 7])\n",
    "\n",
    "print(arr[-3:-1]) # start:end"
   ]
  },
  {
   "cell_type": "code",
   "execution_count": 13,
   "id": "422b9d45",
   "metadata": {},
   "outputs": [
    {
     "name": "stdout",
     "output_type": "stream",
     "text": [
      "[2 4]\n",
      "[3 5]\n"
     ]
    }
   ],
   "source": [
    "#Use the step value to determine the step of the slicing:\n",
    "import numpy as np\n",
    "\n",
    "arr = np.array([1, 2, 3, 4, 5, 6, 7])\n",
    "\n",
    "print(arr[1:5:2]) # start:end:step\n",
    "print(arr[-5:-2:2]) # start:end:step"
   ]
  },
  {
   "cell_type": "code",
   "execution_count": 6,
   "id": "2c572219",
   "metadata": {},
   "outputs": [
    {
     "name": "stdout",
     "output_type": "stream",
     "text": [
      "[1 3 5 7]\n"
     ]
    }
   ],
   "source": [
    "# Return every other element from the entire array:\n",
    "import numpy as np\n",
    "\n",
    "arr = np.array([1, 2, 3, 4, 5, 6, 7])\n",
    "\n",
    "print(arr[ : :2])# start:end:step"
   ]
  },
  {
   "cell_type": "markdown",
   "id": "d81f61a0",
   "metadata": {},
   "source": [
    "# 4.1.4.2 Slicing 2-D Arrays"
   ]
  },
  {
   "cell_type": "code",
   "execution_count": 43,
   "id": "c9430f7c",
   "metadata": {},
   "outputs": [
    {
     "name": "stdout",
     "output_type": "stream",
     "text": [
      "[[ 1  2  3  4  5]\n",
      " [ 6  7  8  9 10]]\n",
      "[7 8 9]\n"
     ]
    }
   ],
   "source": [
    "import numpy as np\n",
    "\n",
    "arr = np.array([[1, 2, 3, 4, 5], [6, 7, 8, 9, 10]])\n",
    "\n",
    "print(arr)\n",
    "print(arr[1, 1:4]) "
   ]
  },
  {
   "cell_type": "code",
   "execution_count": 46,
   "id": "2199c355",
   "metadata": {},
   "outputs": [
    {
     "name": "stdout",
     "output_type": "stream",
     "text": [
      "[3 8]\n"
     ]
    }
   ],
   "source": [
    "#From both elements, return index 2:\n",
    "import numpy as np\n",
    "\n",
    "arr = np.array([[1, 2, 3, 4, 5], [6, 7, 8, 9, 10]])\n",
    "\n",
    "print(arr[0:2, 2]) # row, col"
   ]
  },
  {
   "cell_type": "code",
   "execution_count": 51,
   "id": "adb6657e",
   "metadata": {},
   "outputs": [
    {
     "name": "stdout",
     "output_type": "stream",
     "text": [
      "[[2 3 4]\n",
      " [7 8 9]]\n"
     ]
    }
   ],
   "source": [
    "\"\"\"From both elements, slice index 1 to index 4 (not included), \n",
    "this will return a 2-D array:\"\"\"\n",
    "\n",
    "import numpy as np\n",
    "\n",
    "arr = np.array([[1, 2, 3, 4, 5], [6, 7, 8, 9, 10]])\n",
    "\n",
    "print(arr[0:2, 1:4])"
   ]
  },
  {
   "cell_type": "markdown",
   "id": "bcc038e7",
   "metadata": {},
   "source": [
    "# 4.1.5 NumPy Data Types : ob.astype()"
   ]
  },
  {
   "cell_type": "markdown",
   "id": "f1d7319c",
   "metadata": {},
   "source": [
    "Below is a list of all data types in NumPy and the characters used to represent them.\n",
    "\n",
    "i - integer\n",
    "b - boolean\n",
    "u - unsigned integer\n",
    "f - float\n",
    "c - complex float\n",
    "m - timedelta\n",
    "M - datetime\n",
    "O - object\n",
    "S - string\n",
    "U - unicode string\n",
    "V - fixed chunk of memory for other type ( void )"
   ]
  },
  {
   "cell_type": "markdown",
   "id": "34a620c8",
   "metadata": {},
   "source": [
    "# 4.1.5.1 Checking the Data Type of an Array\n",
    "The NumPy array object has a property called dtype that returns the data type of the array:"
   ]
  },
  {
   "cell_type": "code",
   "execution_count": 3,
   "id": "fed2b00a",
   "metadata": {},
   "outputs": [
    {
     "name": "stdout",
     "output_type": "stream",
     "text": [
      "[1 2 3 4]\n",
      "<class 'numpy.ndarray'>\n",
      "int32\n"
     ]
    }
   ],
   "source": [
    "import numpy as np\n",
    "\n",
    "arr = np.array([1, 2, 3, 4])\n",
    "\n",
    "print(arr)\n",
    "print(type(arr))\n",
    "print(arr.dtype)"
   ]
  },
  {
   "cell_type": "code",
   "execution_count": 18,
   "id": "e390918b",
   "metadata": {},
   "outputs": [
    {
     "name": "stdout",
     "output_type": "stream",
     "text": [
      "[1 2 3 4]\n",
      "int64\n"
     ]
    }
   ],
   "source": [
    "#Create an array with data type 4 bytes (32 bit) integer:\n",
    "import numpy as np\n",
    "\n",
    "arr = np.array([1, 2, 3, 4], dtype='i8') #  change to : dtype='i8'\n",
    "\n",
    "print(arr)\n",
    "print(arr.dtype)"
   ]
  },
  {
   "cell_type": "markdown",
   "id": "8fd121e7",
   "metadata": {},
   "source": [
    "# 5.1.5.2 Converting Data Type on Existing Arrays\n",
    "The best way to change the data type of an existing array, is to make a copy of the array with the astype() method.\n",
    "\n",
    "The astype() function creates a copy of the array, and allows you to specify the data type as a parameter."
   ]
  },
  {
   "cell_type": "code",
   "execution_count": 9,
   "id": "b3fc124e",
   "metadata": {},
   "outputs": [
    {
     "name": "stdout",
     "output_type": "stream",
     "text": [
      "[1 2 3]\n",
      "int32\n"
     ]
    }
   ],
   "source": [
    "#Change data type from float to integer by using 'i' as parameter value:\n",
    "import numpy as np\n",
    "\n",
    "arr = np.array([1.1, 2.1, 3.1])\n",
    "#arr=int(arr)\n",
    "\n",
    "#newarr = arr.astype(bool)\n",
    "#newarr = arr.astype('i') # a string, like 'f' for float, 'i' for integer etc\n",
    "newarr = arr.astype('int') # float for float and int for integer.\n",
    "#arr = np.array(newarr, dtype='i8') #  change to : dtype='i8'\n",
    "\n",
    "\n",
    "print(newarr)\n",
    "print(newarr.dtype)"
   ]
  },
  {
   "cell_type": "markdown",
   "id": "e26b2148",
   "metadata": {},
   "source": [
    "# 5.1.6.1  NumPy Array Shape"
   ]
  },
  {
   "cell_type": "code",
   "execution_count": 13,
   "id": "f472121f",
   "metadata": {},
   "outputs": [
    {
     "name": "stdout",
     "output_type": "stream",
     "text": [
      "(2, 4)\n"
     ]
    }
   ],
   "source": [
    "# Print the shape of a 2-D array:\n",
    "import numpy as np\n",
    "\n",
    "arr = np.array([[1, 2, 3, 4], [5, 6, 7, 8]])\n",
    "\n",
    "print(arr.shape)"
   ]
  },
  {
   "cell_type": "markdown",
   "id": "c254005b",
   "metadata": {},
   "source": [
    "Create an array with 5 dimensions using ndmin using a vector with values 1,2,3,4 and verify that last dimension has value 4:"
   ]
  },
  {
   "cell_type": "code",
   "execution_count": 14,
   "id": "31c6adc7",
   "metadata": {},
   "outputs": [
    {
     "name": "stdout",
     "output_type": "stream",
     "text": [
      "[[[[[1 2 3 4]]]]]\n",
      "shape of array : (1, 1, 1, 1, 4)\n"
     ]
    }
   ],
   "source": [
    "\n",
    "import numpy as np\n",
    "\n",
    "arr = np.array([1, 2, 3, 4], ndmin=5)\n",
    "\n",
    "print(arr)\n",
    "print('shape of array :', arr.shape)"
   ]
  },
  {
   "cell_type": "markdown",
   "id": "ef3520ce",
   "metadata": {},
   "source": [
    "# 5.1.6.2 NumPy Array Reshaping"
   ]
  },
  {
   "cell_type": "markdown",
   "id": "c897188c",
   "metadata": {},
   "source": [
    "Reshaping means changing the shape of an array.\n",
    "\n",
    "The shape of an array is the number of elements in each dimension.\n",
    "\n",
    "By reshaping we can add or remove dimensions or change number of elements in each dimension."
   ]
  },
  {
   "cell_type": "markdown",
   "id": "6b6d25fe",
   "metadata": {},
   "source": [
    "Reshape From 1-D to 2-D"
   ]
  },
  {
   "cell_type": "code",
   "execution_count": 20,
   "id": "2c5e6dd2",
   "metadata": {},
   "outputs": [
    {
     "name": "stdout",
     "output_type": "stream",
     "text": [
      "[[ 1  2  3]\n",
      " [ 4  5  6]\n",
      " [ 7  8  9]\n",
      " [10 11 12]]\n"
     ]
    }
   ],
   "source": [
    "import numpy as np\n",
    "\n",
    "arr = np.array([1, 2, 3, 4, 5, 6, 7, 8, 9, 10, 11, 12])\n",
    "\n",
    "newarr = arr.reshape(4, 3)\n",
    "print(newarr)"
   ]
  },
  {
   "cell_type": "code",
   "execution_count": 28,
   "id": "9c57dcc8",
   "metadata": {},
   "outputs": [
    {
     "name": "stdout",
     "output_type": "stream",
     "text": [
      "[[ 1  2  3  4]\n",
      " [ 5  6  7  8]\n",
      " [ 9 10 11 12]]\n"
     ]
    }
   ],
   "source": [
    "newarr = arr.reshape(3, 4)\n",
    "print(newarr)"
   ]
  },
  {
   "cell_type": "markdown",
   "id": "89db7cd9",
   "metadata": {},
   "source": [
    "Reshape From 1-D to 3-D"
   ]
  },
  {
   "cell_type": "code",
   "execution_count": 21,
   "id": "9214f872",
   "metadata": {},
   "outputs": [
    {
     "name": "stdout",
     "output_type": "stream",
     "text": [
      "[[[ 1  2]\n",
      "  [ 3  4]\n",
      "  [ 5  6]]\n",
      "\n",
      " [[ 7  8]\n",
      "  [ 9 10]\n",
      "  [11 12]]]\n"
     ]
    }
   ],
   "source": [
    "#The outermost dimension will have 2 arrays that contains 3 arrays, each with 2 elements:\n",
    "import numpy as np\n",
    "\n",
    "arr = np.array([1, 2, 3, 4, 5, 6, 7, 8, 9, 10, 11, 12])\n",
    "\n",
    "newarr = arr.reshape(2, 3, 2)\n",
    "print(newarr)"
   ]
  },
  {
   "cell_type": "markdown",
   "id": "0014f5d4",
   "metadata": {},
   "source": [
    "#  5.1.6.3  Flattening the arrays"
   ]
  },
  {
   "cell_type": "markdown",
   "id": "fdfad70b",
   "metadata": {},
   "source": [
    "Flattening array means converting a multidimensional array into a 1D array.\n",
    "\n",
    "We can use reshape(-1) to do this.\n",
    "\n",
    "#related operations - flatten, ravel,rot90, flip, fliplr, flipud"
   ]
  },
  {
   "cell_type": "code",
   "execution_count": 15,
   "id": "9ada543c",
   "metadata": {},
   "outputs": [
    {
     "name": "stdout",
     "output_type": "stream",
     "text": [
      "[1 2 3 4 5 6]\n"
     ]
    }
   ],
   "source": [
    "import numpy as np\n",
    "\n",
    "arr = np.array([[1, 2, 3], [4, 5, 6]])\n",
    "\n",
    "newarr = arr.reshape(-1)\n",
    "\n",
    "print(newarr)"
   ]
  },
  {
   "cell_type": "markdown",
   "id": "a274d1fe",
   "metadata": {},
   "source": [
    "# 5.1.7 numpy.arange() in Python\n",
    "The arange([start,] stop[, step,][, dtype]) : Returns an array with evenly spaced elements as per the interval. The interval mentioned is half-opened i.e. [Start, Stop) "
   ]
  },
  {
   "cell_type": "code",
   "execution_count": 17,
   "id": "49d0b0f1",
   "metadata": {},
   "outputs": [
    {
     "name": "stdout",
     "output_type": "stream",
     "text": [
      "A\n",
      " [[0 1]\n",
      " [2 3]] \n",
      "\n",
      "A\n",
      " [4 5 6 7 8 9] \n",
      "\n",
      "A\n",
      " [ 4  7 10 13 16 19] \n",
      "\n"
     ]
    }
   ],
   "source": [
    "# numpy.arange method\n",
    " \n",
    "import numpy as geek\n",
    " \n",
    "print(\"A\\n\", geek.arange(4).reshape(2, 2), \"\\n\")\n",
    "print(\"A\\n\", geek.arange(4, 10), \"\\n\")\n",
    "print(\"A\\n\", geek.arange(4, 20, 3), \"\\n\")"
   ]
  },
  {
   "cell_type": "markdown",
   "id": "cad60574",
   "metadata": {},
   "source": [
    "The advantage of numpy.arange() over the normal in-built range() function is that it allows us to generate sequences of numbers that are not integers."
   ]
  },
  {
   "cell_type": "code",
   "execution_count": 1,
   "id": "3d104a05",
   "metadata": {},
   "outputs": [
    {
     "name": "stdout",
     "output_type": "stream",
     "text": [
      "[1.  1.1 1.2 1.3 1.4 1.5 1.6 1.7 1.8 1.9]\n"
     ]
    }
   ],
   "source": [
    "# numpy.arange method\n",
    " \n",
    "import numpy as np\n",
    " \n",
    "# Printing all numbers from 1 to\n",
    "# 2 in steps of 0.1\n",
    "print(np.arange(1, 2, 0.1))"
   ]
  },
  {
   "cell_type": "code",
   "execution_count": 15,
   "id": "b778bb58",
   "metadata": {},
   "outputs": [],
   "source": [
    "#a=int(arr) #produce error"
   ]
  },
  {
   "cell_type": "markdown",
   "id": "a0e54abf",
   "metadata": {},
   "source": [
    "# 5.1.7.1  NumPy Array Iterating"
   ]
  },
  {
   "cell_type": "code",
   "execution_count": 35,
   "id": "6aaff3d2",
   "metadata": {},
   "outputs": [
    {
     "name": "stdout",
     "output_type": "stream",
     "text": [
      "[1 2 3]\n",
      "[4 5 6]\n"
     ]
    }
   ],
   "source": [
    "import numpy as np\n",
    "\n",
    "arr = np.array([[1, 2, 3], [4, 5, 6]])\n",
    "\n",
    "for x in arr:\n",
    "    print(x)"
   ]
  },
  {
   "cell_type": "code",
   "execution_count": 36,
   "id": "9866233e",
   "metadata": {},
   "outputs": [
    {
     "name": "stdout",
     "output_type": "stream",
     "text": [
      "1\n",
      "2\n",
      "3\n",
      "4\n",
      "5\n",
      "6\n"
     ]
    }
   ],
   "source": [
    "import numpy as np\n",
    "\n",
    "arr = np.array([[1, 2, 3], [4, 5, 6]])\n",
    "\n",
    "for x in arr:\n",
    "    for y in x:\n",
    "        print(y)"
   ]
  },
  {
   "cell_type": "markdown",
   "id": "9d4eb9b7",
   "metadata": {},
   "source": [
    "# 5.1.8 NumPy Array Copy vs View\n",
    "The copy is a new array, and the view is just a view of the original array."
   ]
  },
  {
   "cell_type": "code",
   "execution_count": 20,
   "id": "d828801c",
   "metadata": {},
   "outputs": [
    {
     "name": "stdout",
     "output_type": "stream",
     "text": [
      "[42  2  3  4  5]\n",
      "[1 2 3 4 5]\n"
     ]
    }
   ],
   "source": [
    "import numpy as np\n",
    "\n",
    "arr = np.array([1, 2, 3, 4, 5])\n",
    "x = arr.copy()\n",
    "arr[0] = 42\n",
    "\n",
    "print(arr)\n",
    "print(x)"
   ]
  },
  {
   "cell_type": "code",
   "execution_count": 21,
   "id": "d18dfb3d",
   "metadata": {},
   "outputs": [
    {
     "name": "stdout",
     "output_type": "stream",
     "text": [
      "[42  2  3  4  5]\n",
      "[42  2  3  4  5]\n"
     ]
    }
   ],
   "source": [
    "import numpy as np\n",
    "\n",
    "arr = np.array([1, 2, 3, 4, 5])\n",
    "x = arr.view()\n",
    "arr[0] = 42\n",
    "\n",
    "print(arr)\n",
    "print(x)"
   ]
  },
  {
   "cell_type": "code",
   "execution_count": 22,
   "id": "d1953586",
   "metadata": {},
   "outputs": [
    {
     "name": "stdout",
     "output_type": "stream",
     "text": [
      "None\n",
      "[1 2 3 4 5]\n"
     ]
    }
   ],
   "source": [
    "import numpy as np\n",
    "\n",
    "arr = np.array([1, 2, 3, 4, 5])\n",
    "\n",
    "x = arr.copy()\n",
    "y = arr.view()\n",
    "#Every NumPy array has the attribute base that returns None if the array owns the data.\n",
    "#Otherwise, the base  attribute refers to the original object.\n",
    "print(x.base)\n",
    "print(y.base)"
   ]
  },
  {
   "cell_type": "markdown",
   "id": "9bf8c2bf",
   "metadata": {},
   "source": [
    "# 8.1.9 Joining NumPy Array"
   ]
  },
  {
   "cell_type": "code",
   "execution_count": 23,
   "id": "75eaceaa",
   "metadata": {},
   "outputs": [
    {
     "name": "stdout",
     "output_type": "stream",
     "text": [
      "[1 2 3 4 5 6]\n"
     ]
    }
   ],
   "source": [
    "import numpy as np\n",
    "\n",
    "arr1 = np.array([1, 2, 3])\n",
    "\n",
    "arr2 = np.array([4, 5, 6])\n",
    "\n",
    "arr = np.concatenate((arr1, arr2))\n",
    "\n",
    "print(arr)"
   ]
  },
  {
   "cell_type": "markdown",
   "id": "a9ed4b16",
   "metadata": {},
   "source": [
    "Joining 2-D array"
   ]
  },
  {
   "cell_type": "code",
   "execution_count": 24,
   "id": "da134421",
   "metadata": {},
   "outputs": [
    {
     "name": "stdout",
     "output_type": "stream",
     "text": [
      "(2, 2)\n"
     ]
    }
   ],
   "source": [
    "import numpy as np\n",
    "\n",
    "arr1 = np.array([[1, 2], [3, 4]])\n",
    "arr2 = np.array([[5, 6], [7, 8]])\n",
    "\n",
    "print(arr1.shape)"
   ]
  },
  {
   "cell_type": "markdown",
   "id": "a230bec7",
   "metadata": {},
   "source": [
    "Join two 2-D arrays along column (axis=0):"
   ]
  },
  {
   "cell_type": "code",
   "execution_count": 26,
   "id": "831bc2f4",
   "metadata": {},
   "outputs": [
    {
     "name": "stdout",
     "output_type": "stream",
     "text": [
      "(4, 2)\n",
      "[[1 2]\n",
      " [3 4]\n",
      " [5 6]\n",
      " [7 8]]\n"
     ]
    }
   ],
   "source": [
    "arr = np.concatenate((arr1, arr2))\n",
    "\n",
    "print(arr.shape)\n",
    "print(arr)"
   ]
  },
  {
   "cell_type": "markdown",
   "id": "6e5f1b2c",
   "metadata": {},
   "source": [
    "Join two 2-D arrays along rows (axis=1):"
   ]
  },
  {
   "cell_type": "code",
   "execution_count": 24,
   "id": "b0bc5700",
   "metadata": {},
   "outputs": [
    {
     "name": "stdout",
     "output_type": "stream",
     "text": [
      "[[1 2]\n",
      " [3 4]]\n",
      "[[5 6]\n",
      " [7 8]]\n"
     ]
    }
   ],
   "source": [
    "arr1 = np.array([[1, 2], [3, 4]])\n",
    "arr2 = np.array([[5, 6], [7, 8]])\n",
    "print(arr1)\n",
    "print(arr2)"
   ]
  },
  {
   "cell_type": "code",
   "execution_count": 26,
   "id": "372b2b7e",
   "metadata": {},
   "outputs": [
    {
     "name": "stdout",
     "output_type": "stream",
     "text": [
      "(2, 4)\n",
      "[[1 2 5 6]\n",
      " [3 4 7 8]]\n"
     ]
    }
   ],
   "source": [
    "arr = np.concatenate((arr1, arr2), axis=1)\n",
    "print(arr.shape)\n",
    "print(arr)"
   ]
  },
  {
   "cell_type": "markdown",
   "id": "193bac21",
   "metadata": {},
   "source": [
    "Joining Arrays Using Stack Functions"
   ]
  },
  {
   "cell_type": "code",
   "execution_count": 28,
   "id": "c37ffd20",
   "metadata": {},
   "outputs": [
    {
     "name": "stdout",
     "output_type": "stream",
     "text": [
      "[[[1 4]\n",
      "  [2 5]\n",
      "  [3 6]]]\n"
     ]
    }
   ],
   "source": [
    "import numpy as np\n",
    "\n",
    "arr1 = np.array([1, 2, 3])\n",
    "arr2 = np.array([4, 5, 6])\n",
    "\n",
    "#NumPy provides a helper function: hstack() to stack along rows.\n",
    "arr = np.hstack((arr1, arr2))\n",
    "\n",
    "#NumPy provides a helper function: vstack()  to stack along columns.\n",
    "arr = np.vstack((arr1, arr2))\n",
    "\n",
    "#NumPy provides a helper function: dstack() to stack along height, which is the same as depth.\n",
    "arr = np.dstack((arr1, arr2))\n",
    "\n",
    "print(arr)"
   ]
  },
  {
   "cell_type": "markdown",
   "id": "32c48a72",
   "metadata": {},
   "source": [
    "# 5.1. 10 Splitting NumPy Arrays"
   ]
  },
  {
   "cell_type": "code",
   "execution_count": 27,
   "id": "6636f081",
   "metadata": {},
   "outputs": [
    {
     "name": "stdout",
     "output_type": "stream",
     "text": [
      "[array([1, 2]), array([3, 4]), array([5, 6])]\n"
     ]
    }
   ],
   "source": [
    "import numpy as np\n",
    "\n",
    "arr = np.array([1, 2, 3, 4, 5, 6])\n",
    "\n",
    "newarr = np.array_split(arr, 3)\n",
    "\n",
    "print(newarr)"
   ]
  },
  {
   "cell_type": "code",
   "execution_count": 30,
   "id": "95de3050",
   "metadata": {},
   "outputs": [
    {
     "name": "stdout",
     "output_type": "stream",
     "text": [
      "[1 2]\n",
      "[3 4]\n",
      "[5 6]\n"
     ]
    }
   ],
   "source": [
    "import numpy as np\n",
    "\n",
    "arr = np.array([1, 2, 3, 4, 5, 6])\n",
    "\n",
    "newarr = np.array_split(arr, 3)\n",
    "\n",
    "print(newarr[0])\n",
    "print(newarr[1])\n",
    "print(newarr[2])"
   ]
  },
  {
   "cell_type": "markdown",
   "id": "698081c4",
   "metadata": {},
   "source": [
    "# 5.1.11 Searching Arrays\n",
    "To search an array, use the where() method."
   ]
  },
  {
   "cell_type": "code",
   "execution_count": 31,
   "id": "1c0e4ab8",
   "metadata": {},
   "outputs": [
    {
     "name": "stdout",
     "output_type": "stream",
     "text": [
      "(array([3, 5, 6], dtype=int64),)\n"
     ]
    }
   ],
   "source": [
    "import numpy as np\n",
    "\n",
    "arr = np.array([1, 2, 3, 4, 5, 4, 4])\n",
    "\n",
    "x = np.where(arr == 4)\n",
    "\n",
    "print(x)"
   ]
  },
  {
   "cell_type": "code",
   "execution_count": null,
   "id": "8c5ea2b0",
   "metadata": {},
   "outputs": [],
   "source": []
  },
  {
   "cell_type": "markdown",
   "id": "7f430ea3",
   "metadata": {},
   "source": [
    "# 5.1.12 NumPy Sorting Arrays"
   ]
  },
  {
   "cell_type": "code",
   "execution_count": 33,
   "id": "e0e46d66",
   "metadata": {},
   "outputs": [
    {
     "name": "stdout",
     "output_type": "stream",
     "text": [
      "[False  True  True]\n"
     ]
    }
   ],
   "source": [
    "import numpy as np\n",
    "\n",
    "arr = np.array([True, False, True])\n",
    "\n",
    "print(np.sort(arr))"
   ]
  },
  {
   "cell_type": "code",
   "execution_count": 34,
   "id": "9ba89463",
   "metadata": {},
   "outputs": [
    {
     "name": "stdout",
     "output_type": "stream",
     "text": [
      "[[2 3 4]\n",
      " [0 1 5]]\n"
     ]
    }
   ],
   "source": [
    "import numpy as np\n",
    "\n",
    "arr = np.array([[3, 2, 4], [5, 0, 1]])\n",
    "\n",
    "print(np.sort(arr))"
   ]
  },
  {
   "cell_type": "markdown",
   "id": "cc1c0094",
   "metadata": {},
   "source": [
    "# 5.1. 13  Filter "
   ]
  },
  {
   "cell_type": "code",
   "execution_count": 53,
   "id": "1ede61b8",
   "metadata": {},
   "outputs": [
    {
     "name": "stdout",
     "output_type": "stream",
     "text": [
      "[41 43]\n"
     ]
    }
   ],
   "source": [
    "import numpy as np\n",
    "\n",
    "arr = np.array([41, 42, 43, 44])\n",
    "\n",
    "x = [True, False, True, False]\n",
    "\n",
    "newarr = arr[x]\n",
    "\n",
    "print(newarr)"
   ]
  },
  {
   "cell_type": "code",
   "execution_count": 54,
   "id": "3f698496",
   "metadata": {},
   "outputs": [
    {
     "name": "stdout",
     "output_type": "stream",
     "text": [
      "[False, False, True, True]\n",
      "[43 44]\n"
     ]
    }
   ],
   "source": [
    "import numpy as np\n",
    "\n",
    "arr = np.array([41, 42, 43, 44])\n",
    "\n",
    "# Create an empty list\n",
    "filter_arr = []\n",
    "\n",
    "# go through each element in arr\n",
    "for element in arr:\n",
    "  # if the element is higher than 42, set the value to True, otherwise False:\n",
    "  if element > 42:\n",
    "    filter_arr.append(True)\n",
    "  else:\n",
    "    filter_arr.append(False)\n",
    "\n",
    "newarr = arr[filter_arr]\n",
    "\n",
    "print(filter_arr)\n",
    "print(newarr)"
   ]
  },
  {
   "cell_type": "code",
   "execution_count": null,
   "id": "fe799f72",
   "metadata": {},
   "outputs": [],
   "source": []
  }
 ],
 "metadata": {
  "kernelspec": {
   "display_name": "Python 3 (ipykernel)",
   "language": "python",
   "name": "python3"
  },
  "language_info": {
   "codemirror_mode": {
    "name": "ipython",
    "version": 3
   },
   "file_extension": ".py",
   "mimetype": "text/x-python",
   "name": "python",
   "nbconvert_exporter": "python",
   "pygments_lexer": "ipython3",
   "version": "3.9.12"
  }
 },
 "nbformat": 4,
 "nbformat_minor": 5
}
